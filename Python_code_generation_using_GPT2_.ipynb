{
  "nbformat": 4,
  "nbformat_minor": 0,
  "metadata": {
    "colab": {
      "name": "Python code generation using GPT2 .ipynb",
      "provenance": []
    },
    "kernelspec": {
      "name": "python3",
      "display_name": "Python 3"
    },
    "accelerator": "GPU"
  },
  "cells": [
    {
      "cell_type": "code",
      "metadata": {
        "id": "ArUpvmf0a1nI",
        "colab": {
          "base_uri": "https://localhost:8080/"
        },
        "outputId": "a7a8ca1b-9e5c-4c7d-c9f6-06e5f50fc933"
      },
      "source": [
        "from google.colab import drive\n",
        "drive.mount('/content/gdrive',force_remount=True)"
      ],
      "execution_count": null,
      "outputs": [
        {
          "output_type": "stream",
          "text": [
            "Mounted at /content/gdrive\n"
          ],
          "name": "stdout"
        }
      ]
    },
    {
      "cell_type": "code",
      "metadata": {
        "id": "Y8ZGnpOxbduk"
      },
      "source": [
        "import glob\n",
        "import os\n",
        "path = '/content/gdrive/My Drive/gpt2/python'\n",
        "source_files = glob.glob(f'{path}/**/*.py', recursive=True)"
      ],
      "execution_count": null,
      "outputs": []
    },
    {
      "cell_type": "code",
      "metadata": {
        "id": "UEYHEU_8bf-X",
        "colab": {
          "base_uri": "https://localhost:8080/",
          "height": 615
        },
        "outputId": "6ce561d8-1c59-4f7d-cd72-1f8cb949ad43"
      },
      "source": [
        "!pip install transformers"
      ],
      "execution_count": null,
      "outputs": [
        {
          "output_type": "stream",
          "text": [
            "Collecting transformers\n",
            "\u001b[?25l  Downloading https://files.pythonhosted.org/packages/d8/f4/9f93f06dd2c57c7cd7aa515ffbf9fcfd8a084b92285732289f4a5696dd91/transformers-3.2.0-py3-none-any.whl (1.0MB)\n",
            "\u001b[K     |████████████████████████████████| 1.0MB 8.5MB/s \n",
            "\u001b[?25hRequirement already satisfied: numpy in /usr/local/lib/python3.6/dist-packages (from transformers) (1.18.5)\n",
            "Collecting sentencepiece!=0.1.92\n",
            "\u001b[?25l  Downloading https://files.pythonhosted.org/packages/d4/a4/d0a884c4300004a78cca907a6ff9a5e9fe4f090f5d95ab341c53d28cbc58/sentencepiece-0.1.91-cp36-cp36m-manylinux1_x86_64.whl (1.1MB)\n",
            "\u001b[K     |████████████████████████████████| 1.1MB 30.3MB/s \n",
            "\u001b[?25hRequirement already satisfied: tqdm>=4.27 in /usr/local/lib/python3.6/dist-packages (from transformers) (4.41.1)\n",
            "Requirement already satisfied: regex!=2019.12.17 in /usr/local/lib/python3.6/dist-packages (from transformers) (2019.12.20)\n",
            "Collecting tokenizers==0.8.1.rc2\n",
            "\u001b[?25l  Downloading https://files.pythonhosted.org/packages/80/83/8b9fccb9e48eeb575ee19179e2bdde0ee9a1904f97de5f02d19016b8804f/tokenizers-0.8.1rc2-cp36-cp36m-manylinux1_x86_64.whl (3.0MB)\n",
            "\u001b[K     |████████████████████████████████| 3.0MB 60.8MB/s \n",
            "\u001b[?25hRequirement already satisfied: filelock in /usr/local/lib/python3.6/dist-packages (from transformers) (3.0.12)\n",
            "Collecting sacremoses\n",
            "\u001b[?25l  Downloading https://files.pythonhosted.org/packages/7d/34/09d19aff26edcc8eb2a01bed8e98f13a1537005d31e95233fd48216eed10/sacremoses-0.0.43.tar.gz (883kB)\n",
            "\u001b[K     |████████████████████████████████| 890kB 46.8MB/s \n",
            "\u001b[?25hRequirement already satisfied: dataclasses; python_version < \"3.7\" in /usr/local/lib/python3.6/dist-packages (from transformers) (0.7)\n",
            "Requirement already satisfied: packaging in /usr/local/lib/python3.6/dist-packages (from transformers) (20.4)\n",
            "Requirement already satisfied: requests in /usr/local/lib/python3.6/dist-packages (from transformers) (2.23.0)\n",
            "Requirement already satisfied: six in /usr/local/lib/python3.6/dist-packages (from sacremoses->transformers) (1.15.0)\n",
            "Requirement already satisfied: click in /usr/local/lib/python3.6/dist-packages (from sacremoses->transformers) (7.1.2)\n",
            "Requirement already satisfied: joblib in /usr/local/lib/python3.6/dist-packages (from sacremoses->transformers) (0.16.0)\n",
            "Requirement already satisfied: pyparsing>=2.0.2 in /usr/local/lib/python3.6/dist-packages (from packaging->transformers) (2.4.7)\n",
            "Requirement already satisfied: certifi>=2017.4.17 in /usr/local/lib/python3.6/dist-packages (from requests->transformers) (2020.6.20)\n",
            "Requirement already satisfied: idna<3,>=2.5 in /usr/local/lib/python3.6/dist-packages (from requests->transformers) (2.10)\n",
            "Requirement already satisfied: chardet<4,>=3.0.2 in /usr/local/lib/python3.6/dist-packages (from requests->transformers) (3.0.4)\n",
            "Requirement already satisfied: urllib3!=1.25.0,!=1.25.1,<1.26,>=1.21.1 in /usr/local/lib/python3.6/dist-packages (from requests->transformers) (1.24.3)\n",
            "Building wheels for collected packages: sacremoses\n",
            "  Building wheel for sacremoses (setup.py) ... \u001b[?25l\u001b[?25hdone\n",
            "  Created wheel for sacremoses: filename=sacremoses-0.0.43-cp36-none-any.whl size=893257 sha256=b3131f4cefcd2454cbe2d55e9b9318d24fa24193e46584e6748d72bb5362eea3\n",
            "  Stored in directory: /root/.cache/pip/wheels/29/3c/fd/7ce5c3f0666dab31a50123635e6fb5e19ceb42ce38d4e58f45\n",
            "Successfully built sacremoses\n",
            "Installing collected packages: sentencepiece, tokenizers, sacremoses, transformers\n",
            "Successfully installed sacremoses-0.0.43 sentencepiece-0.1.91 tokenizers-0.8.1rc2 transformers-3.2.0\n"
          ],
          "name": "stdout"
        }
      ]
    },
    {
      "cell_type": "code",
      "metadata": {
        "id": "zJ2wiA9dbiJR",
        "colab": {
          "base_uri": "https://localhost:8080/",
          "height": 71
        },
        "outputId": "f1dd6ff7-8ed0-4526-e0d2-05decf652919"
      },
      "source": [
        "from transformers import AutoTokenizer, AutoModelWithLMHead\n",
        "output_dir = '/content/gdrive/My Drive/gpt2_medium_code_sujj/'\n",
        "tokenizer = AutoTokenizer.from_pretrained(output_dir)\n",
        "\n",
        "model = AutoModelWithLMHead.from_pretrained(output_dir)"
      ],
      "execution_count": null,
      "outputs": [
        {
          "output_type": "stream",
          "text": [
            "/usr/local/lib/python3.6/dist-packages/transformers/modeling_auto.py:779: FutureWarning: The class `AutoModelWithLMHead` is deprecated and will be removed in a future version. Please use `AutoModelForCausalLM` for causal language models, `AutoModelForMaskedLM` for masked language models and `AutoModelForSeq2SeqLM` for encoder-decoder models.\n",
            "  FutureWarning,\n"
          ],
          "name": "stderr"
        }
      ]
    },
    {
      "cell_type": "code",
      "metadata": {
        "id": "QQ393NXvbmUY",
        "colab": {
          "base_uri": "https://localhost:8080/",
          "height": 1000
        },
        "outputId": "8f47ccd3-ba04-4073-a481-16ad1cc1fa88"
      },
      "source": [
        "segment_len =  256\n",
        "stride =  5\n",
        "examples = []\n",
        "ban = \" \"\n",
        "for ele,each_src in enumerate(source_files):\n",
        "    print(each_src)\n",
        "    with open(each_src, \"r\", encoding=\"utf-8\") as f:\n",
        "        code_content = f.read()\n",
        "        ban = ban + \"   \" + code_content\n",
        "        if (ele+1) % 10 == 0:\n",
        "            encoded = tokenizer.encode(ban)\n",
        "            ban = \" \"\n",
        "            for i in range(len(encoded) // stride):\n",
        "                if len(encoded[i * stride:i * stride + segment_len]) == 256:                \n",
        "                    examples.append(encoded[i * stride:i * stride + segment_len])\n",
        "           # for i in range(0, len(encoded) - block_size + 1, block_size):\n",
        "            #    examples.append(encoded[i : i + block_size])\n",
        "                    \n",
        "\n",
        "        #encoded = tok.encode(code_content)"
      ],
      "execution_count": null,
      "outputs": [
        {
          "output_type": "stream",
          "text": [
            "/content/gdrive/My Drive/gpt2/python/ciphers/morse_code_implementation.py\n",
            "/content/gdrive/My Drive/gpt2/python/ciphers/enigma_machine2.py\n",
            "/content/gdrive/My Drive/gpt2/python/ciphers/base85.py\n",
            "/content/gdrive/My Drive/gpt2/python/ciphers/vigenere_cipher.py\n",
            "/content/gdrive/My Drive/gpt2/python/ciphers/diffie.py\n",
            "/content/gdrive/My Drive/gpt2/python/ciphers/affine_cipher.py\n",
            "/content/gdrive/My Drive/gpt2/python/ciphers/transposition_cipher_encrypt_decrypt_file.py\n",
            "/content/gdrive/My Drive/gpt2/python/ciphers/cryptomath_module.py\n",
            "/content/gdrive/My Drive/gpt2/python/ciphers/elgamal_key_generator.py\n",
            "/content/gdrive/My Drive/gpt2/python/ciphers/shuffled_shift_cipher.py\n"
          ],
          "name": "stdout"
        },
        {
          "output_type": "stream",
          "text": [
            "Token indices sequence length is longer than the specified maximum sequence length for this model (11667 > 1024). Running this sequence through the model will result in indexing errors\n"
          ],
          "name": "stderr"
        },
        {
          "output_type": "stream",
          "text": [
            "/content/gdrive/My Drive/gpt2/python/ciphers/base32.py\n",
            "/content/gdrive/My Drive/gpt2/python/ciphers/rsa_factorization.py\n",
            "/content/gdrive/My Drive/gpt2/python/ciphers/transposition_cipher.py\n",
            "/content/gdrive/My Drive/gpt2/python/ciphers/rabin_miller.py\n",
            "/content/gdrive/My Drive/gpt2/python/ciphers/decrypt_caesar_with_chi_squared.py\n",
            "/content/gdrive/My Drive/gpt2/python/ciphers/caesar_cipher.py\n",
            "/content/gdrive/My Drive/gpt2/python/ciphers/porta_cipher.py\n",
            "/content/gdrive/My Drive/gpt2/python/ciphers/a1z26.py\n",
            "/content/gdrive/My Drive/gpt2/python/ciphers/xor_cipher.py\n",
            "/content/gdrive/My Drive/gpt2/python/ciphers/onepad_cipher.py\n"
          ],
          "name": "stdout"
        },
        {
          "output_type": "stream",
          "text": [
            "Token indices sequence length is longer than the specified maximum sequence length for this model (15659 > 1024). Running this sequence through the model will result in indexing errors\n"
          ],
          "name": "stderr"
        },
        {
          "output_type": "stream",
          "text": [
            "/content/gdrive/My Drive/gpt2/python/ciphers/atbash.py\n",
            "/content/gdrive/My Drive/gpt2/python/ciphers/deterministic_miller_rabin.py\n",
            "/content/gdrive/My Drive/gpt2/python/ciphers/rsa_key_generator.py\n",
            "/content/gdrive/My Drive/gpt2/python/ciphers/simple_keyword_cypher.py\n",
            "/content/gdrive/My Drive/gpt2/python/ciphers/hill_cipher.py\n",
            "/content/gdrive/My Drive/gpt2/python/ciphers/base64_cipher.py\n",
            "/content/gdrive/My Drive/gpt2/python/ciphers/base16.py\n",
            "/content/gdrive/My Drive/gpt2/python/ciphers/brute_force_caesar_cipher.py\n",
            "/content/gdrive/My Drive/gpt2/python/ciphers/trafid_cipher.py\n",
            "/content/gdrive/My Drive/gpt2/python/ciphers/mixed_keyword_cypher.py\n"
          ],
          "name": "stdout"
        },
        {
          "output_type": "stream",
          "text": [
            "Token indices sequence length is longer than the specified maximum sequence length for this model (12420 > 1024). Running this sequence through the model will result in indexing errors\n"
          ],
          "name": "stderr"
        },
        {
          "output_type": "stream",
          "text": [
            "/content/gdrive/My Drive/gpt2/python/ciphers/simple_substitution_cipher.py\n",
            "/content/gdrive/My Drive/gpt2/python/ciphers/rot13.py\n",
            "/content/gdrive/My Drive/gpt2/python/ciphers/playfair_cipher.py\n",
            "/content/gdrive/My Drive/gpt2/python/ciphers/rsa_cipher.py\n",
            "/content/gdrive/My Drive/gpt2/python/cellular_automata/one_dimensional.py\n",
            "/content/gdrive/My Drive/gpt2/python/backtracking/n_queens_math.py\n",
            "/content/gdrive/My Drive/gpt2/python/backtracking/all_subsequences.py\n",
            "/content/gdrive/My Drive/gpt2/python/backtracking/n_queens.py\n",
            "/content/gdrive/My Drive/gpt2/python/backtracking/sum_of_subsets.py\n",
            "/content/gdrive/My Drive/gpt2/python/backtracking/minimax.py\n"
          ],
          "name": "stdout"
        },
        {
          "output_type": "stream",
          "text": [
            "Token indices sequence length is longer than the specified maximum sequence length for this model (9460 > 1024). Running this sequence through the model will result in indexing errors\n"
          ],
          "name": "stderr"
        },
        {
          "output_type": "stream",
          "text": [
            "/content/gdrive/My Drive/gpt2/python/backtracking/knight_tour.py\n",
            "/content/gdrive/My Drive/gpt2/python/backtracking/sudoku.py\n",
            "/content/gdrive/My Drive/gpt2/python/backtracking/all_combinations.py\n",
            "/content/gdrive/My Drive/gpt2/python/backtracking/hamiltonian_cycle.py\n",
            "/content/gdrive/My Drive/gpt2/python/backtracking/coloring.py\n",
            "/content/gdrive/My Drive/gpt2/python/backtracking/all_permutations.py\n",
            "/content/gdrive/My Drive/gpt2/python/backtracking/rat_in_maze.py\n",
            "/content/gdrive/My Drive/gpt2/python/compression/huffman.py\n",
            "/content/gdrive/My Drive/gpt2/python/compression/burrows_wheeler.py\n",
            "/content/gdrive/My Drive/gpt2/python/compression/lempel_ziv.py\n"
          ],
          "name": "stdout"
        },
        {
          "output_type": "stream",
          "text": [
            "Token indices sequence length is longer than the specified maximum sequence length for this model (14689 > 1024). Running this sequence through the model will result in indexing errors\n"
          ],
          "name": "stderr"
        },
        {
          "output_type": "stream",
          "text": [
            "/content/gdrive/My Drive/gpt2/python/compression/lempel_ziv_decompress.py\n",
            "/content/gdrive/My Drive/gpt2/python/compression/peak_signal_to_noise_ratio.py\n",
            "/content/gdrive/My Drive/gpt2/python/computer_vision/harriscorner.py\n",
            "/content/gdrive/My Drive/gpt2/python/boolean_algebra/quine_mc_cluskey.py\n",
            "/content/gdrive/My Drive/gpt2/python/bit_manipulation/binary_or_operator.py\n",
            "/content/gdrive/My Drive/gpt2/python/arithmetic_analysis/newton_forward_interpolation.py\n",
            "/content/gdrive/My Drive/gpt2/python/arithmetic_analysis/intersection.py\n",
            "/content/gdrive/My Drive/gpt2/python/arithmetic_analysis/lu_decomposition.py\n",
            "/content/gdrive/My Drive/gpt2/python/arithmetic_analysis/bisection.py\n",
            "/content/gdrive/My Drive/gpt2/python/arithmetic_analysis/newton_raphson.py\n"
          ],
          "name": "stdout"
        },
        {
          "output_type": "stream",
          "text": [
            "Token indices sequence length is longer than the specified maximum sequence length for this model (8982 > 1024). Running this sequence through the model will result in indexing errors\n"
          ],
          "name": "stderr"
        },
        {
          "output_type": "stream",
          "text": [
            "/content/gdrive/My Drive/gpt2/python/arithmetic_analysis/gaussian_elimination.py\n",
            "/content/gdrive/My Drive/gpt2/python/arithmetic_analysis/in_static_equilibrium.py\n",
            "/content/gdrive/My Drive/gpt2/python/arithmetic_analysis/secant_method.py\n",
            "/content/gdrive/My Drive/gpt2/python/arithmetic_analysis/newton_method.py\n",
            "/content/gdrive/My Drive/gpt2/python/blockchain/chinese_remainder_theorem.py\n",
            "/content/gdrive/My Drive/gpt2/python/blockchain/modular_division.py\n",
            "/content/gdrive/My Drive/gpt2/python/blockchain/diophantine_equation.py\n",
            "/content/gdrive/My Drive/gpt2/python/dynamic_programming/longest_sub_array.py\n",
            "/content/gdrive/My Drive/gpt2/python/dynamic_programming/max_non_adjacent_sum.py\n",
            "/content/gdrive/My Drive/gpt2/python/dynamic_programming/integer_partition.py\n"
          ],
          "name": "stdout"
        },
        {
          "output_type": "stream",
          "text": [
            "Token indices sequence length is longer than the specified maximum sequence length for this model (8236 > 1024). Running this sequence through the model will result in indexing errors\n"
          ],
          "name": "stderr"
        },
        {
          "output_type": "stream",
          "text": [
            "/content/gdrive/My Drive/gpt2/python/dynamic_programming/longest_increasing_subsequence_o(nlogn).py\n",
            "/content/gdrive/My Drive/gpt2/python/dynamic_programming/max_sum_contiguous_subsequence.py\n",
            "/content/gdrive/My Drive/gpt2/python/dynamic_programming/longest_increasing_subsequence.py\n",
            "/content/gdrive/My Drive/gpt2/python/dynamic_programming/fibonacci.py\n",
            "/content/gdrive/My Drive/gpt2/python/dynamic_programming/sum_of_subset.py\n",
            "/content/gdrive/My Drive/gpt2/python/dynamic_programming/coin_change.py\n",
            "/content/gdrive/My Drive/gpt2/python/dynamic_programming/rod_cutting.py\n",
            "/content/gdrive/My Drive/gpt2/python/dynamic_programming/max_sub_array.py\n",
            "/content/gdrive/My Drive/gpt2/python/dynamic_programming/fast_fibonacci.py\n",
            "/content/gdrive/My Drive/gpt2/python/dynamic_programming/bitmask.py\n"
          ],
          "name": "stdout"
        },
        {
          "output_type": "stream",
          "text": [
            "Token indices sequence length is longer than the specified maximum sequence length for this model (9147 > 1024). Running this sequence through the model will result in indexing errors\n"
          ],
          "name": "stderr"
        },
        {
          "output_type": "stream",
          "text": [
            "/content/gdrive/My Drive/gpt2/python/dynamic_programming/matrix_chain_order.py\n",
            "/content/gdrive/My Drive/gpt2/python/dynamic_programming/fractional_knapsack.py\n",
            "/content/gdrive/My Drive/gpt2/python/dynamic_programming/fractional_knapsack_2.py\n",
            "/content/gdrive/My Drive/gpt2/python/dynamic_programming/knapsack.py\n",
            "/content/gdrive/My Drive/gpt2/python/dynamic_programming/climbing_stairs.py\n",
            "/content/gdrive/My Drive/gpt2/python/dynamic_programming/minimum_cost_path.py\n",
            "/content/gdrive/My Drive/gpt2/python/dynamic_programming/floyd_warshall.py\n",
            "/content/gdrive/My Drive/gpt2/python/dynamic_programming/optimal_binary_search_tree.py\n",
            "/content/gdrive/My Drive/gpt2/python/dynamic_programming/minimum_partition.py\n",
            "/content/gdrive/My Drive/gpt2/python/dynamic_programming/longest_common_subsequence.py\n"
          ],
          "name": "stdout"
        },
        {
          "output_type": "stream",
          "text": [
            "Token indices sequence length is longer than the specified maximum sequence length for this model (8920 > 1024). Running this sequence through the model will result in indexing errors\n"
          ],
          "name": "stderr"
        },
        {
          "output_type": "stream",
          "text": [
            "/content/gdrive/My Drive/gpt2/python/dynamic_programming/factorial.py\n",
            "/content/gdrive/My Drive/gpt2/python/dynamic_programming/iterating_through_submasks.py\n",
            "/content/gdrive/My Drive/gpt2/python/dynamic_programming/abbreviation.py\n",
            "/content/gdrive/My Drive/gpt2/python/dynamic_programming/edit_distance.py\n",
            "/content/gdrive/My Drive/gpt2/python/dynamic_programming/subset_generation.py\n",
            "/content/gdrive/My Drive/gpt2/python/conversions/roman_to_integer.py\n",
            "/content/gdrive/My Drive/gpt2/python/conversions/decimal_to_hexadecimal.py\n",
            "/content/gdrive/My Drive/gpt2/python/conversions/decimal_to_any.py\n",
            "/content/gdrive/My Drive/gpt2/python/conversions/temperature_conversions.py\n",
            "/content/gdrive/My Drive/gpt2/python/conversions/prefix_conversions.py\n"
          ],
          "name": "stdout"
        },
        {
          "output_type": "stream",
          "text": [
            "Token indices sequence length is longer than the specified maximum sequence length for this model (11456 > 1024). Running this sequence through the model will result in indexing errors\n"
          ],
          "name": "stderr"
        },
        {
          "output_type": "stream",
          "text": [
            "/content/gdrive/My Drive/gpt2/python/conversions/decimal_to_binary.py\n",
            "/content/gdrive/My Drive/gpt2/python/conversions/decimal_to_octal.py\n",
            "/content/gdrive/My Drive/gpt2/python/digital_image_processing/change_brightness.py\n",
            "/content/gdrive/My Drive/gpt2/python/digital_image_processing/sepia.py\n",
            "/content/gdrive/My Drive/gpt2/python/digital_image_processing/index_calculation.py\n",
            "/content/gdrive/My Drive/gpt2/python/digital_image_processing/convert_to_negative.py\n",
            "/content/gdrive/My Drive/gpt2/python/digital_image_processing/__init__.py\n",
            "/content/gdrive/My Drive/gpt2/python/digital_image_processing/change_contrast.py\n",
            "/content/gdrive/My Drive/gpt2/python/digital_image_processing/test_digital_image_processing.py\n",
            "/content/gdrive/My Drive/gpt2/python/digital_image_processing/filters/gaussian_filter.py\n"
          ],
          "name": "stdout"
        },
        {
          "output_type": "stream",
          "text": [
            "Token indices sequence length is longer than the specified maximum sequence length for this model (15335 > 1024). Running this sequence through the model will result in indexing errors\n"
          ],
          "name": "stderr"
        },
        {
          "output_type": "stream",
          "text": [
            "/content/gdrive/My Drive/gpt2/python/digital_image_processing/filters/median_filter.py\n",
            "/content/gdrive/My Drive/gpt2/python/digital_image_processing/filters/convolve.py\n",
            "/content/gdrive/My Drive/gpt2/python/digital_image_processing/filters/__init__.py\n",
            "/content/gdrive/My Drive/gpt2/python/digital_image_processing/filters/bilateral_filter.py\n",
            "/content/gdrive/My Drive/gpt2/python/digital_image_processing/filters/sobel_filter.py\n",
            "/content/gdrive/My Drive/gpt2/python/digital_image_processing/edge_detection/__init__.py\n",
            "/content/gdrive/My Drive/gpt2/python/digital_image_processing/edge_detection/canny.py\n",
            "/content/gdrive/My Drive/gpt2/python/digital_image_processing/resize/__init__.py\n",
            "/content/gdrive/My Drive/gpt2/python/digital_image_processing/resize/resize.py\n",
            "/content/gdrive/My Drive/gpt2/python/digital_image_processing/rotation/rotation.py\n"
          ],
          "name": "stdout"
        },
        {
          "output_type": "stream",
          "text": [
            "Token indices sequence length is longer than the specified maximum sequence length for this model (7130 > 1024). Running this sequence through the model will result in indexing errors\n"
          ],
          "name": "stderr"
        },
        {
          "output_type": "stream",
          "text": [
            "/content/gdrive/My Drive/gpt2/python/digital_image_processing/rotation/__init__.py\n",
            "/content/gdrive/My Drive/gpt2/python/digital_image_processing/histogram_equalization/histogram_stretch.py\n",
            "/content/gdrive/My Drive/gpt2/python/digital_image_processing/dithering/__init__.py\n",
            "/content/gdrive/My Drive/gpt2/python/digital_image_processing/dithering/burkes.py\n",
            "/content/gdrive/My Drive/gpt2/python/data_structures/disjoint_set/disjoint_set.py\n",
            "/content/gdrive/My Drive/gpt2/python/data_structures/disjoint_set/alternate_disjoint_set.py\n",
            "/content/gdrive/My Drive/gpt2/python/data_structures/binary_tree/binary_search_tree.py\n",
            "/content/gdrive/My Drive/gpt2/python/data_structures/binary_tree/number_of_possible_binary_trees.py\n",
            "/content/gdrive/My Drive/gpt2/python/data_structures/binary_tree/binary_search_tree_recursive.py\n",
            "/content/gdrive/My Drive/gpt2/python/data_structures/binary_tree/fenwick_tree.py\n"
          ],
          "name": "stdout"
        },
        {
          "output_type": "stream",
          "text": [
            "Token indices sequence length is longer than the specified maximum sequence length for this model (17288 > 1024). Running this sequence through the model will result in indexing errors\n"
          ],
          "name": "stderr"
        },
        {
          "output_type": "stream",
          "text": [
            "/content/gdrive/My Drive/gpt2/python/data_structures/binary_tree/treap.py\n",
            "/content/gdrive/My Drive/gpt2/python/data_structures/binary_tree/segment_tree.py\n",
            "/content/gdrive/My Drive/gpt2/python/data_structures/binary_tree/red_black_tree.py\n",
            "/content/gdrive/My Drive/gpt2/python/data_structures/binary_tree/non_recursive_segment_tree.py\n",
            "/content/gdrive/My Drive/gpt2/python/data_structures/binary_tree/lazy_segment_tree.py\n",
            "/content/gdrive/My Drive/gpt2/python/data_structures/binary_tree/segment_tree_other.py\n",
            "/content/gdrive/My Drive/gpt2/python/data_structures/binary_tree/lowest_common_ancestor.py\n",
            "/content/gdrive/My Drive/gpt2/python/data_structures/binary_tree/avl_tree.py\n",
            "/content/gdrive/My Drive/gpt2/python/data_structures/binary_tree/basic_binary_tree.py\n",
            "/content/gdrive/My Drive/gpt2/python/data_structures/linked_list/deque_doubly.py\n"
          ],
          "name": "stdout"
        },
        {
          "output_type": "stream",
          "text": [
            "Token indices sequence length is longer than the specified maximum sequence length for this model (31395 > 1024). Running this sequence through the model will result in indexing errors\n"
          ],
          "name": "stderr"
        },
        {
          "output_type": "stream",
          "text": [
            "/content/gdrive/My Drive/gpt2/python/data_structures/linked_list/swap_nodes.py\n",
            "/content/gdrive/My Drive/gpt2/python/data_structures/linked_list/__init__.py\n",
            "/content/gdrive/My Drive/gpt2/python/data_structures/linked_list/skip_list.py\n",
            "/content/gdrive/My Drive/gpt2/python/data_structures/linked_list/circular_linked_list.py\n",
            "/content/gdrive/My Drive/gpt2/python/data_structures/linked_list/print_reverse.py\n",
            "/content/gdrive/My Drive/gpt2/python/data_structures/linked_list/from_sequence.py\n",
            "/content/gdrive/My Drive/gpt2/python/data_structures/linked_list/middle_element_of_linked_list.py\n",
            "/content/gdrive/My Drive/gpt2/python/data_structures/linked_list/doubly_linked_list.py\n",
            "/content/gdrive/My Drive/gpt2/python/data_structures/linked_list/singly_linked_list.py\n",
            "/content/gdrive/My Drive/gpt2/python/data_structures/linked_list/is_palindrome.py\n"
          ],
          "name": "stdout"
        },
        {
          "output_type": "stream",
          "text": [
            "Token indices sequence length is longer than the specified maximum sequence length for this model (16277 > 1024). Running this sequence through the model will result in indexing errors\n"
          ],
          "name": "stderr"
        },
        {
          "output_type": "stream",
          "text": [
            "/content/gdrive/My Drive/gpt2/python/data_structures/heap/heap.py\n",
            "/content/gdrive/My Drive/gpt2/python/data_structures/heap/min_heap.py\n",
            "/content/gdrive/My Drive/gpt2/python/data_structures/heap/heap_generic.py\n",
            "/content/gdrive/My Drive/gpt2/python/data_structures/heap/max_heap.py\n",
            "/content/gdrive/My Drive/gpt2/python/data_structures/heap/binomial_heap.py\n",
            "/content/gdrive/My Drive/gpt2/python/data_structures/queue/queue_on_pseudo_stack.py\n",
            "/content/gdrive/My Drive/gpt2/python/data_structures/queue/queue_on_list.py\n",
            "/content/gdrive/My Drive/gpt2/python/data_structures/queue/double_ended_queue.py\n",
            "/content/gdrive/My Drive/gpt2/python/data_structures/queue/linked_queue.py\n",
            "/content/gdrive/My Drive/gpt2/python/data_structures/queue/circular_queue.py\n"
          ],
          "name": "stdout"
        },
        {
          "output_type": "stream",
          "text": [
            "Token indices sequence length is longer than the specified maximum sequence length for this model (17697 > 1024). Running this sequence through the model will result in indexing errors\n"
          ],
          "name": "stderr"
        },
        {
          "output_type": "stream",
          "text": [
            "/content/gdrive/My Drive/gpt2/python/data_structures/stacks/next_greater_element.py\n",
            "/content/gdrive/My Drive/gpt2/python/data_structures/stacks/balanced_parentheses.py\n",
            "/content/gdrive/My Drive/gpt2/python/data_structures/stacks/prefix_evaluation.py\n",
            "/content/gdrive/My Drive/gpt2/python/data_structures/stacks/__init__.py\n",
            "/content/gdrive/My Drive/gpt2/python/data_structures/stacks/linked_stack.py\n",
            "/content/gdrive/My Drive/gpt2/python/data_structures/stacks/stack.py\n",
            "/content/gdrive/My Drive/gpt2/python/data_structures/stacks/infix_to_postfix_conversion.py\n",
            "/content/gdrive/My Drive/gpt2/python/data_structures/stacks/stack_using_dll.py\n",
            "/content/gdrive/My Drive/gpt2/python/data_structures/stacks/dijkstras_two_stack_algorithm.py\n",
            "/content/gdrive/My Drive/gpt2/python/data_structures/stacks/stock_span_problem.py\n"
          ],
          "name": "stdout"
        },
        {
          "output_type": "stream",
          "text": [
            "Token indices sequence length is longer than the specified maximum sequence length for this model (7502 > 1024). Running this sequence through the model will result in indexing errors\n"
          ],
          "name": "stderr"
        },
        {
          "output_type": "stream",
          "text": [
            "/content/gdrive/My Drive/gpt2/python/data_structures/stacks/infix_to_prefix_conversion.py\n",
            "/content/gdrive/My Drive/gpt2/python/data_structures/stacks/postfix_evaluation.py\n",
            "/content/gdrive/My Drive/gpt2/python/data_structures/hashing/double_hash.py\n",
            "/content/gdrive/My Drive/gpt2/python/data_structures/hashing/quadratic_probing.py\n",
            "/content/gdrive/My Drive/gpt2/python/data_structures/hashing/hash_table_with_linked_list.py\n",
            "/content/gdrive/My Drive/gpt2/python/data_structures/hashing/hash_table.py\n",
            "/content/gdrive/My Drive/gpt2/python/data_structures/hashing/number_theory/prime_numbers.py\n",
            "/content/gdrive/My Drive/gpt2/python/data_structures/hashing/number_theory/__init__.py\n",
            "/content/gdrive/My Drive/gpt2/python/data_structures/trie/trie.py\n",
            "/content/gdrive/My Drive/gpt2/python/geodesy/haversine_distance.py\n"
          ],
          "name": "stdout"
        },
        {
          "output_type": "stream",
          "text": [
            "Token indices sequence length is longer than the specified maximum sequence length for this model (7675 > 1024). Running this sequence through the model will result in indexing errors\n"
          ],
          "name": "stderr"
        },
        {
          "output_type": "stream",
          "text": [
            "/content/gdrive/My Drive/gpt2/python/geodesy/lamberts_ellipsoidal_distance.py\n",
            "/content/gdrive/My Drive/gpt2/python/fuzzy_logic/fuzzy_operations.py\n",
            "/content/gdrive/My Drive/gpt2/python/file_transfer/send_file.py\n",
            "/content/gdrive/My Drive/gpt2/python/file_transfer/receive_file.py\n",
            "/content/gdrive/My Drive/gpt2/python/divide_and_conquer/strassen_matrix_multiplication.py\n",
            "/content/gdrive/My Drive/gpt2/python/divide_and_conquer/max_subarray_sum.py\n",
            "/content/gdrive/My Drive/gpt2/python/divide_and_conquer/convex_hull.py\n",
            "/content/gdrive/My Drive/gpt2/python/divide_and_conquer/power.py\n",
            "/content/gdrive/My Drive/gpt2/python/divide_and_conquer/inversions.py\n",
            "/content/gdrive/My Drive/gpt2/python/divide_and_conquer/closest_pair_of_points.py\n"
          ],
          "name": "stdout"
        },
        {
          "output_type": "stream",
          "text": [
            "Token indices sequence length is longer than the specified maximum sequence length for this model (17430 > 1024). Running this sequence through the model will result in indexing errors\n"
          ],
          "name": "stderr"
        },
        {
          "output_type": "stream",
          "text": [
            "/content/gdrive/My Drive/gpt2/python/divide_and_conquer/mergesort.py\n",
            "/content/gdrive/My Drive/gpt2/python/genetic_algorithm/basic_string.py\n",
            "/content/gdrive/My Drive/gpt2/python/graphics/bezier_curve.py\n",
            "/content/gdrive/My Drive/gpt2/python/neural_network/back_propagation_neural_network.py\n",
            "/content/gdrive/My Drive/gpt2/python/neural_network/perceptron.py\n",
            "/content/gdrive/My Drive/gpt2/python/neural_network/convolution_neural_network.py\n",
            "/content/gdrive/My Drive/gpt2/python/machine_learning/sequential_minimum_optimization.py\n",
            "/content/gdrive/My Drive/gpt2/python/machine_learning/gaussian_naive_bayes.py\n",
            "/content/gdrive/My Drive/gpt2/python/machine_learning/random_forest_classifier.py\n",
            "/content/gdrive/My Drive/gpt2/python/machine_learning/polymonial_regression.py\n"
          ],
          "name": "stdout"
        },
        {
          "output_type": "stream",
          "text": [
            "Token indices sequence length is longer than the specified maximum sequence length for this model (31406 > 1024). Running this sequence through the model will result in indexing errors\n"
          ],
          "name": "stderr"
        },
        {
          "output_type": "stream",
          "text": [
            "/content/gdrive/My Drive/gpt2/python/machine_learning/k_means_clust.py\n",
            "/content/gdrive/My Drive/gpt2/python/machine_learning/knn_sklearn.py\n",
            "/content/gdrive/My Drive/gpt2/python/machine_learning/gradient_descent.py\n",
            "/content/gdrive/My Drive/gpt2/python/machine_learning/k_nearest_neighbours.py\n",
            "/content/gdrive/My Drive/gpt2/python/machine_learning/support_vector_machines.py\n",
            "/content/gdrive/My Drive/gpt2/python/machine_learning/word_frequency_functions.py\n",
            "/content/gdrive/My Drive/gpt2/python/machine_learning/random_forest_regressor.py\n",
            "/content/gdrive/My Drive/gpt2/python/machine_learning/linear_discriminant_analysis.py\n",
            "/content/gdrive/My Drive/gpt2/python/machine_learning/decision_tree.py\n",
            "/content/gdrive/My Drive/gpt2/python/machine_learning/multilayer_perceptron_classifier.py\n"
          ],
          "name": "stdout"
        },
        {
          "output_type": "stream",
          "text": [
            "Token indices sequence length is longer than the specified maximum sequence length for this model (21990 > 1024). Running this sequence through the model will result in indexing errors\n"
          ],
          "name": "stderr"
        },
        {
          "output_type": "stream",
          "text": [
            "/content/gdrive/My Drive/gpt2/python/machine_learning/scoring_functions.py\n",
            "/content/gdrive/My Drive/gpt2/python/machine_learning/logistic_regression.py\n",
            "/content/gdrive/My Drive/gpt2/python/machine_learning/data_transformations.py\n",
            "/content/gdrive/My Drive/gpt2/python/machine_learning/astar.py\n",
            "/content/gdrive/My Drive/gpt2/python/machine_learning/linear_regression.py\n",
            "/content/gdrive/My Drive/gpt2/python/machine_learning/lstm/lstm_prediction.py\n",
            "/content/gdrive/My Drive/gpt2/python/graphs/bfs_shortest_path.py\n",
            "/content/gdrive/My Drive/gpt2/python/graphs/breadth_first_search_2.py\n",
            "/content/gdrive/My Drive/gpt2/python/graphs/breadth_first_search_shortest_path.py\n",
            "/content/gdrive/My Drive/gpt2/python/graphs/breadth_first_search.py\n"
          ],
          "name": "stdout"
        },
        {
          "output_type": "stream",
          "text": [
            "Token indices sequence length is longer than the specified maximum sequence length for this model (11467 > 1024). Running this sequence through the model will result in indexing errors\n"
          ],
          "name": "stderr"
        },
        {
          "output_type": "stream",
          "text": [
            "/content/gdrive/My Drive/gpt2/python/graphs/graphs_floyd_warshall.py\n",
            "/content/gdrive/My Drive/gpt2/python/graphs/prim.py\n",
            "/content/gdrive/My Drive/gpt2/python/graphs/minimum_spanning_tree_prims.py\n",
            "/content/gdrive/My Drive/gpt2/python/graphs/depth_first_search.py\n",
            "/content/gdrive/My Drive/gpt2/python/graphs/dijkstra_2.py\n",
            "/content/gdrive/My Drive/gpt2/python/graphs/bidirectional_breadth_first_search.py\n",
            "/content/gdrive/My Drive/gpt2/python/graphs/basic_graphs.py\n",
            "/content/gdrive/My Drive/gpt2/python/graphs/finding_bridges.py\n",
            "/content/gdrive/My Drive/gpt2/python/graphs/g_topological_sort.py\n",
            "/content/gdrive/My Drive/gpt2/python/graphs/a_star.py\n"
          ],
          "name": "stdout"
        },
        {
          "output_type": "stream",
          "text": [
            "Token indices sequence length is longer than the specified maximum sequence length for this model (15520 > 1024). Running this sequence through the model will result in indexing errors\n"
          ],
          "name": "stderr"
        },
        {
          "output_type": "stream",
          "text": [
            "/content/gdrive/My Drive/gpt2/python/graphs/multi_heuristic_astar.py\n",
            "/content/gdrive/My Drive/gpt2/python/graphs/kahns_algorithm_topo.py\n",
            "/content/gdrive/My Drive/gpt2/python/graphs/kahns_algorithm_long.py\n",
            "/content/gdrive/My Drive/gpt2/python/graphs/check_bipartite_graph_dfs.py\n",
            "/content/gdrive/My Drive/gpt2/python/graphs/check_bipartite_graph_bfs.py\n",
            "/content/gdrive/My Drive/gpt2/python/graphs/eulerian_path_and_circuit_for_undirected_graph.py\n",
            "/content/gdrive/My Drive/gpt2/python/graphs/dijkstra.py\n",
            "/content/gdrive/My Drive/gpt2/python/graphs/minimum_spanning_tree_kruskal2.py\n",
            "/content/gdrive/My Drive/gpt2/python/graphs/directed_and_undirected_(weighted)_graph.py\n",
            "/content/gdrive/My Drive/gpt2/python/graphs/strongly_connected_components.py\n"
          ],
          "name": "stdout"
        },
        {
          "output_type": "stream",
          "text": [
            "Token indices sequence length is longer than the specified maximum sequence length for this model (21136 > 1024). Running this sequence through the model will result in indexing errors\n"
          ],
          "name": "stderr"
        },
        {
          "output_type": "stream",
          "text": [
            "/content/gdrive/My Drive/gpt2/python/graphs/dinic.py\n",
            "/content/gdrive/My Drive/gpt2/python/graphs/edmonds_karp_multiple_source_and_sink.py\n",
            "/content/gdrive/My Drive/gpt2/python/graphs/frequent_pattern_graph_miner.py\n",
            "/content/gdrive/My Drive/gpt2/python/graphs/dijkstra_algorithm.py\n",
            "/content/gdrive/My Drive/gpt2/python/graphs/graph_matrix.py\n",
            "/content/gdrive/My Drive/gpt2/python/graphs/tarjans_scc.py\n",
            "/content/gdrive/My Drive/gpt2/python/graphs/connected_components.py\n",
            "/content/gdrive/My Drive/gpt2/python/graphs/greedy_best_first.py\n",
            "/content/gdrive/My Drive/gpt2/python/graphs/articulation_points.py\n",
            "/content/gdrive/My Drive/gpt2/python/graphs/bellman_ford.py\n"
          ],
          "name": "stdout"
        },
        {
          "output_type": "stream",
          "text": [
            "Token indices sequence length is longer than the specified maximum sequence length for this model (17440 > 1024). Running this sequence through the model will result in indexing errors\n"
          ],
          "name": "stderr"
        },
        {
          "output_type": "stream",
          "text": [
            "/content/gdrive/My Drive/gpt2/python/graphs/minimum_spanning_tree_boruvka.py\n",
            "/content/gdrive/My Drive/gpt2/python/graphs/minimum_spanning_tree_kruskal.py\n",
            "/content/gdrive/My Drive/gpt2/python/graphs/graph_list.py\n",
            "/content/gdrive/My Drive/gpt2/python/graphs/scc_kosaraju.py\n",
            "/content/gdrive/My Drive/gpt2/python/graphs/depth_first_search_2.py\n",
            "/content/gdrive/My Drive/gpt2/python/graphs/page_rank.py\n",
            "/content/gdrive/My Drive/gpt2/python/graphs/karger.py\n",
            "/content/gdrive/My Drive/gpt2/python/graphs/bidirectional_a_star.py\n",
            "/content/gdrive/My Drive/gpt2/python/graphs/even_tree.py\n",
            "/content/gdrive/My Drive/gpt2/python/graphs/gale_shapley_bigraph.py\n"
          ],
          "name": "stdout"
        },
        {
          "output_type": "stream",
          "text": [
            "Token indices sequence length is longer than the specified maximum sequence length for this model (12914 > 1024). Running this sequence through the model will result in indexing errors\n"
          ],
          "name": "stderr"
        },
        {
          "output_type": "stream",
          "text": [
            "/content/gdrive/My Drive/gpt2/python/linear_algebra/src/polynom-for-points.py\n",
            "/content/gdrive/My Drive/gpt2/python/linear_algebra/src/rayleigh_quotient.py\n",
            "/content/gdrive/My Drive/gpt2/python/linear_algebra/src/transformations_2d.py\n",
            "/content/gdrive/My Drive/gpt2/python/linear_algebra/src/test_linear_algebra.py\n",
            "/content/gdrive/My Drive/gpt2/python/linear_algebra/src/power_iteration.py\n",
            "/content/gdrive/My Drive/gpt2/python/linear_algebra/src/lib.py\n",
            "/content/gdrive/My Drive/gpt2/python/greedy_method/test_knapsack.py\n",
            "/content/gdrive/My Drive/gpt2/python/greedy_method/greedy_knapsack.py\n",
            "/content/gdrive/My Drive/gpt2/python/networking_flow/minimum_cut.py\n",
            "/content/gdrive/My Drive/gpt2/python/networking_flow/ford_fulkerson.py\n"
          ],
          "name": "stdout"
        },
        {
          "output_type": "stream",
          "text": [
            "Token indices sequence length is longer than the specified maximum sequence length for this model (17324 > 1024). Running this sequence through the model will result in indexing errors\n"
          ],
          "name": "stderr"
        },
        {
          "output_type": "stream",
          "text": [
            "/content/gdrive/My Drive/gpt2/python/hashes/md5.py\n",
            "/content/gdrive/My Drive/gpt2/python/hashes/sdbm.py\n",
            "/content/gdrive/My Drive/gpt2/python/hashes/hamming_code.py\n",
            "/content/gdrive/My Drive/gpt2/python/hashes/enigma_machine.py\n",
            "/content/gdrive/My Drive/gpt2/python/hashes/adler32.py\n",
            "/content/gdrive/My Drive/gpt2/python/hashes/chaos_machine.py\n",
            "/content/gdrive/My Drive/gpt2/python/hashes/djb2.py\n",
            "/content/gdrive/My Drive/gpt2/python/hashes/sha1.py\n",
            "/content/gdrive/My Drive/gpt2/python/maths/prime_numbers.py\n",
            "/content/gdrive/My Drive/gpt2/python/maths/armstrong_numbers.py\n"
          ],
          "name": "stdout"
        },
        {
          "output_type": "stream",
          "text": [
            "Token indices sequence length is longer than the specified maximum sequence length for this model (13835 > 1024). Running this sequence through the model will result in indexing errors\n"
          ],
          "name": "stderr"
        },
        {
          "output_type": "stream",
          "text": [
            "/content/gdrive/My Drive/gpt2/python/maths/average_mode.py\n",
            "/content/gdrive/My Drive/gpt2/python/maths/explicit_euler.py\n",
            "/content/gdrive/My Drive/gpt2/python/maths/qr_decomposition.py\n",
            "/content/gdrive/My Drive/gpt2/python/maths/perfect_cube.py\n",
            "/content/gdrive/My Drive/gpt2/python/maths/eulers_totient.py\n",
            "/content/gdrive/My Drive/gpt2/python/maths/add.py\n",
            "/content/gdrive/My Drive/gpt2/python/maths/pi_monte_carlo_estimation.py\n",
            "/content/gdrive/My Drive/gpt2/python/maths/test_prime_check.py\n",
            "/content/gdrive/My Drive/gpt2/python/maths/extended_euclidean_algorithm.py\n",
            "/content/gdrive/My Drive/gpt2/python/maths/perfect_number.py\n"
          ],
          "name": "stdout"
        },
        {
          "output_type": "stream",
          "text": [
            "Token indices sequence length is longer than the specified maximum sequence length for this model (4450 > 1024). Running this sequence through the model will result in indexing errors\n"
          ],
          "name": "stderr"
        },
        {
          "output_type": "stream",
          "text": [
            "/content/gdrive/My Drive/gpt2/python/maths/gaussian.py\n",
            "/content/gdrive/My Drive/gpt2/python/maths/matrix_exponentiation.py\n",
            "/content/gdrive/My Drive/gpt2/python/maths/numerical_integration.py\n",
            "/content/gdrive/My Drive/gpt2/python/maths/number_of_digits.py\n",
            "/content/gdrive/My Drive/gpt2/python/maths/prime_sieve_eratosthenes.py\n",
            "/content/gdrive/My Drive/gpt2/python/maths/entropy.py\n",
            "/content/gdrive/My Drive/gpt2/python/maths/find_max.py\n",
            "/content/gdrive/My Drive/gpt2/python/maths/combinations.py\n",
            "/content/gdrive/My Drive/gpt2/python/maths/area.py\n",
            "/content/gdrive/My Drive/gpt2/python/maths/monte_carlo_dice.py\n"
          ],
          "name": "stdout"
        },
        {
          "output_type": "stream",
          "text": [
            "Token indices sequence length is longer than the specified maximum sequence length for this model (8547 > 1024). Running this sequence through the model will result in indexing errors\n"
          ],
          "name": "stderr"
        },
        {
          "output_type": "stream",
          "text": [
            "/content/gdrive/My Drive/gpt2/python/maths/sieve_of_eratosthenes.py\n",
            "/content/gdrive/My Drive/gpt2/python/maths/fibonacci.py\n",
            "/content/gdrive/My Drive/gpt2/python/maths/square_root.py\n",
            "/content/gdrive/My Drive/gpt2/python/maths/krishnamurthy_number.py\n",
            "/content/gdrive/My Drive/gpt2/python/maths/binary_exponentiation.py\n",
            "/content/gdrive/My Drive/gpt2/python/maths/monte_carlo.py\n",
            "/content/gdrive/My Drive/gpt2/python/maths/prime_factors.py\n",
            "/content/gdrive/My Drive/gpt2/python/maths/3n_plus_1.py\n",
            "/content/gdrive/My Drive/gpt2/python/maths/karatsuba.py\n",
            "/content/gdrive/My Drive/gpt2/python/maths/fibonacci_sequence_recursion.py\n"
          ],
          "name": "stdout"
        },
        {
          "output_type": "stream",
          "text": [
            "Token indices sequence length is longer than the specified maximum sequence length for this model (8330 > 1024). Running this sequence through the model will result in indexing errors\n"
          ],
          "name": "stderr"
        },
        {
          "output_type": "stream",
          "text": [
            "/content/gdrive/My Drive/gpt2/python/maths/chudnovsky_algorithm.py\n",
            "/content/gdrive/My Drive/gpt2/python/maths/factors.py\n",
            "/content/gdrive/My Drive/gpt2/python/maths/basic_maths.py\n",
            "/content/gdrive/My Drive/gpt2/python/maths/find_min_recursion.py\n",
            "/content/gdrive/My Drive/gpt2/python/maths/mobius_function.py\n",
            "/content/gdrive/My Drive/gpt2/python/maths/lucas_lehmer_primality_test.py\n",
            "/content/gdrive/My Drive/gpt2/python/maths/polynomial_evaluation.py\n",
            "/content/gdrive/My Drive/gpt2/python/maths/average_mean.py\n",
            "/content/gdrive/My Drive/gpt2/python/maths/ugly_numbers.py\n",
            "/content/gdrive/My Drive/gpt2/python/maths/allocation_number.py\n"
          ],
          "name": "stdout"
        },
        {
          "output_type": "stream",
          "text": [
            "Token indices sequence length is longer than the specified maximum sequence length for this model (5391 > 1024). Running this sequence through the model will result in indexing errors\n"
          ],
          "name": "stderr"
        },
        {
          "output_type": "stream",
          "text": [
            "/content/gdrive/My Drive/gpt2/python/maths/collatz_sequence.py\n",
            "/content/gdrive/My Drive/gpt2/python/maths/kadanes.py\n",
            "/content/gdrive/My Drive/gpt2/python/maths/binomial_distribution.py\n",
            "/content/gdrive/My Drive/gpt2/python/maths/__init__.py\n",
            "/content/gdrive/My Drive/gpt2/python/maths/quadratic_equations_complex_numbers.py\n",
            "/content/gdrive/My Drive/gpt2/python/maths/largest_of_very_large_numbers.py\n",
            "/content/gdrive/My Drive/gpt2/python/maths/relu.py\n",
            "/content/gdrive/My Drive/gpt2/python/maths/factorial_iterative.py\n",
            "/content/gdrive/My Drive/gpt2/python/maths/factorial_python.py\n",
            "/content/gdrive/My Drive/gpt2/python/maths/greatest_common_divisor.py\n"
          ],
          "name": "stdout"
        },
        {
          "output_type": "stream",
          "text": [
            "Token indices sequence length is longer than the specified maximum sequence length for this model (4440 > 1024). Running this sequence through the model will result in indexing errors\n"
          ],
          "name": "stderr"
        },
        {
          "output_type": "stream",
          "text": [
            "/content/gdrive/My Drive/gpt2/python/maths/abs_min.py\n",
            "/content/gdrive/My Drive/gpt2/python/maths/average_median.py\n",
            "/content/gdrive/My Drive/gpt2/python/maths/least_common_multiple.py\n",
            "/content/gdrive/My Drive/gpt2/python/maths/prime_check.py\n",
            "/content/gdrive/My Drive/gpt2/python/maths/fermat_little_theorem.py\n",
            "/content/gdrive/My Drive/gpt2/python/maths/simpson_rule.py\n",
            "/content/gdrive/My Drive/gpt2/python/maths/find_max_recursion.py\n",
            "/content/gdrive/My Drive/gpt2/python/maths/bisection.py\n",
            "/content/gdrive/My Drive/gpt2/python/maths/ceil.py\n",
            "/content/gdrive/My Drive/gpt2/python/maths/pythagoras.py\n"
          ],
          "name": "stdout"
        },
        {
          "output_type": "stream",
          "text": [
            "Token indices sequence length is longer than the specified maximum sequence length for this model (4727 > 1024). Running this sequence through the model will result in indexing errors\n"
          ],
          "name": "stderr"
        },
        {
          "output_type": "stream",
          "text": [
            "/content/gdrive/My Drive/gpt2/python/maths/binomial_coefficient.py\n",
            "/content/gdrive/My Drive/gpt2/python/maths/floor.py\n",
            "/content/gdrive/My Drive/gpt2/python/maths/is_square_free.py\n",
            "/content/gdrive/My Drive/gpt2/python/maths/sum_of_arithmetic_series.py\n",
            "/content/gdrive/My Drive/gpt2/python/maths/sum_of_digits.py\n",
            "/content/gdrive/My Drive/gpt2/python/maths/hardy_ramanujanalgo.py\n",
            "/content/gdrive/My Drive/gpt2/python/maths/segmented_sieve.py\n",
            "/content/gdrive/My Drive/gpt2/python/maths/binary_exp_mod.py\n",
            "/content/gdrive/My Drive/gpt2/python/maths/lucas_series.py\n",
            "/content/gdrive/My Drive/gpt2/python/maths/softmax.py\n"
          ],
          "name": "stdout"
        },
        {
          "output_type": "stream",
          "text": [
            "Token indices sequence length is longer than the specified maximum sequence length for this model (4930 > 1024). Running this sequence through the model will result in indexing errors\n"
          ],
          "name": "stderr"
        },
        {
          "output_type": "stream",
          "text": [
            "/content/gdrive/My Drive/gpt2/python/maths/zellers_congruence.py\n",
            "/content/gdrive/My Drive/gpt2/python/maths/perfect_square.py\n",
            "/content/gdrive/My Drive/gpt2/python/maths/find_min.py\n",
            "/content/gdrive/My Drive/gpt2/python/maths/aliquot_sum.py\n",
            "/content/gdrive/My Drive/gpt2/python/maths/radix2_fft.py\n",
            "/content/gdrive/My Drive/gpt2/python/maths/trapezoidal_rule.py\n",
            "/content/gdrive/My Drive/gpt2/python/maths/volume.py\n",
            "/content/gdrive/My Drive/gpt2/python/maths/jaccard_similarity.py\n",
            "/content/gdrive/My Drive/gpt2/python/maths/modular_exponential.py\n",
            "/content/gdrive/My Drive/gpt2/python/maths/bailey_borwein_plouffe.py\n"
          ],
          "name": "stdout"
        },
        {
          "output_type": "stream",
          "text": [
            "Token indices sequence length is longer than the specified maximum sequence length for this model (11000 > 1024). Running this sequence through the model will result in indexing errors\n"
          ],
          "name": "stderr"
        },
        {
          "output_type": "stream",
          "text": [
            "/content/gdrive/My Drive/gpt2/python/maths/factorial_recursive.py\n",
            "/content/gdrive/My Drive/gpt2/python/maths/gamma.py\n",
            "/content/gdrive/My Drive/gpt2/python/maths/power_using_recursion.py\n",
            "/content/gdrive/My Drive/gpt2/python/maths/abs.py\n",
            "/content/gdrive/My Drive/gpt2/python/maths/radians.py\n",
            "/content/gdrive/My Drive/gpt2/python/maths/miller_rabin.py\n",
            "/content/gdrive/My Drive/gpt2/python/maths/abs_max.py\n",
            "/content/gdrive/My Drive/gpt2/python/maths/runge_kutta.py\n",
            "/content/gdrive/My Drive/gpt2/python/maths/sum_of_geometric_progression.py\n",
            "/content/gdrive/My Drive/gpt2/python/maths/line_length.py\n"
          ],
          "name": "stdout"
        },
        {
          "output_type": "stream",
          "text": [
            "Token indices sequence length is longer than the specified maximum sequence length for this model (4232 > 1024). Running this sequence through the model will result in indexing errors\n"
          ],
          "name": "stderr"
        },
        {
          "output_type": "stream",
          "text": [
            "/content/gdrive/My Drive/gpt2/python/maths/kth_lexicographic_permutation.py\n",
            "/content/gdrive/My Drive/gpt2/python/maths/area_under_curve.py\n",
            "/content/gdrive/My Drive/gpt2/python/maths/newton_raphson.py\n",
            "/content/gdrive/My Drive/gpt2/python/maths/series/p_series.py\n",
            "/content/gdrive/My Drive/gpt2/python/maths/series/harmonic_series.py\n",
            "/content/gdrive/My Drive/gpt2/python/maths/series/geometric_series.py\n",
            "/content/gdrive/My Drive/gpt2/python/matrix/searching_in_sorted_matrix.py\n",
            "/content/gdrive/My Drive/gpt2/python/matrix/count_islands_in_matrix.py\n",
            "/content/gdrive/My Drive/gpt2/python/matrix/rotate_matrix.py\n",
            "/content/gdrive/My Drive/gpt2/python/matrix/inverse_of_matrix.py\n"
          ],
          "name": "stdout"
        },
        {
          "output_type": "stream",
          "text": [
            "Token indices sequence length is longer than the specified maximum sequence length for this model (7154 > 1024). Running this sequence through the model will result in indexing errors\n"
          ],
          "name": "stderr"
        },
        {
          "output_type": "stream",
          "text": [
            "/content/gdrive/My Drive/gpt2/python/matrix/nth_fibonacci_using_matrix_exponentiation.py\n",
            "/content/gdrive/My Drive/gpt2/python/matrix/spiral_print.py\n",
            "/content/gdrive/My Drive/gpt2/python/matrix/sherman_morrison.py\n",
            "/content/gdrive/My Drive/gpt2/python/matrix/matrix_operation.py\n",
            "/content/gdrive/My Drive/gpt2/python/matrix/matrix_class.py\n",
            "/content/gdrive/My Drive/gpt2/python/matrix/tests/test_matrix_operation.py\n",
            "/content/gdrive/My Drive/gpt2/python/scheduling/first_come_first_served.py\n",
            "/content/gdrive/My Drive/gpt2/python/scheduling/round_robin.py\n",
            "/content/gdrive/My Drive/gpt2/python/scheduling/shortest_job_first.py\n",
            "/content/gdrive/My Drive/gpt2/python/traversals/binary_tree_traversals.py\n"
          ],
          "name": "stdout"
        },
        {
          "output_type": "stream",
          "text": [
            "Token indices sequence length is longer than the specified maximum sequence length for this model (24527 > 1024). Running this sequence through the model will result in indexing errors\n"
          ],
          "name": "stderr"
        },
        {
          "output_type": "stream",
          "text": [
            "/content/gdrive/My Drive/gpt2/python/strings/capitalize.py\n",
            "/content/gdrive/My Drive/gpt2/python/strings/check_anagrams.py\n",
            "/content/gdrive/My Drive/gpt2/python/strings/manacher.py\n",
            "/content/gdrive/My Drive/gpt2/python/strings/word_occurrence.py\n",
            "/content/gdrive/My Drive/gpt2/python/strings/reverse_words.py\n",
            "/content/gdrive/My Drive/gpt2/python/strings/z_function.py\n",
            "/content/gdrive/My Drive/gpt2/python/strings/remove_duplicate.py\n",
            "/content/gdrive/My Drive/gpt2/python/strings/naive_string_search.py\n",
            "/content/gdrive/My Drive/gpt2/python/strings/jaro_winkler.py\n",
            "/content/gdrive/My Drive/gpt2/python/strings/split.py\n"
          ],
          "name": "stdout"
        },
        {
          "output_type": "stream",
          "text": [
            "Token indices sequence length is longer than the specified maximum sequence length for this model (5495 > 1024). Running this sequence through the model will result in indexing errors\n"
          ],
          "name": "stderr"
        },
        {
          "output_type": "stream",
          "text": [
            "/content/gdrive/My Drive/gpt2/python/strings/check_pangram.py\n",
            "/content/gdrive/My Drive/gpt2/python/strings/levenshtein_distance.py\n",
            "/content/gdrive/My Drive/gpt2/python/strings/aho-corasick.py\n",
            "/content/gdrive/My Drive/gpt2/python/strings/knuth_morris_pratt.py\n",
            "/content/gdrive/My Drive/gpt2/python/strings/prefix_function.py\n",
            "/content/gdrive/My Drive/gpt2/python/strings/boyer_moore_search.py\n",
            "/content/gdrive/My Drive/gpt2/python/strings/min_cost_string_conversion.py\n",
            "/content/gdrive/My Drive/gpt2/python/strings/lower.py\n",
            "/content/gdrive/My Drive/gpt2/python/strings/is_palindrome.py\n",
            "/content/gdrive/My Drive/gpt2/python/strings/rabin_karp.py\n"
          ],
          "name": "stdout"
        },
        {
          "output_type": "stream",
          "text": [
            "Token indices sequence length is longer than the specified maximum sequence length for this model (9115 > 1024). Running this sequence through the model will result in indexing errors\n"
          ],
          "name": "stderr"
        },
        {
          "output_type": "stream",
          "text": [
            "/content/gdrive/My Drive/gpt2/python/strings/upper.py\n",
            "/content/gdrive/My Drive/gpt2/python/other/activity_selection.py\n",
            "/content/gdrive/My Drive/gpt2/python/other/triplet_sum.py\n",
            "/content/gdrive/My Drive/gpt2/python/other/primelib.py\n",
            "/content/gdrive/My Drive/gpt2/python/other/binary_exponentiation.py\n",
            "/content/gdrive/My Drive/gpt2/python/other/dijkstra_bankers_algorithm.py\n",
            "/content/gdrive/My Drive/gpt2/python/other/magicdiamondpattern.py\n",
            "/content/gdrive/My Drive/gpt2/python/other/lfu_cache.py\n",
            "/content/gdrive/My Drive/gpt2/python/other/detecting_english_programmatically.py\n",
            "/content/gdrive/My Drive/gpt2/python/other/autocomplete_using_trie.py\n"
          ],
          "name": "stdout"
        },
        {
          "output_type": "stream",
          "text": [
            "Token indices sequence length is longer than the specified maximum sequence length for this model (16445 > 1024). Running this sequence through the model will result in indexing errors\n"
          ],
          "name": "stderr"
        },
        {
          "output_type": "stream",
          "text": [
            "/content/gdrive/My Drive/gpt2/python/other/binary_exponentiation_2.py\n",
            "/content/gdrive/My Drive/gpt2/python/other/least_recently_used.py\n",
            "/content/gdrive/My Drive/gpt2/python/other/lru_cache.py\n",
            "/content/gdrive/My Drive/gpt2/python/other/greedy.py\n",
            "/content/gdrive/My Drive/gpt2/python/other/fischer_yates_shuffle.py\n",
            "/content/gdrive/My Drive/gpt2/python/other/two_sum.py\n",
            "/content/gdrive/My Drive/gpt2/python/other/largest_subarray_sum.py\n",
            "/content/gdrive/My Drive/gpt2/python/other/gauss_easter.py\n",
            "/content/gdrive/My Drive/gpt2/python/other/game_of_life.py\n",
            "/content/gdrive/My Drive/gpt2/python/other/euclidean_gcd.py\n"
          ],
          "name": "stdout"
        },
        {
          "output_type": "stream",
          "text": [
            "Token indices sequence length is longer than the specified maximum sequence length for this model (8331 > 1024). Running this sequence through the model will result in indexing errors\n"
          ],
          "name": "stderr"
        },
        {
          "output_type": "stream",
          "text": [
            "/content/gdrive/My Drive/gpt2/python/other/markov_chain.py\n",
            "/content/gdrive/My Drive/gpt2/python/other/sdes.py\n",
            "/content/gdrive/My Drive/gpt2/python/other/scoring_algorithm.py\n",
            "/content/gdrive/My Drive/gpt2/python/other/word_patterns.py\n",
            "/content/gdrive/My Drive/gpt2/python/other/frequency_finder.py\n",
            "/content/gdrive/My Drive/gpt2/python/other/linear_congruential_generator.py\n",
            "/content/gdrive/My Drive/gpt2/python/other/password_generator.py\n",
            "/content/gdrive/My Drive/gpt2/python/other/nested_brackets.py\n",
            "/content/gdrive/My Drive/gpt2/python/other/sierpinski_triangle.py\n",
            "/content/gdrive/My Drive/gpt2/python/other/anagrams.py\n"
          ],
          "name": "stdout"
        },
        {
          "output_type": "stream",
          "text": [
            "Token indices sequence length is longer than the specified maximum sequence length for this model (8095 > 1024). Running this sequence through the model will result in indexing errors\n"
          ],
          "name": "stderr"
        },
        {
          "output_type": "stream",
          "text": [
            "/content/gdrive/My Drive/gpt2/python/other/integeration_by_simpson_approx.py\n",
            "/content/gdrive/My Drive/gpt2/python/other/tower_of_hanoi.py\n",
            "/content/gdrive/My Drive/gpt2/python/other/palindrome.py\n",
            "/content/gdrive/My Drive/gpt2/python/sorts/pigeon_sort.py\n",
            "/content/gdrive/My Drive/gpt2/python/sorts/bubble_sort.py\n",
            "/content/gdrive/My Drive/gpt2/python/sorts/tree_sort.py\n",
            "/content/gdrive/My Drive/gpt2/python/sorts/bogo_sort.py\n",
            "/content/gdrive/My Drive/gpt2/python/sorts/bitonic_sort.py\n",
            "/content/gdrive/My Drive/gpt2/python/sorts/bead_sort.py\n",
            "/content/gdrive/My Drive/gpt2/python/sorts/iterative_merge_sort.py\n"
          ],
          "name": "stdout"
        },
        {
          "output_type": "stream",
          "text": [
            "Token indices sequence length is longer than the specified maximum sequence length for this model (6985 > 1024). Running this sequence through the model will result in indexing errors\n"
          ],
          "name": "stderr"
        },
        {
          "output_type": "stream",
          "text": [
            "/content/gdrive/My Drive/gpt2/python/sorts/pancake_sort.py\n",
            "/content/gdrive/My Drive/gpt2/python/sorts/shell_sort.py\n",
            "/content/gdrive/My Drive/gpt2/python/sorts/tim_sort.py\n",
            "/content/gdrive/My Drive/gpt2/python/sorts/pigeonhole_sort.py\n",
            "/content/gdrive/My Drive/gpt2/python/sorts/quick_sort.py\n",
            "/content/gdrive/My Drive/gpt2/python/sorts/odd_even_transposition_single_threaded.py\n",
            "/content/gdrive/My Drive/gpt2/python/sorts/random_normal_distribution_quicksort.py\n",
            "/content/gdrive/My Drive/gpt2/python/sorts/topological_sort.py\n",
            "/content/gdrive/My Drive/gpt2/python/sorts/selection_sort.py\n",
            "/content/gdrive/My Drive/gpt2/python/sorts/unknown_sort.py\n"
          ],
          "name": "stdout"
        },
        {
          "output_type": "stream",
          "text": [
            "Token indices sequence length is longer than the specified maximum sequence length for this model (5098 > 1024). Running this sequence through the model will result in indexing errors\n"
          ],
          "name": "stderr"
        },
        {
          "output_type": "stream",
          "text": [
            "/content/gdrive/My Drive/gpt2/python/sorts/recursive_insertion_sort.py\n",
            "/content/gdrive/My Drive/gpt2/python/sorts/stooge_sort.py\n",
            "/content/gdrive/My Drive/gpt2/python/sorts/strand_sort.py\n",
            "/content/gdrive/My Drive/gpt2/python/sorts/wiggle_sort.py\n",
            "/content/gdrive/My Drive/gpt2/python/sorts/cycle_sort.py\n",
            "/content/gdrive/My Drive/gpt2/python/sorts/merge_insertion_sort.py\n",
            "/content/gdrive/My Drive/gpt2/python/sorts/heap_sort.py\n",
            "/content/gdrive/My Drive/gpt2/python/sorts/cocktail_shaker_sort.py\n",
            "/content/gdrive/My Drive/gpt2/python/sorts/recursive-quick-sort.py\n",
            "/content/gdrive/My Drive/gpt2/python/sorts/double_sort.py\n"
          ],
          "name": "stdout"
        },
        {
          "output_type": "stream",
          "text": [
            "Token indices sequence length is longer than the specified maximum sequence length for this model (7447 > 1024). Running this sequence through the model will result in indexing errors\n"
          ],
          "name": "stderr"
        },
        {
          "output_type": "stream",
          "text": [
            "/content/gdrive/My Drive/gpt2/python/sorts/recursive_bubble_sort.py\n",
            "/content/gdrive/My Drive/gpt2/python/sorts/gnome_sort.py\n",
            "/content/gdrive/My Drive/gpt2/python/sorts/counting_sort.py\n",
            "/content/gdrive/My Drive/gpt2/python/sorts/comb_sort.py\n",
            "/content/gdrive/My Drive/gpt2/python/sorts/random_pivot_quick_sort.py\n",
            "/content/gdrive/My Drive/gpt2/python/sorts/quick_sort_3_partition.py\n",
            "/content/gdrive/My Drive/gpt2/python/sorts/merge_sort.py\n",
            "/content/gdrive/My Drive/gpt2/python/sorts/odd_even_transposition_parallel.py\n",
            "/content/gdrive/My Drive/gpt2/python/sorts/i_sort.py\n",
            "/content/gdrive/My Drive/gpt2/python/sorts/radix_sort.py\n"
          ],
          "name": "stdout"
        },
        {
          "output_type": "stream",
          "text": [
            "Token indices sequence length is longer than the specified maximum sequence length for this model (6325 > 1024). Running this sequence through the model will result in indexing errors\n"
          ],
          "name": "stderr"
        },
        {
          "output_type": "stream",
          "text": [
            "/content/gdrive/My Drive/gpt2/python/sorts/bucket_sort.py\n",
            "/content/gdrive/My Drive/gpt2/python/sorts/insertion_sort.py\n",
            "/content/gdrive/My Drive/gpt2/python/sorts/external_sort.py\n",
            "/content/gdrive/My Drive/gpt2/python/web_programming/daily_horoscope.py\n",
            "/content/gdrive/My Drive/gpt2/python/web_programming/current_weather.py\n",
            "/content/gdrive/My Drive/gpt2/python/web_programming/get_imdbtop.py\n",
            "/content/gdrive/My Drive/gpt2/python/web_programming/get_imdb_top_250_movies_csv.py\n",
            "/content/gdrive/My Drive/gpt2/python/web_programming/fetch_bbc_news.py\n",
            "/content/gdrive/My Drive/gpt2/python/web_programming/fetch_github_info.py\n",
            "/content/gdrive/My Drive/gpt2/python/web_programming/fetch_jobs.py\n"
          ],
          "name": "stdout"
        },
        {
          "output_type": "stream",
          "text": [
            "Token indices sequence length is longer than the specified maximum sequence length for this model (5675 > 1024). Running this sequence through the model will result in indexing errors\n"
          ],
          "name": "stderr"
        },
        {
          "output_type": "stream",
          "text": [
            "/content/gdrive/My Drive/gpt2/python/web_programming/current_stock_price.py\n",
            "/content/gdrive/My Drive/gpt2/python/web_programming/slack_message.py\n",
            "/content/gdrive/My Drive/gpt2/python/web_programming/crawl_google_results.py\n",
            "/content/gdrive/My Drive/gpt2/python/web_programming/world_covid19_stats.py\n",
            "/content/gdrive/My Drive/gpt2/python/web_programming/emails_from_url.py\n",
            "/content/gdrive/My Drive/gpt2/python/searches/ternary_search.py\n",
            "/content/gdrive/My Drive/gpt2/python/searches/fibonacci_search.py\n",
            "/content/gdrive/My Drive/gpt2/python/searches/sentinel_linear_search.py\n",
            "/content/gdrive/My Drive/gpt2/python/searches/quick_select.py\n",
            "/content/gdrive/My Drive/gpt2/python/searches/double_linear_search.py\n"
          ],
          "name": "stdout"
        },
        {
          "output_type": "stream",
          "text": [
            "Token indices sequence length is longer than the specified maximum sequence length for this model (6037 > 1024). Running this sequence through the model will result in indexing errors\n"
          ],
          "name": "stderr"
        },
        {
          "output_type": "stream",
          "text": [
            "/content/gdrive/My Drive/gpt2/python/searches/hill_climbing.py\n",
            "/content/gdrive/My Drive/gpt2/python/searches/simulated_annealing.py\n",
            "/content/gdrive/My Drive/gpt2/python/searches/linear_search.py\n",
            "/content/gdrive/My Drive/gpt2/python/searches/binary_search.py\n",
            "/content/gdrive/My Drive/gpt2/python/searches/simple-binary-search.py\n",
            "/content/gdrive/My Drive/gpt2/python/searches/tabu_search.py\n",
            "/content/gdrive/My Drive/gpt2/python/searches/interpolation_search.py\n",
            "/content/gdrive/My Drive/gpt2/python/searches/jump_search.py\n",
            "/content/gdrive/My Drive/gpt2/python/scripts/build_directory_md.py\n",
            "/content/gdrive/My Drive/gpt2/python/scripts/validate_filenames.py\n"
          ],
          "name": "stdout"
        },
        {
          "output_type": "stream",
          "text": [
            "Token indices sequence length is longer than the specified maximum sequence length for this model (17291 > 1024). Running this sequence through the model will result in indexing errors\n"
          ],
          "name": "stderr"
        },
        {
          "output_type": "stream",
          "text": [
            "/content/gdrive/My Drive/gpt2/python/project_euler/problem_06/sol4.py\n",
            "/content/gdrive/My Drive/gpt2/python/project_euler/problem_06/sol1.py\n",
            "/content/gdrive/My Drive/gpt2/python/project_euler/problem_06/sol3.py\n",
            "/content/gdrive/My Drive/gpt2/python/project_euler/problem_06/sol2.py\n",
            "/content/gdrive/My Drive/gpt2/python/project_euler/problem_06/__init__.py\n",
            "/content/gdrive/My Drive/gpt2/python/project_euler/problem_05/sol1.py\n",
            "/content/gdrive/My Drive/gpt2/python/project_euler/problem_05/sol2.py\n",
            "/content/gdrive/My Drive/gpt2/python/project_euler/problem_05/__init__.py\n",
            "/content/gdrive/My Drive/gpt2/python/project_euler/problem_02/sol2.py\n",
            "/content/gdrive/My Drive/gpt2/python/project_euler/problem_02/sol3.py\n"
          ],
          "name": "stdout"
        },
        {
          "output_type": "stream",
          "text": [
            "Token indices sequence length is longer than the specified maximum sequence length for this model (3197 > 1024). Running this sequence through the model will result in indexing errors\n"
          ],
          "name": "stderr"
        },
        {
          "output_type": "stream",
          "text": [
            "/content/gdrive/My Drive/gpt2/python/project_euler/problem_02/sol1.py\n",
            "/content/gdrive/My Drive/gpt2/python/project_euler/problem_02/__init__.py\n",
            "/content/gdrive/My Drive/gpt2/python/project_euler/problem_02/sol4.py\n",
            "/content/gdrive/My Drive/gpt2/python/project_euler/problem_02/sol5.py\n",
            "/content/gdrive/My Drive/gpt2/python/project_euler/problem_03/sol2.py\n",
            "/content/gdrive/My Drive/gpt2/python/project_euler/problem_03/sol3.py\n",
            "/content/gdrive/My Drive/gpt2/python/project_euler/problem_03/__init__.py\n",
            "/content/gdrive/My Drive/gpt2/python/project_euler/problem_03/sol1.py\n",
            "/content/gdrive/My Drive/gpt2/python/project_euler/problem_04/sol2.py\n",
            "/content/gdrive/My Drive/gpt2/python/project_euler/problem_04/sol1.py\n"
          ],
          "name": "stdout"
        },
        {
          "output_type": "stream",
          "text": [
            "Token indices sequence length is longer than the specified maximum sequence length for this model (4335 > 1024). Running this sequence through the model will result in indexing errors\n"
          ],
          "name": "stderr"
        },
        {
          "output_type": "stream",
          "text": [
            "/content/gdrive/My Drive/gpt2/python/project_euler/problem_04/__init__.py\n",
            "/content/gdrive/My Drive/gpt2/python/project_euler/problem_01/sol5.py\n",
            "/content/gdrive/My Drive/gpt2/python/project_euler/problem_01/sol6.py\n",
            "/content/gdrive/My Drive/gpt2/python/project_euler/problem_01/sol3.py\n",
            "/content/gdrive/My Drive/gpt2/python/project_euler/problem_01/sol1.py\n",
            "/content/gdrive/My Drive/gpt2/python/project_euler/problem_01/sol2.py\n",
            "/content/gdrive/My Drive/gpt2/python/project_euler/problem_01/sol4.py\n",
            "/content/gdrive/My Drive/gpt2/python/project_euler/problem_01/__init__.py\n",
            "/content/gdrive/My Drive/gpt2/python/project_euler/problem_01/sol7.py\n"
          ],
          "name": "stdout"
        },
        {
          "output_type": "stream",
          "text": [
            "Token indices sequence length is longer than the specified maximum sequence length for this model (2367 > 1024). Running this sequence through the model will result in indexing errors\n"
          ],
          "name": "stderr"
        },
        {
          "output_type": "stream",
          "text": [
            "/content/gdrive/My Drive/gpt2/python/project_euler/problem_15/__init__.py\n",
            "/content/gdrive/My Drive/gpt2/python/project_euler/problem_15/sol1.py\n",
            "/content/gdrive/My Drive/gpt2/python/project_euler/problem_09/sol1.py\n",
            "/content/gdrive/My Drive/gpt2/python/project_euler/problem_09/sol3.py\n",
            "/content/gdrive/My Drive/gpt2/python/project_euler/problem_09/__init__.py\n",
            "/content/gdrive/My Drive/gpt2/python/project_euler/problem_09/sol2.py\n",
            "/content/gdrive/My Drive/gpt2/python/project_euler/problem_13/sol1.py\n",
            "/content/gdrive/My Drive/gpt2/python/project_euler/problem_13/__init__.py\n",
            "/content/gdrive/My Drive/gpt2/python/project_euler/problem_07/sol1.py\n",
            "/content/gdrive/My Drive/gpt2/python/project_euler/problem_07/sol3.py\n",
            "/content/gdrive/My Drive/gpt2/python/project_euler/problem_07/sol2.py\n"
          ],
          "name": "stdout"
        },
        {
          "output_type": "stream",
          "text": [
            "Token indices sequence length is longer than the specified maximum sequence length for this model (3618 > 1024). Running this sequence through the model will result in indexing errors\n"
          ],
          "name": "stderr"
        },
        {
          "output_type": "stream",
          "text": [
            "/content/gdrive/My Drive/gpt2/python/project_euler/problem_07/__init__.py\n",
            "/content/gdrive/My Drive/gpt2/python/project_euler/problem_08/__init__.py\n",
            "/content/gdrive/My Drive/gpt2/python/project_euler/problem_08/sol1.py\n",
            "/content/gdrive/My Drive/gpt2/python/project_euler/problem_08/sol3.py\n",
            "/content/gdrive/My Drive/gpt2/python/project_euler/problem_08/sol2.py\n",
            "/content/gdrive/My Drive/gpt2/python/project_euler/problem_16/sol1.py\n",
            "/content/gdrive/My Drive/gpt2/python/project_euler/problem_16/sol2.py\n",
            "/content/gdrive/My Drive/gpt2/python/project_euler/problem_16/__init__.py\n",
            "/content/gdrive/My Drive/gpt2/python/project_euler/problem_10/sol3.py\n",
            "/content/gdrive/My Drive/gpt2/python/project_euler/problem_10/sol2.py\n"
          ],
          "name": "stdout"
        },
        {
          "output_type": "stream",
          "text": [
            "Token indices sequence length is longer than the specified maximum sequence length for this model (5361 > 1024). Running this sequence through the model will result in indexing errors\n"
          ],
          "name": "stderr"
        },
        {
          "output_type": "stream",
          "text": [
            "/content/gdrive/My Drive/gpt2/python/project_euler/problem_10/__init__.py\n",
            "/content/gdrive/My Drive/gpt2/python/project_euler/problem_10/sol1.py\n",
            "/content/gdrive/My Drive/gpt2/python/project_euler/problem_14/__init__.py\n",
            "/content/gdrive/My Drive/gpt2/python/project_euler/problem_14/sol1.py\n",
            "/content/gdrive/My Drive/gpt2/python/project_euler/problem_14/sol2.py\n",
            "/content/gdrive/My Drive/gpt2/python/project_euler/problem_11/__init__.py\n",
            "/content/gdrive/My Drive/gpt2/python/project_euler/problem_11/sol1.py\n",
            "/content/gdrive/My Drive/gpt2/python/project_euler/problem_11/sol2.py\n",
            "/content/gdrive/My Drive/gpt2/python/project_euler/problem_12/sol1.py\n",
            "/content/gdrive/My Drive/gpt2/python/project_euler/problem_12/sol2.py\n"
          ],
          "name": "stdout"
        },
        {
          "output_type": "stream",
          "text": [
            "Token indices sequence length is longer than the specified maximum sequence length for this model (5220 > 1024). Running this sequence through the model will result in indexing errors\n"
          ],
          "name": "stderr"
        },
        {
          "output_type": "stream",
          "text": [
            "/content/gdrive/My Drive/gpt2/python/project_euler/problem_12/__init__.py\n",
            "/content/gdrive/My Drive/gpt2/python/project_euler/problem_19/__init__.py\n",
            "/content/gdrive/My Drive/gpt2/python/project_euler/problem_19/sol1.py\n",
            "/content/gdrive/My Drive/gpt2/python/project_euler/problem_234/sol1.py\n",
            "/content/gdrive/My Drive/gpt2/python/project_euler/problem_234/__init__.py\n",
            "/content/gdrive/My Drive/gpt2/python/project_euler/problem_20/sol1.py\n",
            "/content/gdrive/My Drive/gpt2/python/project_euler/problem_20/sol3.py\n",
            "/content/gdrive/My Drive/gpt2/python/project_euler/problem_20/sol2.py\n",
            "/content/gdrive/My Drive/gpt2/python/project_euler/problem_20/__init__.py\n",
            "/content/gdrive/My Drive/gpt2/python/project_euler/problem_20/sol4.py\n"
          ],
          "name": "stdout"
        },
        {
          "output_type": "stream",
          "text": [
            "Token indices sequence length is longer than the specified maximum sequence length for this model (2713 > 1024). Running this sequence through the model will result in indexing errors\n"
          ],
          "name": "stderr"
        },
        {
          "output_type": "stream",
          "text": [
            "/content/gdrive/My Drive/gpt2/python/project_euler/problem_25/sol1.py\n",
            "/content/gdrive/My Drive/gpt2/python/project_euler/problem_25/sol2.py\n",
            "/content/gdrive/My Drive/gpt2/python/project_euler/problem_25/sol3.py\n",
            "/content/gdrive/My Drive/gpt2/python/project_euler/problem_25/__init__.py\n",
            "/content/gdrive/My Drive/gpt2/python/project_euler/problem_23/sol1.py\n",
            "/content/gdrive/My Drive/gpt2/python/project_euler/problem_24/__init__.py\n",
            "/content/gdrive/My Drive/gpt2/python/project_euler/problem_24/sol1.py\n",
            "/content/gdrive/My Drive/gpt2/python/project_euler/problem_17/sol1.py\n",
            "/content/gdrive/My Drive/gpt2/python/project_euler/problem_17/__init__.py\n",
            "/content/gdrive/My Drive/gpt2/python/project_euler/problem_18/solution.py\n"
          ],
          "name": "stdout"
        },
        {
          "output_type": "stream",
          "text": [
            "Token indices sequence length is longer than the specified maximum sequence length for this model (3817 > 1024). Running this sequence through the model will result in indexing errors\n"
          ],
          "name": "stderr"
        },
        {
          "output_type": "stream",
          "text": [
            "/content/gdrive/My Drive/gpt2/python/project_euler/problem_21/__init__.py\n",
            "/content/gdrive/My Drive/gpt2/python/project_euler/problem_21/sol1.py\n",
            "/content/gdrive/My Drive/gpt2/python/project_euler/problem_22/sol1.py\n",
            "/content/gdrive/My Drive/gpt2/python/project_euler/problem_22/sol2.py\n",
            "/content/gdrive/My Drive/gpt2/python/project_euler/problem_22/__init__.py\n",
            "/content/gdrive/My Drive/gpt2/python/project_euler/problem_28/sol1.py\n",
            "/content/gdrive/My Drive/gpt2/python/project_euler/problem_28/__init__.py\n",
            "/content/gdrive/My Drive/gpt2/python/project_euler/problem_31/__init__.py\n",
            "/content/gdrive/My Drive/gpt2/python/project_euler/problem_31/sol2.py\n",
            "/content/gdrive/My Drive/gpt2/python/project_euler/problem_31/sol1.py\n"
          ],
          "name": "stdout"
        },
        {
          "output_type": "stream",
          "text": [
            "Token indices sequence length is longer than the specified maximum sequence length for this model (3110 > 1024). Running this sequence through the model will result in indexing errors\n"
          ],
          "name": "stderr"
        },
        {
          "output_type": "stream",
          "text": [
            "/content/gdrive/My Drive/gpt2/python/project_euler/problem_34/sol1.py\n",
            "/content/gdrive/My Drive/gpt2/python/project_euler/problem_34/__init__.py\n",
            "/content/gdrive/My Drive/gpt2/python/project_euler/problem_27/problem_27_sol1.py\n",
            "/content/gdrive/My Drive/gpt2/python/project_euler/problem_35/sol1.py\n",
            "/content/gdrive/My Drive/gpt2/python/project_euler/problem_35/__init__.py\n",
            "/content/gdrive/My Drive/gpt2/python/project_euler/problem_33/sol1.py\n",
            "/content/gdrive/My Drive/gpt2/python/project_euler/problem_33/__init__.py\n",
            "/content/gdrive/My Drive/gpt2/python/project_euler/problem_32/sol32.py\n",
            "/content/gdrive/My Drive/gpt2/python/project_euler/problem_30/soln.py\n"
          ],
          "name": "stdout"
        },
        {
          "output_type": "stream",
          "text": [
            "Token indices sequence length is longer than the specified maximum sequence length for this model (3677 > 1024). Running this sequence through the model will result in indexing errors\n"
          ],
          "name": "stderr"
        },
        {
          "output_type": "stream",
          "text": [
            "/content/gdrive/My Drive/gpt2/python/project_euler/problem_26/__init__.py\n",
            "/content/gdrive/My Drive/gpt2/python/project_euler/problem_26/sol1.py\n",
            "/content/gdrive/My Drive/gpt2/python/project_euler/problem_29/solution.py\n",
            "/content/gdrive/My Drive/gpt2/python/project_euler/problem_29/__init__.py\n",
            "/content/gdrive/My Drive/gpt2/python/project_euler/problem_43/__init__.py\n",
            "/content/gdrive/My Drive/gpt2/python/project_euler/problem_43/sol1.py\n",
            "/content/gdrive/My Drive/gpt2/python/project_euler/problem_45/__init__.py\n",
            "/content/gdrive/My Drive/gpt2/python/project_euler/problem_45/sol1.py\n",
            "/content/gdrive/My Drive/gpt2/python/project_euler/problem_37/sol1.py\n",
            "/content/gdrive/My Drive/gpt2/python/project_euler/problem_37/__init__.py\n",
            "/content/gdrive/My Drive/gpt2/python/project_euler/problem_41/sol1.py\n"
          ],
          "name": "stdout"
        },
        {
          "output_type": "stream",
          "text": [
            "Token indices sequence length is longer than the specified maximum sequence length for this model (3905 > 1024). Running this sequence through the model will result in indexing errors\n"
          ],
          "name": "stderr"
        },
        {
          "output_type": "stream",
          "text": [
            "/content/gdrive/My Drive/gpt2/python/project_euler/problem_41/__init__.py\n",
            "/content/gdrive/My Drive/gpt2/python/project_euler/problem_39/__init__.py\n",
            "/content/gdrive/My Drive/gpt2/python/project_euler/problem_39/sol1.py\n",
            "/content/gdrive/My Drive/gpt2/python/project_euler/problem_42/solution42.py\n",
            "/content/gdrive/My Drive/gpt2/python/project_euler/problem_40/sol1.py\n",
            "/content/gdrive/My Drive/gpt2/python/project_euler/problem_40/__init__.py\n",
            "/content/gdrive/My Drive/gpt2/python/project_euler/problem_46/__init__.py\n",
            "/content/gdrive/My Drive/gpt2/python/project_euler/problem_46/sol1.py\n",
            "/content/gdrive/My Drive/gpt2/python/project_euler/problem_44/sol1.py\n",
            "/content/gdrive/My Drive/gpt2/python/project_euler/problem_44/__init__.py\n"
          ],
          "name": "stdout"
        },
        {
          "output_type": "stream",
          "text": [
            "Token indices sequence length is longer than the specified maximum sequence length for this model (2913 > 1024). Running this sequence through the model will result in indexing errors\n"
          ],
          "name": "stderr"
        },
        {
          "output_type": "stream",
          "text": [
            "/content/gdrive/My Drive/gpt2/python/project_euler/problem_36/sol1.py\n",
            "/content/gdrive/My Drive/gpt2/python/project_euler/problem_36/__init__.py\n",
            "/content/gdrive/My Drive/gpt2/python/project_euler/problem_67/__init__.py\n",
            "/content/gdrive/My Drive/gpt2/python/project_euler/problem_67/sol1.py\n",
            "/content/gdrive/My Drive/gpt2/python/project_euler/problem_63/__init__.py\n",
            "/content/gdrive/My Drive/gpt2/python/project_euler/problem_63/sol1.py\n",
            "/content/gdrive/My Drive/gpt2/python/project_euler/problem_48/sol1.py\n",
            "/content/gdrive/My Drive/gpt2/python/project_euler/problem_48/__init__.py\n",
            "/content/gdrive/My Drive/gpt2/python/project_euler/problem_47/sol1.py\n"
          ],
          "name": "stdout"
        },
        {
          "output_type": "stream",
          "text": [
            "Token indices sequence length is longer than the specified maximum sequence length for this model (2534 > 1024). Running this sequence through the model will result in indexing errors\n"
          ],
          "name": "stderr"
        },
        {
          "output_type": "stream",
          "text": [
            "/content/gdrive/My Drive/gpt2/python/project_euler/problem_47/__init__.py\n",
            "/content/gdrive/My Drive/gpt2/python/project_euler/problem_53/__init__.py\n",
            "/content/gdrive/My Drive/gpt2/python/project_euler/problem_53/sol1.py\n",
            "/content/gdrive/My Drive/gpt2/python/project_euler/problem_76/sol1.py\n",
            "/content/gdrive/My Drive/gpt2/python/project_euler/problem_76/__init__.py\n",
            "/content/gdrive/My Drive/gpt2/python/project_euler/problem_56/__init__.py\n",
            "/content/gdrive/My Drive/gpt2/python/project_euler/problem_56/sol1.py\n",
            "/content/gdrive/My Drive/gpt2/python/project_euler/problem_52/__init__.py\n",
            "/content/gdrive/My Drive/gpt2/python/project_euler/problem_52/sol1.py\n",
            "/content/gdrive/My Drive/gpt2/python/project_euler/problem_55/sol1.py\n",
            "/content/gdrive/My Drive/gpt2/python/project_euler/problem_55/__init__.py\n"
          ],
          "name": "stdout"
        },
        {
          "output_type": "stream",
          "text": [
            "Token indices sequence length is longer than the specified maximum sequence length for this model (2450 > 1024). Running this sequence through the model will result in indexing errors\n"
          ],
          "name": "stderr"
        },
        {
          "output_type": "stream",
          "text": [
            "/content/gdrive/My Drive/gpt2/python/project_euler/problem_551/sol1.py\n",
            "/content/gdrive/My Drive/gpt2/python/project_euler/problem_551/__init__.py\n",
            "/content/gdrive/My Drive/gpt2/python/project_euler/problem_99/__init__.py\n",
            "/content/gdrive/My Drive/gpt2/python/project_euler/problem_99/sol1.py\n",
            "/content/gdrive/My Drive/gpt2/python/python_files/machine_learning_examples-master/best_fit_line.py\n",
            "/content/gdrive/My Drive/gpt2/python/python_files/machine_learning_examples-master/ann_class/regression.py\n",
            "/content/gdrive/My Drive/gpt2/python/python_files/machine_learning_examples-master/ann_class/tf_example.py\n",
            "/content/gdrive/My Drive/gpt2/python/python_files/machine_learning_examples-master/ann_class/forwardprop.py\n",
            "/content/gdrive/My Drive/gpt2/python/python_files/machine_learning_examples-master/ann_class/sklearn_ann.py\n",
            "/content/gdrive/My Drive/gpt2/python/python_files/machine_learning_examples-master/ann_class/xor_donut.py\n"
          ],
          "name": "stdout"
        },
        {
          "output_type": "stream",
          "text": [
            "Token indices sequence length is longer than the specified maximum sequence length for this model (8822 > 1024). Running this sequence through the model will result in indexing errors\n"
          ],
          "name": "stderr"
        },
        {
          "output_type": "stream",
          "text": [
            "/content/gdrive/My Drive/gpt2/python/python_files/machine_learning_examples-master/ann_class/backprop.py\n",
            "/content/gdrive/My Drive/gpt2/python/python_files/machine_learning_examples-master/cnn_class/keras_example.py\n",
            "/content/gdrive/My Drive/gpt2/python/python_files/machine_learning_examples-master/cnn_class/cnn_tf.py\n",
            "/content/gdrive/My Drive/gpt2/python/python_files/machine_learning_examples-master/cnn_class/cnn_theano.py\n",
            "/content/gdrive/My Drive/gpt2/python/python_files/machine_learning_examples-master/cnn_class/cnn_tf_plot_filters.py\n",
            "/content/gdrive/My Drive/gpt2/python/python_files/machine_learning_examples-master/cnn_class/edge.py\n",
            "/content/gdrive/My Drive/gpt2/python/python_files/machine_learning_examples-master/cnn_class/custom_blur.py\n",
            "/content/gdrive/My Drive/gpt2/python/python_files/machine_learning_examples-master/cnn_class/cnn_theano_plot_filters.py\n",
            "/content/gdrive/My Drive/gpt2/python/python_files/machine_learning_examples-master/cnn_class/blur.py\n",
            "/content/gdrive/My Drive/gpt2/python/python_files/machine_learning_examples-master/cnn_class/echo.py\n"
          ],
          "name": "stdout"
        },
        {
          "output_type": "stream",
          "text": [
            "Token indices sequence length is longer than the specified maximum sequence length for this model (19137 > 1024). Running this sequence through the model will result in indexing errors\n"
          ],
          "name": "stderr"
        },
        {
          "output_type": "stream",
          "text": [
            "/content/gdrive/My Drive/gpt2/python/python_files/machine_learning_examples-master/cnn_class/benchmark.py\n",
            "/content/gdrive/My Drive/gpt2/python/python_files/machine_learning_examples-master/cnn_class/edge_benchmark.py\n",
            "/content/gdrive/My Drive/gpt2/python/python_files/machine_learning_examples-master/cnn_class/cifar.py\n",
            "/content/gdrive/My Drive/gpt2/python/python_files/machine_learning_examples-master/bayesian_ml/3/run.py\n",
            "/content/gdrive/My Drive/gpt2/python/python_files/machine_learning_examples-master/bayesian_ml/4/emgmm.py\n",
            "/content/gdrive/My Drive/gpt2/python/python_files/machine_learning_examples-master/bayesian_ml/4/vigmm.py\n",
            "/content/gdrive/My Drive/gpt2/python/python_files/machine_learning_examples-master/bayesian_ml/4/npbgmm.py\n",
            "/content/gdrive/My Drive/gpt2/python/python_files/machine_learning_examples-master/bayesian_ml/2/em.py\n",
            "/content/gdrive/My Drive/gpt2/python/python_files/machine_learning_examples-master/bayesian_ml/2/probit.py\n",
            "/content/gdrive/My Drive/gpt2/python/python_files/machine_learning_examples-master/bayesian_ml/1/nb.py\n"
          ],
          "name": "stdout"
        },
        {
          "output_type": "stream",
          "text": [
            "Token indices sequence length is longer than the specified maximum sequence length for this model (21326 > 1024). Running this sequence through the model will result in indexing errors\n"
          ],
          "name": "stderr"
        },
        {
          "output_type": "stream",
          "text": [
            "/content/gdrive/My Drive/gpt2/python/python_files/machine_learning_examples-master/hmm_class/hmmc_theano.py\n",
            "/content/gdrive/My Drive/gpt2/python/python_files/machine_learning_examples-master/hmm_class/hmmc_concat.py\n",
            "/content/gdrive/My Drive/gpt2/python/python_files/machine_learning_examples-master/hmm_class/hmmd_tf.py\n",
            "/content/gdrive/My Drive/gpt2/python/python_files/machine_learning_examples-master/hmm_class/hmmc_scaled_concat.py\n",
            "/content/gdrive/My Drive/gpt2/python/python_files/machine_learning_examples-master/hmm_class/generate_ht.py\n",
            "/content/gdrive/My Drive/gpt2/python/python_files/machine_learning_examples-master/hmm_class/hmmc.py\n",
            "/content/gdrive/My Drive/gpt2/python/python_files/machine_learning_examples-master/hmm_class/hmmd_scaled.py\n",
            "/content/gdrive/My Drive/gpt2/python/python_files/machine_learning_examples-master/hmm_class/hmmc_tf.py\n",
            "/content/gdrive/My Drive/gpt2/python/python_files/machine_learning_examples-master/hmm_class/scan1.py\n",
            "/content/gdrive/My Drive/gpt2/python/python_files/machine_learning_examples-master/hmm_class/hmmc_scaled_concat_diag.py\n"
          ],
          "name": "stdout"
        },
        {
          "output_type": "stream",
          "text": [
            "Token indices sequence length is longer than the specified maximum sequence length for this model (34563 > 1024). Running this sequence through the model will result in indexing errors\n"
          ],
          "name": "stderr"
        },
        {
          "output_type": "stream",
          "text": [
            "/content/gdrive/My Drive/gpt2/python/python_files/machine_learning_examples-master/hmm_class/hmmc_theano2.py\n",
            "/content/gdrive/My Drive/gpt2/python/python_files/machine_learning_examples-master/hmm_class/hmm_classifier.py\n",
            "/content/gdrive/My Drive/gpt2/python/python_files/machine_learning_examples-master/hmm_class/hmmd_theano.py\n",
            "/content/gdrive/My Drive/gpt2/python/python_files/machine_learning_examples-master/hmm_class/__init__.py\n",
            "/content/gdrive/My Drive/gpt2/python/python_files/machine_learning_examples-master/hmm_class/tf_scan1.py\n",
            "/content/gdrive/My Drive/gpt2/python/python_files/machine_learning_examples-master/hmm_class/frost.py\n",
            "/content/gdrive/My Drive/gpt2/python/python_files/machine_learning_examples-master/hmm_class/generate_c.py\n",
            "/content/gdrive/My Drive/gpt2/python/python_files/machine_learning_examples-master/hmm_class/tf_scan2.py\n",
            "/content/gdrive/My Drive/gpt2/python/python_files/machine_learning_examples-master/hmm_class/scan3.py\n",
            "/content/gdrive/My Drive/gpt2/python/python_files/machine_learning_examples-master/hmm_class/sites.py\n"
          ],
          "name": "stdout"
        },
        {
          "output_type": "stream",
          "text": [
            "Token indices sequence length is longer than the specified maximum sequence length for this model (11327 > 1024). Running this sequence through the model will result in indexing errors\n"
          ],
          "name": "stderr"
        },
        {
          "output_type": "stream",
          "text": [
            "/content/gdrive/My Drive/gpt2/python/python_files/machine_learning_examples-master/hmm_class/hmmd_theano2.py\n",
            "/content/gdrive/My Drive/gpt2/python/python_files/machine_learning_examples-master/hmm_class/tf_scan3.py\n",
            "/content/gdrive/My Drive/gpt2/python/python_files/machine_learning_examples-master/hmm_class/hmmd.py\n",
            "/content/gdrive/My Drive/gpt2/python/python_files/machine_learning_examples-master/hmm_class/scan2.py\n",
            "/content/gdrive/My Drive/gpt2/python/python_files/machine_learning_examples-master/ab_testing/bayesian_bandit.py\n",
            "/content/gdrive/My Drive/gpt2/python/python_files/machine_learning_examples-master/ab_testing/demo.py\n",
            "/content/gdrive/My Drive/gpt2/python/python_files/machine_learning_examples-master/ab_testing/convergence.py\n",
            "/content/gdrive/My Drive/gpt2/python/python_files/machine_learning_examples-master/ab_testing/ex_ttest.py\n",
            "/content/gdrive/My Drive/gpt2/python/python_files/machine_learning_examples-master/ab_testing/chisquare.py\n",
            "/content/gdrive/My Drive/gpt2/python/python_files/machine_learning_examples-master/ab_testing/server_solution.py\n"
          ],
          "name": "stdout"
        },
        {
          "output_type": "stream",
          "text": [
            "Token indices sequence length is longer than the specified maximum sequence length for this model (10739 > 1024). Running this sequence through the model will result in indexing errors\n"
          ],
          "name": "stderr"
        },
        {
          "output_type": "stream",
          "text": [
            "/content/gdrive/My Drive/gpt2/python/python_files/machine_learning_examples-master/ab_testing/ex_chisq.py\n",
            "/content/gdrive/My Drive/gpt2/python/python_files/machine_learning_examples-master/ab_testing/ci_comparison.py\n",
            "/content/gdrive/My Drive/gpt2/python/python_files/machine_learning_examples-master/ab_testing/client.py\n",
            "/content/gdrive/My Drive/gpt2/python/python_files/machine_learning_examples-master/ab_testing/server_starter.py\n",
            "/content/gdrive/My Drive/gpt2/python/python_files/machine_learning_examples-master/ab_testing/ttest.py\n",
            "/content/gdrive/My Drive/gpt2/python/python_files/machine_learning_examples-master/ann_class2/__init__.py\n",
            "/content/gdrive/My Drive/gpt2/python/python_files/machine_learning_examples-master/ann_class2/pytorch_example.py\n",
            "/content/gdrive/My Drive/gpt2/python/python_files/machine_learning_examples-master/ann_class2/dropout_tensorflow.py\n",
            "/content/gdrive/My Drive/gpt2/python/python_files/machine_learning_examples-master/ann_class2/mxnet_example.py\n",
            "/content/gdrive/My Drive/gpt2/python/python_files/machine_learning_examples-master/ann_class2/theano2.py\n"
          ],
          "name": "stdout"
        },
        {
          "output_type": "stream",
          "text": [
            "Token indices sequence length is longer than the specified maximum sequence length for this model (8568 > 1024). Running this sequence through the model will result in indexing errors\n"
          ],
          "name": "stderr"
        },
        {
          "output_type": "stream",
          "text": [
            "/content/gdrive/My Drive/gpt2/python/python_files/machine_learning_examples-master/ann_class2/tensorflow1.py\n",
            "/content/gdrive/My Drive/gpt2/python/python_files/machine_learning_examples-master/ann_class2/theano_ann.py\n",
            "/content/gdrive/My Drive/gpt2/python/python_files/machine_learning_examples-master/ann_class2/batch_norm_tf.py\n",
            "/content/gdrive/My Drive/gpt2/python/python_files/machine_learning_examples-master/ann_class2/rmsprop.py\n",
            "/content/gdrive/My Drive/gpt2/python/python_files/machine_learning_examples-master/ann_class2/pytorch_example2.py\n",
            "/content/gdrive/My Drive/gpt2/python/python_files/machine_learning_examples-master/ann_class2/adam.py\n",
            "/content/gdrive/My Drive/gpt2/python/python_files/machine_learning_examples-master/ann_class2/cntk_example.py\n",
            "/content/gdrive/My Drive/gpt2/python/python_files/machine_learning_examples-master/ann_class2/batch_norm_theano.py\n",
            "/content/gdrive/My Drive/gpt2/python/python_files/machine_learning_examples-master/ann_class2/random_search.py\n",
            "/content/gdrive/My Drive/gpt2/python/python_files/machine_learning_examples-master/ann_class2/keras_example.py\n"
          ],
          "name": "stdout"
        },
        {
          "output_type": "stream",
          "text": [
            "Token indices sequence length is longer than the specified maximum sequence length for this model (18577 > 1024). Running this sequence through the model will result in indexing errors\n"
          ],
          "name": "stderr"
        },
        {
          "output_type": "stream",
          "text": [
            "/content/gdrive/My Drive/gpt2/python/python_files/machine_learning_examples-master/ann_class2/pytorch_batchnorm.py\n",
            "/content/gdrive/My Drive/gpt2/python/python_files/machine_learning_examples-master/ann_class2/keras_functional.py\n",
            "/content/gdrive/My Drive/gpt2/python/python_files/machine_learning_examples-master/ann_class2/sgd.py\n",
            "/content/gdrive/My Drive/gpt2/python/python_files/machine_learning_examples-master/ann_class2/tensorflow2.py\n",
            "/content/gdrive/My Drive/gpt2/python/python_files/machine_learning_examples-master/ann_class2/grid_search.py\n",
            "/content/gdrive/My Drive/gpt2/python/python_files/machine_learning_examples-master/ann_class2/rmsprop_test.py\n",
            "/content/gdrive/My Drive/gpt2/python/python_files/machine_learning_examples-master/ann_class2/momentum.py\n",
            "/content/gdrive/My Drive/gpt2/python/python_files/machine_learning_examples-master/ann_class2/dropout_theano.py\n",
            "/content/gdrive/My Drive/gpt2/python/python_files/machine_learning_examples-master/ann_class2/mlp.py\n",
            "/content/gdrive/My Drive/gpt2/python/python_files/machine_learning_examples-master/ann_class2/tf_with_save.py\n"
          ],
          "name": "stdout"
        },
        {
          "output_type": "stream",
          "text": [
            "Token indices sequence length is longer than the specified maximum sequence length for this model (16809 > 1024). Running this sequence through the model will result in indexing errors\n"
          ],
          "name": "stderr"
        },
        {
          "output_type": "stream",
          "text": [
            "/content/gdrive/My Drive/gpt2/python/python_files/machine_learning_examples-master/ann_class2/pytorch_dropout.py\n",
            "/content/gdrive/My Drive/gpt2/python/python_files/machine_learning_examples-master/ann_class2/theano1.py\n",
            "/content/gdrive/My Drive/gpt2/python/python_files/machine_learning_examples-master/ann_class2/util.py\n",
            "/content/gdrive/My Drive/gpt2/python/python_files/machine_learning_examples-master/airline/ann.py\n",
            "/content/gdrive/My Drive/gpt2/python/python_files/machine_learning_examples-master/airline/lr.py\n",
            "/content/gdrive/My Drive/gpt2/python/python_files/machine_learning_examples-master/airline/rnn.py\n",
            "/content/gdrive/My Drive/gpt2/python/python_files/machine_learning_examples-master/cnn_class2/tf_resnet_convblock.py\n",
            "/content/gdrive/My Drive/gpt2/python/python_files/machine_learning_examples-master/cnn_class2/use_pretrained_weights_vgg.py\n",
            "/content/gdrive/My Drive/gpt2/python/python_files/machine_learning_examples-master/cnn_class2/fashion.py\n",
            "/content/gdrive/My Drive/gpt2/python/python_files/machine_learning_examples-master/cnn_class2/tf_resnet_convblock_starter.py\n"
          ],
          "name": "stdout"
        },
        {
          "output_type": "stream",
          "text": [
            "Token indices sequence length is longer than the specified maximum sequence length for this model (17657 > 1024). Running this sequence through the model will result in indexing errors\n"
          ],
          "name": "stderr"
        },
        {
          "output_type": "stream",
          "text": [
            "/content/gdrive/My Drive/gpt2/python/python_files/machine_learning_examples-master/cnn_class2/style_transfer3.py\n",
            "/content/gdrive/My Drive/gpt2/python/python_files/machine_learning_examples-master/cnn_class2/tf_resnet_identity_block.py\n",
            "/content/gdrive/My Drive/gpt2/python/python_files/machine_learning_examples-master/cnn_class2/siamese.py\n",
            "/content/gdrive/My Drive/gpt2/python/python_files/machine_learning_examples-master/cnn_class2/test_softmax.py\n",
            "/content/gdrive/My Drive/gpt2/python/python_files/machine_learning_examples-master/cnn_class2/class_activation_maps.py\n",
            "/content/gdrive/My Drive/gpt2/python/python_files/machine_learning_examples-master/cnn_class2/ssd.py\n",
            "/content/gdrive/My Drive/gpt2/python/python_files/machine_learning_examples-master/cnn_class2/tf_resnet_first_layers_starter.py\n",
            "/content/gdrive/My Drive/gpt2/python/python_files/machine_learning_examples-master/cnn_class2/tf_resnet_identity_block_starter.py\n",
            "/content/gdrive/My Drive/gpt2/python/python_files/machine_learning_examples-master/cnn_class2/use_pretrained_weights_resnet.py\n",
            "/content/gdrive/My Drive/gpt2/python/python_files/machine_learning_examples-master/cnn_class2/make_limited_datasets.py\n"
          ],
          "name": "stdout"
        },
        {
          "output_type": "stream",
          "text": [
            "Token indices sequence length is longer than the specified maximum sequence length for this model (13979 > 1024). Running this sequence through the model will result in indexing errors\n"
          ],
          "name": "stderr"
        },
        {
          "output_type": "stream",
          "text": [
            "/content/gdrive/My Drive/gpt2/python/python_files/machine_learning_examples-master/cnn_class2/util.py\n",
            "/content/gdrive/My Drive/gpt2/python/python_files/machine_learning_examples-master/cnn_class2/tf_resnet.py\n",
            "/content/gdrive/My Drive/gpt2/python/python_files/machine_learning_examples-master/cnn_class2/tf_resnet_first_layers.py\n",
            "/content/gdrive/My Drive/gpt2/python/python_files/machine_learning_examples-master/cnn_class2/style_transfer1.py\n",
            "/content/gdrive/My Drive/gpt2/python/python_files/machine_learning_examples-master/cnn_class2/style_transfer2.py\n",
            "/content/gdrive/My Drive/gpt2/python/python_files/machine_learning_examples-master/cnn_class2/fashion2.py\n",
            "/content/gdrive/My Drive/gpt2/python/python_files/machine_learning_examples-master/ann_logistic_extra/logistic_train.py\n",
            "/content/gdrive/My Drive/gpt2/python/python_files/machine_learning_examples-master/ann_logistic_extra/__init__.py\n",
            "/content/gdrive/My Drive/gpt2/python/python_files/machine_learning_examples-master/ann_logistic_extra/logistic_softmax_train.py\n",
            "/content/gdrive/My Drive/gpt2/python/python_files/machine_learning_examples-master/ann_logistic_extra/logistic_predict.py\n"
          ],
          "name": "stdout"
        },
        {
          "output_type": "stream",
          "text": [
            "Token indices sequence length is longer than the specified maximum sequence length for this model (11486 > 1024). Running this sequence through the model will result in indexing errors\n"
          ],
          "name": "stderr"
        },
        {
          "output_type": "stream",
          "text": [
            "/content/gdrive/My Drive/gpt2/python/python_files/machine_learning_examples-master/ann_logistic_extra/process.py\n",
            "/content/gdrive/My Drive/gpt2/python/python_files/machine_learning_examples-master/ann_logistic_extra/ann_train.py\n",
            "/content/gdrive/My Drive/gpt2/python/python_files/machine_learning_examples-master/ann_logistic_extra/ann_predict.py\n",
            "/content/gdrive/My Drive/gpt2/python/python_files/machine_learning_examples-master/nlp_class3/wseq2seq.py\n",
            "/content/gdrive/My Drive/gpt2/python/python_files/machine_learning_examples-master/nlp_class3/poetry.py\n",
            "/content/gdrive/My Drive/gpt2/python/python_files/machine_learning_examples-master/nlp_class3/bilstm_mnist.py\n",
            "/content/gdrive/My Drive/gpt2/python/python_files/machine_learning_examples-master/nlp_class3/memory_network.py\n",
            "/content/gdrive/My Drive/gpt2/python/python_files/machine_learning_examples-master/nlp_class3/attention.py\n",
            "/content/gdrive/My Drive/gpt2/python/python_files/machine_learning_examples-master/nlp_class3/cnn_toxic.py\n",
            "/content/gdrive/My Drive/gpt2/python/python_files/machine_learning_examples-master/nlp_class3/lstm_toxic.py\n"
          ],
          "name": "stdout"
        },
        {
          "output_type": "stream",
          "text": [
            "Token indices sequence length is longer than the specified maximum sequence length for this model (22024 > 1024). Running this sequence through the model will result in indexing errors\n"
          ],
          "name": "stderr"
        },
        {
          "output_type": "stream",
          "text": [
            "/content/gdrive/My Drive/gpt2/python/python_files/machine_learning_examples-master/nlp_class3/simple_rnn_test.py\n",
            "/content/gdrive/My Drive/gpt2/python/python_files/machine_learning_examples-master/nlp_class3/bilstm_test.py\n",
            "/content/gdrive/My Drive/gpt2/python/python_files/machine_learning_examples-master/nlp_class3/convert_twitter.py\n",
            "/content/gdrive/My Drive/gpt2/python/python_files/machine_learning_examples-master/nlp_class/sentiment.py\n",
            "/content/gdrive/My Drive/gpt2/python/python_files/machine_learning_examples-master/nlp_class/cipher_placeholder.py\n",
            "/content/gdrive/My Drive/gpt2/python/python_files/machine_learning_examples-master/nlp_class/nb.py\n",
            "/content/gdrive/My Drive/gpt2/python/python_files/machine_learning_examples-master/nlp_class/lsa.py\n",
            "/content/gdrive/My Drive/gpt2/python/python_files/machine_learning_examples-master/nlp_class/article_spinner.py\n",
            "/content/gdrive/My Drive/gpt2/python/python_files/machine_learning_examples-master/nlp_class/spam2.py\n",
            "/content/gdrive/My Drive/gpt2/python/python_files/machine_learning_examples-master/linear_regression_class/gradient_descent.py\n"
          ],
          "name": "stdout"
        },
        {
          "output_type": "stream",
          "text": [
            "Token indices sequence length is longer than the specified maximum sequence length for this model (7853 > 1024). Running this sequence through the model will result in indexing errors\n"
          ],
          "name": "stderr"
        },
        {
          "output_type": "stream",
          "text": [
            "/content/gdrive/My Drive/gpt2/python/python_files/machine_learning_examples-master/linear_regression_class/lr_2d.py\n",
            "/content/gdrive/My Drive/gpt2/python/python_files/machine_learning_examples-master/linear_regression_class/moore.py\n",
            "/content/gdrive/My Drive/gpt2/python/python_files/machine_learning_examples-master/linear_regression_class/l1_regularization.py\n",
            "/content/gdrive/My Drive/gpt2/python/python_files/machine_learning_examples-master/linear_regression_class/overfitting.py\n",
            "/content/gdrive/My Drive/gpt2/python/python_files/machine_learning_examples-master/linear_regression_class/generate_2d.py\n",
            "/content/gdrive/My Drive/gpt2/python/python_files/machine_learning_examples-master/linear_regression_class/l2_regularization.py\n",
            "/content/gdrive/My Drive/gpt2/python/python_files/machine_learning_examples-master/linear_regression_class/generate_poly.py\n",
            "/content/gdrive/My Drive/gpt2/python/python_files/machine_learning_examples-master/linear_regression_class/systolic.py\n",
            "/content/gdrive/My Drive/gpt2/python/python_files/machine_learning_examples-master/linear_regression_class/generate_1d.py\n",
            "/content/gdrive/My Drive/gpt2/python/python_files/machine_learning_examples-master/linear_regression_class/lr_poly.py\n"
          ],
          "name": "stdout"
        },
        {
          "output_type": "stream",
          "text": [
            "Token indices sequence length is longer than the specified maximum sequence length for this model (5430 > 1024). Running this sequence through the model will result in indexing errors\n"
          ],
          "name": "stderr"
        },
        {
          "output_type": "stream",
          "text": [
            "/content/gdrive/My Drive/gpt2/python/python_files/machine_learning_examples-master/linear_regression_class/lr_1d.py\n",
            "/content/gdrive/My Drive/gpt2/python/python_files/machine_learning_examples-master/linear_regression_class/gd.py\n",
            "/content/gdrive/My Drive/gpt2/python/python_files/machine_learning_examples-master/logistic_regression_class/logistic2.py\n",
            "/content/gdrive/My Drive/gpt2/python/python_files/machine_learning_examples-master/logistic_regression_class/bad_xor.py\n",
            "/content/gdrive/My Drive/gpt2/python/python_files/machine_learning_examples-master/logistic_regression_class/l1_regularization.py\n",
            "/content/gdrive/My Drive/gpt2/python/python_files/machine_learning_examples-master/logistic_regression_class/logistic1.py\n",
            "/content/gdrive/My Drive/gpt2/python/python_files/machine_learning_examples-master/logistic_regression_class/logistic_xor.py\n",
            "/content/gdrive/My Drive/gpt2/python/python_files/machine_learning_examples-master/logistic_regression_class/logistic_visualize.py\n",
            "/content/gdrive/My Drive/gpt2/python/python_files/machine_learning_examples-master/logistic_regression_class/logistic3.py\n",
            "/content/gdrive/My Drive/gpt2/python/python_files/machine_learning_examples-master/logistic_regression_class/logistic_donut.py\n"
          ],
          "name": "stdout"
        },
        {
          "output_type": "stream",
          "text": [
            "Token indices sequence length is longer than the specified maximum sequence length for this model (5729 > 1024). Running this sequence through the model will result in indexing errors\n"
          ],
          "name": "stderr"
        },
        {
          "output_type": "stream",
          "text": [
            "/content/gdrive/My Drive/gpt2/python/python_files/machine_learning_examples-master/logistic_regression_class/logistic4.py\n",
            "/content/gdrive/My Drive/gpt2/python/python_files/machine_learning_examples-master/keras_examples/cnn_dropout_batchnorm.py\n",
            "/content/gdrive/My Drive/gpt2/python/python_files/machine_learning_examples-master/keras_examples/batchnorm.py\n",
            "/content/gdrive/My Drive/gpt2/python/python_files/machine_learning_examples-master/keras_examples/util.py\n",
            "/content/gdrive/My Drive/gpt2/python/python_files/machine_learning_examples-master/keras_examples/basic_mlp.py\n",
            "/content/gdrive/My Drive/gpt2/python/python_files/machine_learning_examples-master/keras_examples/sine2.py\n",
            "/content/gdrive/My Drive/gpt2/python/python_files/machine_learning_examples-master/keras_examples/cnn_cifar.py\n",
            "/content/gdrive/My Drive/gpt2/python/python_files/machine_learning_examples-master/keras_examples/sentiment_analysis.py\n",
            "/content/gdrive/My Drive/gpt2/python/python_files/machine_learning_examples-master/keras_examples/cnn.py\n",
            "/content/gdrive/My Drive/gpt2/python/python_files/machine_learning_examples-master/keras_examples/dropout.py\n"
          ],
          "name": "stdout"
        },
        {
          "output_type": "stream",
          "text": [
            "Token indices sequence length is longer than the specified maximum sequence length for this model (7507 > 1024). Running this sequence through the model will result in indexing errors\n"
          ],
          "name": "stderr"
        },
        {
          "output_type": "stream",
          "text": [
            "/content/gdrive/My Drive/gpt2/python/python_files/machine_learning_examples-master/keras_examples/sine.py\n",
            "/content/gdrive/My Drive/gpt2/python/python_files/machine_learning_examples-master/keras_examples/ann.py\n",
            "/content/gdrive/My Drive/gpt2/python/python_files/machine_learning_examples-master/keras_examples/translation.py\n",
            "/content/gdrive/My Drive/gpt2/python/python_files/machine_learning_examples-master/numpy_class/regression_example.py\n",
            "/content/gdrive/My Drive/gpt2/python/python_files/machine_learning_examples-master/numpy_class/classification_example.py\n",
            "/content/gdrive/My Drive/gpt2/python/python_files/machine_learning_examples-master/numpy_class/dot_for.py\n",
            "/content/gdrive/My Drive/gpt2/python/python_files/machine_learning_examples-master/numpy_class/manual_data_loading.py\n",
            "/content/gdrive/My Drive/gpt2/python/python_files/machine_learning_examples-master/numpy_class/exercises/ex3.py\n",
            "/content/gdrive/My Drive/gpt2/python/python_files/machine_learning_examples-master/numpy_class/exercises/ex9.py\n",
            "/content/gdrive/My Drive/gpt2/python/python_files/machine_learning_examples-master/numpy_class/exercises/ex2.py\n"
          ],
          "name": "stdout"
        },
        {
          "output_type": "stream",
          "text": [
            "Token indices sequence length is longer than the specified maximum sequence length for this model (5654 > 1024). Running this sequence through the model will result in indexing errors\n"
          ],
          "name": "stderr"
        },
        {
          "output_type": "stream",
          "text": [
            "/content/gdrive/My Drive/gpt2/python/python_files/machine_learning_examples-master/numpy_class/exercises/ex1.py\n",
            "/content/gdrive/My Drive/gpt2/python/python_files/machine_learning_examples-master/numpy_class/exercises/ex5.py\n",
            "/content/gdrive/My Drive/gpt2/python/python_files/machine_learning_examples-master/numpy_class/exercises/ex7.py\n",
            "/content/gdrive/My Drive/gpt2/python/python_files/machine_learning_examples-master/numpy_class/exercises/ex4.py\n",
            "/content/gdrive/My Drive/gpt2/python/python_files/machine_learning_examples-master/numpy_class/exercises/ex8.py\n",
            "/content/gdrive/My Drive/gpt2/python/python_files/machine_learning_examples-master/numpy_class/exercises/ex6.py\n",
            "/content/gdrive/My Drive/gpt2/python/python_files/machine_learning_examples-master/numpy_class/python3/dot_for.py\n",
            "/content/gdrive/My Drive/gpt2/python/python_files/machine_learning_examples-master/numpy_class/python3/manual_data_loading.py\n",
            "/content/gdrive/My Drive/gpt2/python/python_files/machine_learning_examples-master/pytorch/ann_regression.py\n",
            "/content/gdrive/My Drive/gpt2/python/python_files/machine_learning_examples-master/pytorch/rl_trader.py\n"
          ],
          "name": "stdout"
        },
        {
          "output_type": "stream",
          "text": [
            "Token indices sequence length is longer than the specified maximum sequence length for this model (8825 > 1024). Running this sequence through the model will result in indexing errors\n"
          ],
          "name": "stderr"
        },
        {
          "output_type": "stream",
          "text": [
            "/content/gdrive/My Drive/gpt2/python/python_files/machine_learning_examples-master/pytorch/plot_rl_rewards.py\n",
            "/content/gdrive/My Drive/gpt2/python/python_files/machine_learning_examples-master/nlp_class2/glove_svd.py\n",
            "/content/gdrive/My Drive/gpt2/python/python_files/machine_learning_examples-master/nlp_class2/pos_baseline.py\n",
            "/content/gdrive/My Drive/gpt2/python/python_files/machine_learning_examples-master/nlp_class2/bow_classifier.py\n",
            "/content/gdrive/My Drive/gpt2/python/python_files/machine_learning_examples-master/nlp_class2/logistic.py\n",
            "/content/gdrive/My Drive/gpt2/python/python_files/machine_learning_examples-master/nlp_class2/neural_network2.py\n",
            "/content/gdrive/My Drive/gpt2/python/python_files/machine_learning_examples-master/nlp_class2/util.py\n",
            "/content/gdrive/My Drive/gpt2/python/python_files/machine_learning_examples-master/nlp_class2/rntn_tensorflow.py\n",
            "/content/gdrive/My Drive/gpt2/python/python_files/machine_learning_examples-master/nlp_class2/glove_theano.py\n",
            "/content/gdrive/My Drive/gpt2/python/python_files/machine_learning_examples-master/nlp_class2/pretrained_glove.py\n"
          ],
          "name": "stdout"
        },
        {
          "output_type": "stream",
          "text": [
            "Token indices sequence length is longer than the specified maximum sequence length for this model (25640 > 1024). Running this sequence through the model will result in indexing errors\n"
          ],
          "name": "stderr"
        },
        {
          "output_type": "stream",
          "text": [
            "/content/gdrive/My Drive/gpt2/python/python_files/machine_learning_examples-master/nlp_class2/rntn_theano.py\n",
            "/content/gdrive/My Drive/gpt2/python/python_files/machine_learning_examples-master/nlp_class2/pos_tf.py\n",
            "/content/gdrive/My Drive/gpt2/python/python_files/machine_learning_examples-master/nlp_class2/glove.py\n",
            "/content/gdrive/My Drive/gpt2/python/python_files/machine_learning_examples-master/nlp_class2/ner_tf.py\n",
            "/content/gdrive/My Drive/gpt2/python/python_files/machine_learning_examples-master/nlp_class2/pos_ner_keras.py\n",
            "/content/gdrive/My Drive/gpt2/python/python_files/machine_learning_examples-master/nlp_class2/pretrained_w2v.py\n",
            "/content/gdrive/My Drive/gpt2/python/python_files/machine_learning_examples-master/nlp_class2/word2vec_tf.py\n",
            "/content/gdrive/My Drive/gpt2/python/python_files/machine_learning_examples-master/nlp_class2/tfidf_tsne.py\n",
            "/content/gdrive/My Drive/gpt2/python/python_files/machine_learning_examples-master/nlp_class2/recursive_theano.py\n",
            "/content/gdrive/My Drive/gpt2/python/python_files/machine_learning_examples-master/nlp_class2/pmi.py\n"
          ],
          "name": "stdout"
        },
        {
          "output_type": "stream",
          "text": [
            "Token indices sequence length is longer than the specified maximum sequence length for this model (37210 > 1024). Running this sequence through the model will result in indexing errors\n"
          ],
          "name": "stderr"
        },
        {
          "output_type": "stream",
          "text": [
            "/content/gdrive/My Drive/gpt2/python/python_files/machine_learning_examples-master/nlp_class2/visualize_countries.py\n",
            "/content/gdrive/My Drive/gpt2/python/python_files/machine_learning_examples-master/nlp_class2/word2vec_theano.py\n",
            "/content/gdrive/My Drive/gpt2/python/python_files/machine_learning_examples-master/nlp_class2/neural_network.py\n",
            "/content/gdrive/My Drive/gpt2/python/python_files/machine_learning_examples-master/nlp_class2/pos_hmm.py\n",
            "/content/gdrive/My Drive/gpt2/python/python_files/machine_learning_examples-master/nlp_class2/glove_tf.py\n",
            "/content/gdrive/My Drive/gpt2/python/python_files/machine_learning_examples-master/nlp_class2/markov.py\n",
            "/content/gdrive/My Drive/gpt2/python/python_files/machine_learning_examples-master/nlp_class2/pos_rnn.py\n",
            "/content/gdrive/My Drive/gpt2/python/python_files/machine_learning_examples-master/nlp_class2/ner_baseline.py\n",
            "/content/gdrive/My Drive/gpt2/python/python_files/machine_learning_examples-master/nlp_class2/recursive_tensorflow.py\n",
            "/content/gdrive/My Drive/gpt2/python/python_files/machine_learning_examples-master/nlp_class2/word2vec.py\n"
          ],
          "name": "stdout"
        },
        {
          "output_type": "stream",
          "text": [
            "Token indices sequence length is longer than the specified maximum sequence length for this model (26560 > 1024). Running this sequence through the model will result in indexing errors\n"
          ],
          "name": "stderr"
        },
        {
          "output_type": "stream",
          "text": [
            "/content/gdrive/My Drive/gpt2/python/python_files/machine_learning_examples-master/nlp_class2/ner_rnn.py\n",
            "/content/gdrive/My Drive/gpt2/python/python_files/machine_learning_examples-master/nlp_class2/rntn_tensorflow_rnn.py\n",
            "/content/gdrive/My Drive/gpt2/python/python_files/machine_learning_examples-master/recommenders/preprocess2sparse.py\n",
            "/content/gdrive/My Drive/gpt2/python/python_files/machine_learning_examples-master/recommenders/mf.py\n",
            "/content/gdrive/My Drive/gpt2/python/python_files/machine_learning_examples-master/recommenders/autorec.py\n",
            "/content/gdrive/My Drive/gpt2/python/python_files/machine_learning_examples-master/recommenders/spark2.py\n",
            "/content/gdrive/My Drive/gpt2/python/python_files/machine_learning_examples-master/recommenders/mf2.py\n",
            "/content/gdrive/My Drive/gpt2/python/python_files/machine_learning_examples-master/recommenders/preprocess_shrink.py\n",
            "/content/gdrive/My Drive/gpt2/python/python_files/machine_learning_examples-master/recommenders/mf_keras.py\n",
            "/content/gdrive/My Drive/gpt2/python/python_files/machine_learning_examples-master/recommenders/preprocess2dict.py\n"
          ],
          "name": "stdout"
        },
        {
          "output_type": "stream",
          "text": [
            "Token indices sequence length is longer than the specified maximum sequence length for this model (14867 > 1024). Running this sequence through the model will result in indexing errors\n"
          ],
          "name": "stderr"
        },
        {
          "output_type": "stream",
          "text": [
            "/content/gdrive/My Drive/gpt2/python/python_files/machine_learning_examples-master/recommenders/mf_keras_res.py\n",
            "/content/gdrive/My Drive/gpt2/python/python_files/machine_learning_examples-master/recommenders/spark.py\n",
            "/content/gdrive/My Drive/gpt2/python/python_files/machine_learning_examples-master/recommenders/itembased.py\n",
            "/content/gdrive/My Drive/gpt2/python/python_files/machine_learning_examples-master/recommenders/tfidf.py\n",
            "/content/gdrive/My Drive/gpt2/python/python_files/machine_learning_examples-master/recommenders/userbased.py\n",
            "/content/gdrive/My Drive/gpt2/python/python_files/machine_learning_examples-master/recommenders/mf_keras_deep.py\n",
            "/content/gdrive/My Drive/gpt2/python/python_files/machine_learning_examples-master/recommenders/preprocess.py\n",
            "/content/gdrive/My Drive/gpt2/python/python_files/machine_learning_examples-master/recommenders/rbm_tf_k_faster.py\n",
            "/content/gdrive/My Drive/gpt2/python/python_files/machine_learning_examples-master/recommenders/rbm_tf_k.py\n",
            "/content/gdrive/My Drive/gpt2/python/python_files/machine_learning_examples-master/supervised_class/knn_fail.py\n"
          ],
          "name": "stdout"
        },
        {
          "output_type": "stream",
          "text": [
            "Token indices sequence length is longer than the specified maximum sequence length for this model (15737 > 1024). Running this sequence through the model will result in indexing errors\n"
          ],
          "name": "stderr"
        },
        {
          "output_type": "stream",
          "text": [
            "/content/gdrive/My Drive/gpt2/python/python_files/machine_learning_examples-master/supervised_class/dt_without_recursion.py\n",
            "/content/gdrive/My Drive/gpt2/python/python_files/machine_learning_examples-master/supervised_class/nb.py\n",
            "/content/gdrive/My Drive/gpt2/python/python_files/machine_learning_examples-master/supervised_class/knn_donut.py\n",
            "/content/gdrive/My Drive/gpt2/python/python_files/machine_learning_examples-master/supervised_class/regression.py\n",
            "/content/gdrive/My Drive/gpt2/python/python_files/machine_learning_examples-master/supervised_class/perceptron.py\n",
            "/content/gdrive/My Drive/gpt2/python/python_files/machine_learning_examples-master/supervised_class/knn.py\n",
            "/content/gdrive/My Drive/gpt2/python/python_files/machine_learning_examples-master/supervised_class/app_caller.py\n",
            "/content/gdrive/My Drive/gpt2/python/python_files/machine_learning_examples-master/supervised_class/bayes.py\n",
            "/content/gdrive/My Drive/gpt2/python/python_files/machine_learning_examples-master/supervised_class/app.py\n",
            "/content/gdrive/My Drive/gpt2/python/python_files/machine_learning_examples-master/supervised_class/knn_xor.py\n"
          ],
          "name": "stdout"
        },
        {
          "output_type": "stream",
          "text": [
            "Token indices sequence length is longer than the specified maximum sequence length for this model (12566 > 1024). Running this sequence through the model will result in indexing errors\n"
          ],
          "name": "stderr"
        },
        {
          "output_type": "stream",
          "text": [
            "/content/gdrive/My Drive/gpt2/python/python_files/machine_learning_examples-master/supervised_class/multinomialnb.py\n",
            "/content/gdrive/My Drive/gpt2/python/python_files/machine_learning_examples-master/supervised_class/dt.py\n",
            "/content/gdrive/My Drive/gpt2/python/python_files/machine_learning_examples-master/supervised_class/util.py\n",
            "/content/gdrive/My Drive/gpt2/python/python_files/machine_learning_examples-master/supervised_class/app_trainer.py\n",
            "/content/gdrive/My Drive/gpt2/python/python_files/machine_learning_examples-master/supervised_class/knn_vectorized.py\n",
            "/content/gdrive/My Drive/gpt2/python/python_files/machine_learning_examples-master/rl/linear_rl_trader.py\n",
            "/content/gdrive/My Drive/gpt2/python/python_files/machine_learning_examples-master/rl/bayesian_starter.py\n",
            "/content/gdrive/My Drive/gpt2/python/python_files/machine_learning_examples-master/rl/bayesian_normal.py\n",
            "/content/gdrive/My Drive/gpt2/python/python_files/machine_learning_examples-master/rl/bayesian_bandit.py\n",
            "/content/gdrive/My Drive/gpt2/python/python_files/machine_learning_examples-master/rl/q_learning.py\n"
          ],
          "name": "stdout"
        },
        {
          "output_type": "stream",
          "text": [
            "Token indices sequence length is longer than the specified maximum sequence length for this model (14566 > 1024). Running this sequence through the model will result in indexing errors\n"
          ],
          "name": "stderr"
        },
        {
          "output_type": "stream",
          "text": [
            "/content/gdrive/My Drive/gpt2/python/python_files/machine_learning_examples-master/rl/policy_iteration.py\n",
            "/content/gdrive/My Drive/gpt2/python/python_files/machine_learning_examples-master/rl/policy_iteration_random.py\n",
            "/content/gdrive/My Drive/gpt2/python/python_files/machine_learning_examples-master/rl/monte_carlo_random.py\n",
            "/content/gdrive/My Drive/gpt2/python/python_files/machine_learning_examples-master/rl/monte_carlo_es.py\n",
            "/content/gdrive/My Drive/gpt2/python/python_files/machine_learning_examples-master/rl/monte_carlo.py\n",
            "/content/gdrive/My Drive/gpt2/python/python_files/machine_learning_examples-master/rl/monte_carlo_no_es.py\n",
            "/content/gdrive/My Drive/gpt2/python/python_files/machine_learning_examples-master/rl/ucb1_starter.py\n",
            "/content/gdrive/My Drive/gpt2/python/python_files/machine_learning_examples-master/rl/policy_iteration_probabilistic.py\n",
            "/content/gdrive/My Drive/gpt2/python/python_files/machine_learning_examples-master/rl/comparing_explore_exploit_methods.py\n",
            "/content/gdrive/My Drive/gpt2/python/python_files/machine_learning_examples-master/rl/optimistic_initial_values.py\n"
          ],
          "name": "stdout"
        },
        {
          "output_type": "stream",
          "text": [
            "Token indices sequence length is longer than the specified maximum sequence length for this model (12844 > 1024). Running this sequence through the model will result in indexing errors\n"
          ],
          "name": "stderr"
        },
        {
          "output_type": "stream",
          "text": [
            "/content/gdrive/My Drive/gpt2/python/python_files/machine_learning_examples-master/rl/optimistic_starter.py\n",
            "/content/gdrive/My Drive/gpt2/python/python_files/machine_learning_examples-master/rl/td0_prediction.py\n",
            "/content/gdrive/My Drive/gpt2/python/python_files/machine_learning_examples-master/rl/epsilon_greedy_starter.py\n",
            "/content/gdrive/My Drive/gpt2/python/python_files/machine_learning_examples-master/rl/sarsa.py\n",
            "/content/gdrive/My Drive/gpt2/python/python_files/machine_learning_examples-master/rl/approx_semigradient_sarsa_control.py\n",
            "/content/gdrive/My Drive/gpt2/python/python_files/machine_learning_examples-master/rl/approx_q_learning.py\n",
            "/content/gdrive/My Drive/gpt2/python/python_files/machine_learning_examples-master/rl/iterative_policy_evaluation_deterministic.py\n",
            "/content/gdrive/My Drive/gpt2/python/python_files/machine_learning_examples-master/rl/approx_semigradient_td0_prediction.py\n",
            "/content/gdrive/My Drive/gpt2/python/python_files/machine_learning_examples-master/rl/value_iteration.py\n",
            "/content/gdrive/My Drive/gpt2/python/python_files/machine_learning_examples-master/rl/approx_mc_prediction.py\n"
          ],
          "name": "stdout"
        },
        {
          "output_type": "stream",
          "text": [
            "Token indices sequence length is longer than the specified maximum sequence length for this model (14632 > 1024). Running this sequence through the model will result in indexing errors\n"
          ],
          "name": "stderr"
        },
        {
          "output_type": "stream",
          "text": [
            "/content/gdrive/My Drive/gpt2/python/python_files/machine_learning_examples-master/rl/grid_world.py\n",
            "/content/gdrive/My Drive/gpt2/python/python_files/machine_learning_examples-master/rl/iterative_policy_evaluation_probabilistic.py\n",
            "/content/gdrive/My Drive/gpt2/python/python_files/machine_learning_examples-master/rl/epsilon_greedy.py\n",
            "/content/gdrive/My Drive/gpt2/python/python_files/machine_learning_examples-master/rl/plot_rl_rewards.py\n",
            "/content/gdrive/My Drive/gpt2/python/python_files/machine_learning_examples-master/rl/comparing_epsilons.py\n",
            "/content/gdrive/My Drive/gpt2/python/python_files/machine_learning_examples-master/rl/iterative_policy_evaluation.py\n",
            "/content/gdrive/My Drive/gpt2/python/python_files/machine_learning_examples-master/rl/optimistic.py\n",
            "/content/gdrive/My Drive/gpt2/python/python_files/machine_learning_examples-master/rl/policy_iteration_deterministic.py\n",
            "/content/gdrive/My Drive/gpt2/python/python_files/machine_learning_examples-master/rl/tic_tac_toe.py\n",
            "/content/gdrive/My Drive/gpt2/python/python_files/machine_learning_examples-master/rl/ucb1.py\n"
          ],
          "name": "stdout"
        },
        {
          "output_type": "stream",
          "text": [
            "Token indices sequence length is longer than the specified maximum sequence length for this model (17909 > 1024). Running this sequence through the model will result in indexing errors\n"
          ],
          "name": "stderr"
        },
        {
          "output_type": "stream",
          "text": [
            "/content/gdrive/My Drive/gpt2/python/python_files/machine_learning_examples-master/supervised_class2/rf_regression.py\n",
            "/content/gdrive/My Drive/gpt2/python/python_files/machine_learning_examples-master/supervised_class2/rf_vs_bag2.py\n",
            "/content/gdrive/My Drive/gpt2/python/python_files/machine_learning_examples-master/supervised_class2/rf_classification.py\n",
            "/content/gdrive/My Drive/gpt2/python/python_files/machine_learning_examples-master/supervised_class2/util.py\n",
            "/content/gdrive/My Drive/gpt2/python/python_files/machine_learning_examples-master/supervised_class2/bagging_regression.py\n",
            "/content/gdrive/My Drive/gpt2/python/python_files/machine_learning_examples-master/supervised_class2/knn_dt_demo.py\n",
            "/content/gdrive/My Drive/gpt2/python/python_files/machine_learning_examples-master/supervised_class2/adaboost.py\n",
            "/content/gdrive/My Drive/gpt2/python/python_files/machine_learning_examples-master/supervised_class2/bias_variance_demo.py\n",
            "/content/gdrive/My Drive/gpt2/python/python_files/machine_learning_examples-master/supervised_class2/rf_vs_bag.py\n",
            "/content/gdrive/My Drive/gpt2/python/python_files/machine_learning_examples-master/supervised_class2/bootstrap.py\n"
          ],
          "name": "stdout"
        },
        {
          "output_type": "stream",
          "text": [
            "Token indices sequence length is longer than the specified maximum sequence length for this model (11767 > 1024). Running this sequence through the model will result in indexing errors\n"
          ],
          "name": "stderr"
        },
        {
          "output_type": "stream",
          "text": [
            "/content/gdrive/My Drive/gpt2/python/python_files/machine_learning_examples-master/supervised_class2/bagging_classification.py\n",
            "/content/gdrive/My Drive/gpt2/python/python_files/machine_learning_examples-master/tensorflow/input_data.py\n",
            "/content/gdrive/My Drive/gpt2/python/python_files/machine_learning_examples-master/unsupervised_class/__init__.py\n",
            "/content/gdrive/My Drive/gpt2/python/python_files/machine_learning_examples-master/unsupervised_class/kmeans_visualize.py\n",
            "/content/gdrive/My Drive/gpt2/python/python_files/machine_learning_examples-master/unsupervised_class/evolution.py\n",
            "/content/gdrive/My Drive/gpt2/python/python_files/machine_learning_examples-master/unsupervised_class/kmeans_mnist.py\n",
            "/content/gdrive/My Drive/gpt2/python/python_files/machine_learning_examples-master/unsupervised_class/hcluster.py\n",
            "/content/gdrive/My Drive/gpt2/python/python_files/machine_learning_examples-master/unsupervised_class/gmm_mnist.py\n",
            "/content/gdrive/My Drive/gpt2/python/python_files/machine_learning_examples-master/unsupervised_class/books.py\n",
            "/content/gdrive/My Drive/gpt2/python/python_files/machine_learning_examples-master/unsupervised_class/gmm.py\n"
          ],
          "name": "stdout"
        },
        {
          "output_type": "stream",
          "text": [
            "Token indices sequence length is longer than the specified maximum sequence length for this model (13611 > 1024). Running this sequence through the model will result in indexing errors\n"
          ],
          "name": "stderr"
        },
        {
          "output_type": "stream",
          "text": [
            "/content/gdrive/My Drive/gpt2/python/python_files/machine_learning_examples-master/unsupervised_class/kmeans.py\n",
            "/content/gdrive/My Drive/gpt2/python/python_files/machine_learning_examples-master/unsupervised_class/kmeans_fail.py\n",
            "/content/gdrive/My Drive/gpt2/python/python_files/machine_learning_examples-master/unsupervised_class/tweets.py\n",
            "/content/gdrive/My Drive/gpt2/python/python_files/machine_learning_examples-master/unsupervised_class/choose_k.py\n",
            "/content/gdrive/My Drive/gpt2/python/python_files/machine_learning_examples-master/unsupervised_class/neural_kmeans.py\n",
            "/content/gdrive/My Drive/gpt2/python/python_files/machine_learning_examples-master/svm_class/svm_medical.py\n",
            "/content/gdrive/My Drive/gpt2/python/python_files/machine_learning_examples-master/svm_class/fake_neural_net.py\n",
            "/content/gdrive/My Drive/gpt2/python/python_files/machine_learning_examples-master/svm_class/svm_smo.py\n",
            "/content/gdrive/My Drive/gpt2/python/python_files/machine_learning_examples-master/svm_class/kernel_svm_gradient_primal.py\n",
            "/content/gdrive/My Drive/gpt2/python/python_files/machine_learning_examples-master/svm_class/svm_gradient.py\n"
          ],
          "name": "stdout"
        },
        {
          "output_type": "stream",
          "text": [
            "Token indices sequence length is longer than the specified maximum sequence length for this model (15934 > 1024). Running this sequence through the model will result in indexing errors\n"
          ],
          "name": "stderr"
        },
        {
          "output_type": "stream",
          "text": [
            "/content/gdrive/My Drive/gpt2/python/python_files/machine_learning_examples-master/svm_class/linear_svm_gradient.py\n",
            "/content/gdrive/My Drive/gpt2/python/python_files/machine_learning_examples-master/svm_class/crossval.py\n",
            "/content/gdrive/My Drive/gpt2/python/python_files/machine_learning_examples-master/svm_class/regression.py\n",
            "/content/gdrive/My Drive/gpt2/python/python_files/machine_learning_examples-master/svm_class/util.py\n",
            "/content/gdrive/My Drive/gpt2/python/python_files/machine_learning_examples-master/svm_class/svm_spam.py\n",
            "/content/gdrive/My Drive/gpt2/python/python_files/machine_learning_examples-master/svm_class/svm_mnist.py\n",
            "/content/gdrive/My Drive/gpt2/python/python_files/machine_learning_examples-master/svm_class/real_neural_net.py\n",
            "/content/gdrive/My Drive/gpt2/python/python_files/machine_learning_examples-master/svm_class/rbfnetwork.py\n",
            "/content/gdrive/My Drive/gpt2/python/python_files/machine_learning_examples-master/rl2/gym_tutorial.py\n",
            "/content/gdrive/My Drive/gpt2/python/python_files/machine_learning_examples-master/rl2/cartpole/td_lambda.py\n"
          ],
          "name": "stdout"
        },
        {
          "output_type": "stream",
          "text": [
            "Token indices sequence length is longer than the specified maximum sequence length for this model (9315 > 1024). Running this sequence through the model will result in indexing errors\n"
          ],
          "name": "stderr"
        },
        {
          "output_type": "stream",
          "text": [
            "/content/gdrive/My Drive/gpt2/python/python_files/machine_learning_examples-master/rl2/cartpole/pg_tf.py\n",
            "/content/gdrive/My Drive/gpt2/python/python_files/machine_learning_examples-master/rl2/cartpole/q_learning_bins.py\n",
            "/content/gdrive/My Drive/gpt2/python/python_files/machine_learning_examples-master/rl2/cartpole/random_search.py\n",
            "/content/gdrive/My Drive/gpt2/python/python_files/machine_learning_examples-master/rl2/cartpole/theano_warmup.py\n",
            "/content/gdrive/My Drive/gpt2/python/python_files/machine_learning_examples-master/rl2/cartpole/dqn_tf.py\n",
            "/content/gdrive/My Drive/gpt2/python/python_files/machine_learning_examples-master/rl2/cartpole/tf_warmup.py\n",
            "/content/gdrive/My Drive/gpt2/python/python_files/machine_learning_examples-master/rl2/cartpole/save_a_video.py\n",
            "/content/gdrive/My Drive/gpt2/python/python_files/machine_learning_examples-master/rl2/cartpole/q_learning.py\n",
            "/content/gdrive/My Drive/gpt2/python/python_files/machine_learning_examples-master/rl2/cartpole/dqn_theano.py\n",
            "/content/gdrive/My Drive/gpt2/python/python_files/machine_learning_examples-master/rl2/cartpole/pg_theano.py\n"
          ],
          "name": "stdout"
        },
        {
          "output_type": "stream",
          "text": [
            "Token indices sequence length is longer than the specified maximum sequence length for this model (17058 > 1024). Running this sequence through the model will result in indexing errors\n"
          ],
          "name": "stderr"
        },
        {
          "output_type": "stream",
          "text": [
            "/content/gdrive/My Drive/gpt2/python/python_files/machine_learning_examples-master/rl2/mountaincar/pg_theano.py\n",
            "/content/gdrive/My Drive/gpt2/python/python_files/machine_learning_examples-master/rl2/mountaincar/td_lambda.py\n",
            "/content/gdrive/My Drive/gpt2/python/python_files/machine_learning_examples-master/rl2/mountaincar/n_step.py\n",
            "/content/gdrive/My Drive/gpt2/python/python_files/machine_learning_examples-master/rl2/mountaincar/q_learning.py\n",
            "/content/gdrive/My Drive/gpt2/python/python_files/machine_learning_examples-master/rl2/mountaincar/pg_tf_random.py\n",
            "/content/gdrive/My Drive/gpt2/python/python_files/machine_learning_examples-master/rl2/mountaincar/pg_tf.py\n",
            "/content/gdrive/My Drive/gpt2/python/python_files/machine_learning_examples-master/rl2/mountaincar/pg_theano_random.py\n",
            "/content/gdrive/My Drive/gpt2/python/python_files/machine_learning_examples-master/rl2/atari/dqn_tf.py\n",
            "/content/gdrive/My Drive/gpt2/python/python_files/machine_learning_examples-master/rl2/atari/dqn_theano.py\n",
            "/content/gdrive/My Drive/gpt2/python/python_files/machine_learning_examples-master/rl2/a3c/worker.py\n"
          ],
          "name": "stdout"
        },
        {
          "output_type": "stream",
          "text": [
            "Token indices sequence length is longer than the specified maximum sequence length for this model (31735 > 1024). Running this sequence through the model will result in indexing errors\n"
          ],
          "name": "stderr"
        },
        {
          "output_type": "stream",
          "text": [
            "/content/gdrive/My Drive/gpt2/python/python_files/machine_learning_examples-master/rl2/a3c/thread_example.py\n",
            "/content/gdrive/My Drive/gpt2/python/python_files/machine_learning_examples-master/rl2/a3c/main.py\n",
            "/content/gdrive/My Drive/gpt2/python/python_files/machine_learning_examples-master/rl2/a3c/nets.py\n",
            "/content/gdrive/My Drive/gpt2/python/python_files/machine_learning_examples-master/rl3/es_simple.py\n",
            "/content/gdrive/My Drive/gpt2/python/python_files/machine_learning_examples-master/rl3/es_mnist.py\n",
            "/content/gdrive/My Drive/gpt2/python/python_files/machine_learning_examples-master/rl3/gym_review.py\n",
            "/content/gdrive/My Drive/gpt2/python/python_files/machine_learning_examples-master/rl3/flappy2envs.py\n",
            "/content/gdrive/My Drive/gpt2/python/python_files/machine_learning_examples-master/rl3/sample_test.py\n",
            "/content/gdrive/My Drive/gpt2/python/python_files/machine_learning_examples-master/rl3/plot_es_flappy_results.py\n",
            "/content/gdrive/My Drive/gpt2/python/python_files/machine_learning_examples-master/rl3/plot_es_mujoco_results.py\n"
          ],
          "name": "stdout"
        },
        {
          "output_type": "stream",
          "text": [
            "Token indices sequence length is longer than the specified maximum sequence length for this model (7869 > 1024). Running this sequence through the model will result in indexing errors\n"
          ],
          "name": "stderr"
        },
        {
          "output_type": "stream",
          "text": [
            "/content/gdrive/My Drive/gpt2/python/python_files/machine_learning_examples-master/rl3/ddpg.py\n",
            "/content/gdrive/My Drive/gpt2/python/python_files/machine_learning_examples-master/rl3/es_flappy.py\n",
            "/content/gdrive/My Drive/gpt2/python/python_files/machine_learning_examples-master/rl3/plot_ddpg_result.py\n",
            "/content/gdrive/My Drive/gpt2/python/python_files/machine_learning_examples-master/rl3/es_mujoco.py\n",
            "/content/gdrive/My Drive/gpt2/python/python_files/machine_learning_examples-master/rl3/a2c/main.py\n",
            "/content/gdrive/My Drive/gpt2/python/python_files/machine_learning_examples-master/rl3/a2c/neural_network.py\n",
            "/content/gdrive/My Drive/gpt2/python/python_files/machine_learning_examples-master/rl3/a2c/a2c.py\n",
            "/content/gdrive/My Drive/gpt2/python/python_files/machine_learning_examples-master/rl3/a2c/play.py\n",
            "/content/gdrive/My Drive/gpt2/python/python_files/machine_learning_examples-master/rl3/a2c/subproc_vec_env.py\n",
            "/content/gdrive/My Drive/gpt2/python/python_files/machine_learning_examples-master/rl3/a2c/atari_wrappers.py\n"
          ],
          "name": "stdout"
        },
        {
          "output_type": "stream",
          "text": [
            "Token indices sequence length is longer than the specified maximum sequence length for this model (22133 > 1024). Running this sequence through the model will result in indexing errors\n"
          ],
          "name": "stderr"
        },
        {
          "output_type": "stream",
          "text": [
            "/content/gdrive/My Drive/gpt2/python/python_files/machine_learning_examples-master/rnn_class/gru.py\n",
            "/content/gdrive/My Drive/gpt2/python/python_files/machine_learning_examples-master/rnn_class/rrnn_language.py\n",
            "/content/gdrive/My Drive/gpt2/python/python_files/machine_learning_examples-master/rnn_class/tf_parity.py\n",
            "/content/gdrive/My Drive/gpt2/python/python_files/machine_learning_examples-master/rnn_class/wiki.py\n",
            "/content/gdrive/My Drive/gpt2/python/python_files/machine_learning_examples-master/rnn_class/mlp_parity.py\n",
            "/content/gdrive/My Drive/gpt2/python/python_files/machine_learning_examples-master/rnn_class/batch_wiki.py\n",
            "/content/gdrive/My Drive/gpt2/python/python_files/machine_learning_examples-master/rnn_class/srn_parity_tf.py\n",
            "/content/gdrive/My Drive/gpt2/python/python_files/machine_learning_examples-master/rnn_class/__init__.py\n",
            "/content/gdrive/My Drive/gpt2/python/python_files/machine_learning_examples-master/rnn_class/batch_gru.py\n",
            "/content/gdrive/My Drive/gpt2/python/python_files/machine_learning_examples-master/rnn_class/util.py\n"
          ],
          "name": "stdout"
        },
        {
          "output_type": "stream",
          "text": [
            "Token indices sequence length is longer than the specified maximum sequence length for this model (23328 > 1024). Running this sequence through the model will result in indexing errors\n"
          ],
          "name": "stderr"
        },
        {
          "output_type": "stream",
          "text": [
            "/content/gdrive/My Drive/gpt2/python/python_files/machine_learning_examples-master/rnn_class/srn_language_tf.py\n",
            "/content/gdrive/My Drive/gpt2/python/python_files/machine_learning_examples-master/rnn_class/poetry_classifier.py\n",
            "/content/gdrive/My Drive/gpt2/python/python_files/machine_learning_examples-master/rnn_class/batch_parity.py\n",
            "/content/gdrive/My Drive/gpt2/python/python_files/machine_learning_examples-master/rnn_class/visualize_embeddings.py\n",
            "/content/gdrive/My Drive/gpt2/python/python_files/machine_learning_examples-master/rnn_class/srn_language.py\n",
            "/content/gdrive/My Drive/gpt2/python/python_files/machine_learning_examples-master/rnn_class/brown.py\n",
            "/content/gdrive/My Drive/gpt2/python/python_files/machine_learning_examples-master/rnn_class/batch_units.py\n",
            "/content/gdrive/My Drive/gpt2/python/python_files/machine_learning_examples-master/rnn_class/srn_parity.py\n",
            "/content/gdrive/My Drive/gpt2/python/python_files/machine_learning_examples-master/rnn_class/lstm.py\n",
            "/content/gdrive/My Drive/gpt2/python/python_files/machine_learning_examples-master/tf2.0/fake_util.py\n"
          ],
          "name": "stdout"
        },
        {
          "output_type": "stream",
          "text": [
            "Token indices sequence length is longer than the specified maximum sequence length for this model (22939 > 1024). Running this sequence through the model will result in indexing errors\n"
          ],
          "name": "stderr"
        },
        {
          "output_type": "stream",
          "text": [
            "/content/gdrive/My Drive/gpt2/python/python_files/machine_learning_examples-master/tf2.0/xor3d.py\n",
            "/content/gdrive/My Drive/gpt2/python/python_files/machine_learning_examples-master/tf2.0/plot_rl_rewards.py\n",
            "/content/gdrive/My Drive/gpt2/python/python_files/machine_learning_examples-master/tf2.0/rl_trader.py\n",
            "/content/gdrive/My Drive/gpt2/python/python_files/machine_learning_examples-master/unsupervised_class2/sk_mlp.py\n",
            "/content/gdrive/My Drive/gpt2/python/python_files/machine_learning_examples-master/unsupervised_class2/__init__.py\n",
            "/content/gdrive/My Drive/gpt2/python/python_files/machine_learning_examples-master/unsupervised_class2/tsne_mnist.py\n",
            "/content/gdrive/My Drive/gpt2/python/python_files/machine_learning_examples-master/unsupervised_class2/tsne_xor.py\n",
            "/content/gdrive/My Drive/gpt2/python/python_files/machine_learning_examples-master/unsupervised_class2/util.py\n",
            "/content/gdrive/My Drive/gpt2/python/python_files/machine_learning_examples-master/unsupervised_class2/tsne_donut.py\n",
            "/content/gdrive/My Drive/gpt2/python/python_files/machine_learning_examples-master/unsupervised_class2/umap_transformer.py\n"
          ],
          "name": "stdout"
        },
        {
          "output_type": "stream",
          "text": [
            "Token indices sequence length is longer than the specified maximum sequence length for this model (7451 > 1024). Running this sequence through the model will result in indexing errors\n"
          ],
          "name": "stderr"
        },
        {
          "output_type": "stream",
          "text": [
            "/content/gdrive/My Drive/gpt2/python/python_files/machine_learning_examples-master/unsupervised_class2/tsne_books.py\n",
            "/content/gdrive/My Drive/gpt2/python/python_files/machine_learning_examples-master/unsupervised_class2/pca_impl.py\n",
            "/content/gdrive/My Drive/gpt2/python/python_files/machine_learning_examples-master/unsupervised_class2/autoencoder_tf.py\n",
            "/content/gdrive/My Drive/gpt2/python/python_files/machine_learning_examples-master/unsupervised_class2/visualize_features.py\n",
            "/content/gdrive/My Drive/gpt2/python/python_files/machine_learning_examples-master/unsupervised_class2/vanishing.py\n",
            "/content/gdrive/My Drive/gpt2/python/python_files/machine_learning_examples-master/unsupervised_class2/xwing.py\n",
            "/content/gdrive/My Drive/gpt2/python/python_files/machine_learning_examples-master/unsupervised_class2/rbm_tf.py\n",
            "/content/gdrive/My Drive/gpt2/python/python_files/machine_learning_examples-master/unsupervised_class2/gaussian_nb.py\n",
            "/content/gdrive/My Drive/gpt2/python/python_files/machine_learning_examples-master/unsupervised_class2/tsne_visualization.py\n",
            "/content/gdrive/My Drive/gpt2/python/python_files/machine_learning_examples-master/unsupervised_class2/rbm.py\n"
          ],
          "name": "stdout"
        },
        {
          "output_type": "stream",
          "text": [
            "Token indices sequence length is longer than the specified maximum sequence length for this model (15999 > 1024). Running this sequence through the model will result in indexing errors\n"
          ],
          "name": "stderr"
        },
        {
          "output_type": "stream",
          "text": [
            "/content/gdrive/My Drive/gpt2/python/python_files/machine_learning_examples-master/unsupervised_class2/unsupervised.py\n",
            "/content/gdrive/My Drive/gpt2/python/python_files/machine_learning_examples-master/unsupervised_class2/compare_pca_svd.py\n",
            "/content/gdrive/My Drive/gpt2/python/python_files/machine_learning_examples-master/unsupervised_class2/autoencoder.py\n",
            "/content/gdrive/My Drive/gpt2/python/python_files/machine_learning_examples-master/unsupervised_class2/pca.py\n",
            "/content/gdrive/My Drive/gpt2/python/python_files/machine_learning_examples-master/unsupervised_class3/parameterize_guassian.py\n",
            "/content/gdrive/My Drive/gpt2/python/python_files/machine_learning_examples-master/unsupervised_class3/visualize_latent_space.py\n",
            "/content/gdrive/My Drive/gpt2/python/python_files/machine_learning_examples-master/unsupervised_class3/bayes_classifier_gaussian.py\n",
            "/content/gdrive/My Drive/gpt2/python/python_files/machine_learning_examples-master/unsupervised_class3/dcgan_theano.py\n",
            "/content/gdrive/My Drive/gpt2/python/python_files/machine_learning_examples-master/unsupervised_class3/autoencoder_tf.py\n",
            "/content/gdrive/My Drive/gpt2/python/python_files/machine_learning_examples-master/unsupervised_class3/dcgan_tf.py\n"
          ],
          "name": "stdout"
        },
        {
          "output_type": "stream",
          "text": [
            "Token indices sequence length is longer than the specified maximum sequence length for this model (26645 > 1024). Running this sequence through the model will result in indexing errors\n"
          ],
          "name": "stderr"
        },
        {
          "output_type": "stream",
          "text": [
            "/content/gdrive/My Drive/gpt2/python/python_files/machine_learning_examples-master/unsupervised_class3/util.py\n",
            "/content/gdrive/My Drive/gpt2/python/python_files/machine_learning_examples-master/unsupervised_class3/test_stochastic_tensor.py\n",
            "/content/gdrive/My Drive/gpt2/python/python_files/machine_learning_examples-master/unsupervised_class3/vae_theano.py\n",
            "/content/gdrive/My Drive/gpt2/python/python_files/machine_learning_examples-master/unsupervised_class3/bayes_classifier_gmm.py\n",
            "/content/gdrive/My Drive/gpt2/python/python_files/machine_learning_examples-master/unsupervised_class3/vae_tf.py\n",
            "/content/gdrive/My Drive/gpt2/python/python_files/machine_learning_examples-master/unsupervised_class3/autoencoder_theano.py\n",
            "/content/gdrive/My Drive/gpt2/python/machine_learning_examples-master/best_fit_line.py\n",
            "/content/gdrive/My Drive/gpt2/python/machine_learning_examples-master/ann_logistic_extra/process.py\n",
            "/content/gdrive/My Drive/gpt2/python/machine_learning_examples-master/ann_logistic_extra/logistic_softmax_train.py\n",
            "/content/gdrive/My Drive/gpt2/python/machine_learning_examples-master/ann_logistic_extra/ann_train.py\n"
          ],
          "name": "stdout"
        },
        {
          "output_type": "stream",
          "text": [
            "Token indices sequence length is longer than the specified maximum sequence length for this model (14522 > 1024). Running this sequence through the model will result in indexing errors\n"
          ],
          "name": "stderr"
        },
        {
          "output_type": "stream",
          "text": [
            "/content/gdrive/My Drive/gpt2/python/machine_learning_examples-master/ann_logistic_extra/ann_predict.py\n",
            "/content/gdrive/My Drive/gpt2/python/machine_learning_examples-master/ann_logistic_extra/logistic_predict.py\n",
            "/content/gdrive/My Drive/gpt2/python/machine_learning_examples-master/ann_logistic_extra/__init__.py\n",
            "/content/gdrive/My Drive/gpt2/python/machine_learning_examples-master/ann_logistic_extra/logistic_train.py\n",
            "/content/gdrive/My Drive/gpt2/python/machine_learning_examples-master/hmm_class/hmmc_scaled_concat.py\n",
            "/content/gdrive/My Drive/gpt2/python/machine_learning_examples-master/hmm_class/scan3.py\n",
            "/content/gdrive/My Drive/gpt2/python/machine_learning_examples-master/hmm_class/sites.py\n",
            "/content/gdrive/My Drive/gpt2/python/machine_learning_examples-master/hmm_class/hmmd_theano.py\n",
            "/content/gdrive/My Drive/gpt2/python/machine_learning_examples-master/hmm_class/hmmc_theano2.py\n",
            "/content/gdrive/My Drive/gpt2/python/machine_learning_examples-master/hmm_class/hmmd.py\n"
          ],
          "name": "stdout"
        },
        {
          "output_type": "stream",
          "text": [
            "Token indices sequence length is longer than the specified maximum sequence length for this model (16854 > 1024). Running this sequence through the model will result in indexing errors\n"
          ],
          "name": "stderr"
        },
        {
          "output_type": "stream",
          "text": [
            "/content/gdrive/My Drive/gpt2/python/machine_learning_examples-master/hmm_class/hmmc_scaled_concat_diag.py\n",
            "/content/gdrive/My Drive/gpt2/python/machine_learning_examples-master/hmm_class/hmmd_scaled.py\n",
            "/content/gdrive/My Drive/gpt2/python/machine_learning_examples-master/hmm_class/hmmd_tf.py\n",
            "/content/gdrive/My Drive/gpt2/python/machine_learning_examples-master/hmm_class/generate_c.py\n",
            "/content/gdrive/My Drive/gpt2/python/machine_learning_examples-master/hmm_class/hmmd_theano2.py\n",
            "/content/gdrive/My Drive/gpt2/python/machine_learning_examples-master/hmm_class/tf_scan3.py\n",
            "/content/gdrive/My Drive/gpt2/python/machine_learning_examples-master/hmm_class/scan2.py\n",
            "/content/gdrive/My Drive/gpt2/python/machine_learning_examples-master/hmm_class/hmmc.py\n",
            "/content/gdrive/My Drive/gpt2/python/machine_learning_examples-master/hmm_class/scan1.py\n"
          ],
          "name": "stdout"
        },
        {
          "output_type": "stream",
          "text": [
            "Token indices sequence length is longer than the specified maximum sequence length for this model (21170 > 1024). Running this sequence through the model will result in indexing errors\n"
          ],
          "name": "stderr"
        },
        {
          "output_type": "stream",
          "text": [
            "/content/gdrive/My Drive/gpt2/python/machine_learning_examples-master/hmm_class/__init__.py\n",
            "/content/gdrive/My Drive/gpt2/python/machine_learning_examples-master/hmm_class/frost.py\n",
            "/content/gdrive/My Drive/gpt2/python/machine_learning_examples-master/hmm_class/tf_scan1.py\n",
            "/content/gdrive/My Drive/gpt2/python/machine_learning_examples-master/hmm_class/hmmc_concat.py\n",
            "/content/gdrive/My Drive/gpt2/python/machine_learning_examples-master/hmm_class/hmm_classifier.py\n",
            "/content/gdrive/My Drive/gpt2/python/machine_learning_examples-master/hmm_class/hmmc_theano.py\n",
            "/content/gdrive/My Drive/gpt2/python/machine_learning_examples-master/hmm_class/hmmc_tf.py\n",
            "/content/gdrive/My Drive/gpt2/python/machine_learning_examples-master/hmm_class/generate_ht.py\n",
            "/content/gdrive/My Drive/gpt2/python/machine_learning_examples-master/hmm_class/tf_scan2.py\n",
            "/content/gdrive/My Drive/gpt2/python/machine_learning_examples-master/cnn_class/edge.py\n",
            "/content/gdrive/My Drive/gpt2/python/machine_learning_examples-master/cnn_class/cifar.py\n"
          ],
          "name": "stdout"
        },
        {
          "output_type": "stream",
          "text": [
            "Token indices sequence length is longer than the specified maximum sequence length for this model (20392 > 1024). Running this sequence through the model will result in indexing errors\n"
          ],
          "name": "stderr"
        },
        {
          "output_type": "stream",
          "text": [
            "/content/gdrive/My Drive/gpt2/python/machine_learning_examples-master/cnn_class/cnn_tf_plot_filters.py\n",
            "/content/gdrive/My Drive/gpt2/python/machine_learning_examples-master/cnn_class/echo.py\n",
            "/content/gdrive/My Drive/gpt2/python/machine_learning_examples-master/cnn_class/cnn_tf.py\n",
            "/content/gdrive/My Drive/gpt2/python/machine_learning_examples-master/cnn_class/cnn_theano.py\n",
            "/content/gdrive/My Drive/gpt2/python/machine_learning_examples-master/cnn_class/keras_example.py\n",
            "/content/gdrive/My Drive/gpt2/python/machine_learning_examples-master/cnn_class/blur.py\n",
            "/content/gdrive/My Drive/gpt2/python/machine_learning_examples-master/cnn_class/custom_blur.py\n",
            "/content/gdrive/My Drive/gpt2/python/machine_learning_examples-master/cnn_class/edge_benchmark.py\n",
            "/content/gdrive/My Drive/gpt2/python/machine_learning_examples-master/cnn_class/cnn_theano_plot_filters.py\n",
            "/content/gdrive/My Drive/gpt2/python/machine_learning_examples-master/cnn_class/benchmark.py\n"
          ],
          "name": "stdout"
        },
        {
          "output_type": "stream",
          "text": [
            "Token indices sequence length is longer than the specified maximum sequence length for this model (20690 > 1024). Running this sequence through the model will result in indexing errors\n"
          ],
          "name": "stderr"
        },
        {
          "output_type": "stream",
          "text": [
            "/content/gdrive/My Drive/gpt2/python/machine_learning_examples-master/ann_class/tf_example.py\n",
            "/content/gdrive/My Drive/gpt2/python/machine_learning_examples-master/ann_class/forwardprop.py\n",
            "/content/gdrive/My Drive/gpt2/python/machine_learning_examples-master/ann_class/regression.py\n",
            "/content/gdrive/My Drive/gpt2/python/machine_learning_examples-master/ann_class/xor_donut.py\n",
            "/content/gdrive/My Drive/gpt2/python/machine_learning_examples-master/ann_class/sklearn_ann.py\n",
            "/content/gdrive/My Drive/gpt2/python/machine_learning_examples-master/ann_class/backprop.py\n",
            "/content/gdrive/My Drive/gpt2/python/machine_learning_examples-master/cnn_class2/siamese.py\n",
            "/content/gdrive/My Drive/gpt2/python/machine_learning_examples-master/cnn_class2/ssd.py\n",
            "/content/gdrive/My Drive/gpt2/python/machine_learning_examples-master/cnn_class2/style_transfer1.py\n",
            "/content/gdrive/My Drive/gpt2/python/machine_learning_examples-master/cnn_class2/test_softmax.py\n"
          ],
          "name": "stdout"
        },
        {
          "output_type": "stream",
          "text": [
            "Token indices sequence length is longer than the specified maximum sequence length for this model (16242 > 1024). Running this sequence through the model will result in indexing errors\n"
          ],
          "name": "stderr"
        },
        {
          "output_type": "stream",
          "text": [
            "/content/gdrive/My Drive/gpt2/python/machine_learning_examples-master/cnn_class2/tf_resnet_first_layers_starter.py\n",
            "/content/gdrive/My Drive/gpt2/python/machine_learning_examples-master/cnn_class2/tf_resnet_convblock_starter.py\n",
            "/content/gdrive/My Drive/gpt2/python/machine_learning_examples-master/cnn_class2/make_limited_datasets.py\n",
            "/content/gdrive/My Drive/gpt2/python/machine_learning_examples-master/cnn_class2/style_transfer2.py\n",
            "/content/gdrive/My Drive/gpt2/python/machine_learning_examples-master/cnn_class2/fashion.py\n",
            "/content/gdrive/My Drive/gpt2/python/machine_learning_examples-master/cnn_class2/use_pretrained_weights_resnet.py\n",
            "/content/gdrive/My Drive/gpt2/python/machine_learning_examples-master/cnn_class2/style_transfer3.py\n",
            "/content/gdrive/My Drive/gpt2/python/machine_learning_examples-master/cnn_class2/tf_resnet_identity_block_starter.py\n",
            "/content/gdrive/My Drive/gpt2/python/machine_learning_examples-master/cnn_class2/class_activation_maps.py\n",
            "/content/gdrive/My Drive/gpt2/python/machine_learning_examples-master/cnn_class2/util.py\n"
          ],
          "name": "stdout"
        },
        {
          "output_type": "stream",
          "text": [
            "Token indices sequence length is longer than the specified maximum sequence length for this model (8832 > 1024). Running this sequence through the model will result in indexing errors\n"
          ],
          "name": "stderr"
        },
        {
          "output_type": "stream",
          "text": [
            "/content/gdrive/My Drive/gpt2/python/machine_learning_examples-master/cnn_class2/fashion2.py\n",
            "/content/gdrive/My Drive/gpt2/python/machine_learning_examples-master/cnn_class2/tf_resnet_first_layers.py\n",
            "/content/gdrive/My Drive/gpt2/python/machine_learning_examples-master/cnn_class2/tf_resnet_identity_block.py\n",
            "/content/gdrive/My Drive/gpt2/python/machine_learning_examples-master/cnn_class2/tf_resnet_convblock.py\n",
            "/content/gdrive/My Drive/gpt2/python/machine_learning_examples-master/cnn_class2/use_pretrained_weights_vgg.py\n",
            "/content/gdrive/My Drive/gpt2/python/machine_learning_examples-master/cnn_class2/tf_resnet.py\n",
            "/content/gdrive/My Drive/gpt2/python/machine_learning_examples-master/airline/lr.py\n",
            "/content/gdrive/My Drive/gpt2/python/machine_learning_examples-master/airline/ann.py\n",
            "/content/gdrive/My Drive/gpt2/python/machine_learning_examples-master/airline/rnn.py\n",
            "/content/gdrive/My Drive/gpt2/python/machine_learning_examples-master/ann_class2/pytorch_example.py\n"
          ],
          "name": "stdout"
        },
        {
          "output_type": "stream",
          "text": [
            "Token indices sequence length is longer than the specified maximum sequence length for this model (19083 > 1024). Running this sequence through the model will result in indexing errors\n"
          ],
          "name": "stderr"
        },
        {
          "output_type": "stream",
          "text": [
            "/content/gdrive/My Drive/gpt2/python/machine_learning_examples-master/ann_class2/pytorch_batchnorm.py\n",
            "/content/gdrive/My Drive/gpt2/python/machine_learning_examples-master/ann_class2/keras_functional.py\n",
            "/content/gdrive/My Drive/gpt2/python/machine_learning_examples-master/ann_class2/momentum.py\n",
            "/content/gdrive/My Drive/gpt2/python/machine_learning_examples-master/ann_class2/dropout_tensorflow.py\n",
            "/content/gdrive/My Drive/gpt2/python/machine_learning_examples-master/ann_class2/tensorflow1.py\n",
            "/content/gdrive/My Drive/gpt2/python/machine_learning_examples-master/ann_class2/tensorflow2.py\n",
            "/content/gdrive/My Drive/gpt2/python/machine_learning_examples-master/ann_class2/batch_norm_tf.py\n",
            "/content/gdrive/My Drive/gpt2/python/machine_learning_examples-master/ann_class2/random_search.py\n",
            "/content/gdrive/My Drive/gpt2/python/machine_learning_examples-master/ann_class2/rmsprop.py\n",
            "/content/gdrive/My Drive/gpt2/python/machine_learning_examples-master/ann_class2/pytorch_example2.py\n"
          ],
          "name": "stdout"
        },
        {
          "output_type": "stream",
          "text": [
            "Token indices sequence length is longer than the specified maximum sequence length for this model (18433 > 1024). Running this sequence through the model will result in indexing errors\n"
          ],
          "name": "stderr"
        },
        {
          "output_type": "stream",
          "text": [
            "/content/gdrive/My Drive/gpt2/python/machine_learning_examples-master/ann_class2/theano_ann.py\n",
            "/content/gdrive/My Drive/gpt2/python/machine_learning_examples-master/ann_class2/keras_example.py\n",
            "/content/gdrive/My Drive/gpt2/python/machine_learning_examples-master/ann_class2/tf_with_save.py\n",
            "/content/gdrive/My Drive/gpt2/python/machine_learning_examples-master/ann_class2/sgd.py\n",
            "/content/gdrive/My Drive/gpt2/python/machine_learning_examples-master/ann_class2/__init__.py\n",
            "/content/gdrive/My Drive/gpt2/python/machine_learning_examples-master/ann_class2/mxnet_example.py\n",
            "/content/gdrive/My Drive/gpt2/python/machine_learning_examples-master/ann_class2/pytorch_dropout.py\n",
            "/content/gdrive/My Drive/gpt2/python/machine_learning_examples-master/ann_class2/mlp.py\n",
            "/content/gdrive/My Drive/gpt2/python/machine_learning_examples-master/ann_class2/adam.py\n",
            "/content/gdrive/My Drive/gpt2/python/machine_learning_examples-master/ann_class2/theano2.py\n"
          ],
          "name": "stdout"
        },
        {
          "output_type": "stream",
          "text": [
            "Token indices sequence length is longer than the specified maximum sequence length for this model (14942 > 1024). Running this sequence through the model will result in indexing errors\n"
          ],
          "name": "stderr"
        },
        {
          "output_type": "stream",
          "text": [
            "/content/gdrive/My Drive/gpt2/python/machine_learning_examples-master/ann_class2/cntk_example.py\n",
            "/content/gdrive/My Drive/gpt2/python/machine_learning_examples-master/ann_class2/grid_search.py\n",
            "/content/gdrive/My Drive/gpt2/python/machine_learning_examples-master/ann_class2/theano1.py\n",
            "/content/gdrive/My Drive/gpt2/python/machine_learning_examples-master/ann_class2/util.py\n",
            "/content/gdrive/My Drive/gpt2/python/machine_learning_examples-master/ann_class2/batch_norm_theano.py\n",
            "/content/gdrive/My Drive/gpt2/python/machine_learning_examples-master/ann_class2/dropout_theano.py\n",
            "/content/gdrive/My Drive/gpt2/python/machine_learning_examples-master/ann_class2/rmsprop_test.py\n",
            "/content/gdrive/My Drive/gpt2/python/machine_learning_examples-master/bayesian_ml/1/nb.py\n",
            "/content/gdrive/My Drive/gpt2/python/machine_learning_examples-master/bayesian_ml/4/npbgmm.py\n",
            "/content/gdrive/My Drive/gpt2/python/machine_learning_examples-master/bayesian_ml/4/vigmm.py\n"
          ],
          "name": "stdout"
        },
        {
          "output_type": "stream",
          "text": [
            "Token indices sequence length is longer than the specified maximum sequence length for this model (21131 > 1024). Running this sequence through the model will result in indexing errors\n"
          ],
          "name": "stderr"
        },
        {
          "output_type": "stream",
          "text": [
            "/content/gdrive/My Drive/gpt2/python/machine_learning_examples-master/bayesian_ml/4/emgmm.py\n",
            "/content/gdrive/My Drive/gpt2/python/machine_learning_examples-master/bayesian_ml/3/run.py\n",
            "/content/gdrive/My Drive/gpt2/python/machine_learning_examples-master/bayesian_ml/2/probit.py\n",
            "/content/gdrive/My Drive/gpt2/python/machine_learning_examples-master/bayesian_ml/2/em.py\n",
            "/content/gdrive/My Drive/gpt2/python/machine_learning_examples-master/ab_testing/ci_comparison.py\n",
            "/content/gdrive/My Drive/gpt2/python/machine_learning_examples-master/ab_testing/bayesian_bandit.py\n",
            "/content/gdrive/My Drive/gpt2/python/machine_learning_examples-master/ab_testing/chisquare.py\n",
            "/content/gdrive/My Drive/gpt2/python/machine_learning_examples-master/ab_testing/convergence.py\n",
            "/content/gdrive/My Drive/gpt2/python/machine_learning_examples-master/ab_testing/server_starter.py\n",
            "/content/gdrive/My Drive/gpt2/python/machine_learning_examples-master/ab_testing/client.py\n"
          ],
          "name": "stdout"
        },
        {
          "output_type": "stream",
          "text": [
            "Token indices sequence length is longer than the specified maximum sequence length for this model (8913 > 1024). Running this sequence through the model will result in indexing errors\n"
          ],
          "name": "stderr"
        },
        {
          "output_type": "stream",
          "text": [
            "/content/gdrive/My Drive/gpt2/python/machine_learning_examples-master/ab_testing/ex_ttest.py\n",
            "/content/gdrive/My Drive/gpt2/python/machine_learning_examples-master/ab_testing/server_solution.py\n",
            "/content/gdrive/My Drive/gpt2/python/machine_learning_examples-master/ab_testing/ttest.py\n",
            "/content/gdrive/My Drive/gpt2/python/machine_learning_examples-master/ab_testing/demo.py\n",
            "/content/gdrive/My Drive/gpt2/python/machine_learning_examples-master/ab_testing/ex_chisq.py\n",
            "/content/gdrive/My Drive/gpt2/python/machine_learning_examples-master/logistic_regression_class/logistic1.py\n",
            "/content/gdrive/My Drive/gpt2/python/machine_learning_examples-master/logistic_regression_class/l1_regularization.py\n",
            "/content/gdrive/My Drive/gpt2/python/machine_learning_examples-master/logistic_regression_class/logistic4.py\n",
            "/content/gdrive/My Drive/gpt2/python/machine_learning_examples-master/logistic_regression_class/logistic_visualize.py\n",
            "/content/gdrive/My Drive/gpt2/python/machine_learning_examples-master/logistic_regression_class/bad_xor.py\n"
          ],
          "name": "stdout"
        },
        {
          "output_type": "stream",
          "text": [
            "Token indices sequence length is longer than the specified maximum sequence length for this model (5185 > 1024). Running this sequence through the model will result in indexing errors\n"
          ],
          "name": "stderr"
        },
        {
          "output_type": "stream",
          "text": [
            "/content/gdrive/My Drive/gpt2/python/machine_learning_examples-master/logistic_regression_class/logistic_donut.py\n",
            "/content/gdrive/My Drive/gpt2/python/machine_learning_examples-master/logistic_regression_class/logistic2.py\n",
            "/content/gdrive/My Drive/gpt2/python/machine_learning_examples-master/logistic_regression_class/logistic3.py\n",
            "/content/gdrive/My Drive/gpt2/python/machine_learning_examples-master/logistic_regression_class/logistic_xor.py\n",
            "/content/gdrive/My Drive/gpt2/python/machine_learning_examples-master/linear_regression_class/l1_regularization.py\n",
            "/content/gdrive/My Drive/gpt2/python/machine_learning_examples-master/linear_regression_class/systolic.py\n",
            "/content/gdrive/My Drive/gpt2/python/machine_learning_examples-master/linear_regression_class/lr_2d.py\n",
            "/content/gdrive/My Drive/gpt2/python/machine_learning_examples-master/linear_regression_class/gradient_descent.py\n",
            "/content/gdrive/My Drive/gpt2/python/machine_learning_examples-master/linear_regression_class/overfitting.py\n",
            "/content/gdrive/My Drive/gpt2/python/machine_learning_examples-master/linear_regression_class/moore.py\n"
          ],
          "name": "stdout"
        },
        {
          "output_type": "stream",
          "text": [
            "Token indices sequence length is longer than the specified maximum sequence length for this model (6940 > 1024). Running this sequence through the model will result in indexing errors\n"
          ],
          "name": "stderr"
        },
        {
          "output_type": "stream",
          "text": [
            "/content/gdrive/My Drive/gpt2/python/machine_learning_examples-master/linear_regression_class/generate_poly.py\n",
            "/content/gdrive/My Drive/gpt2/python/machine_learning_examples-master/linear_regression_class/gd.py\n",
            "/content/gdrive/My Drive/gpt2/python/machine_learning_examples-master/linear_regression_class/generate_1d.py\n",
            "/content/gdrive/My Drive/gpt2/python/machine_learning_examples-master/linear_regression_class/l2_regularization.py\n",
            "/content/gdrive/My Drive/gpt2/python/machine_learning_examples-master/linear_regression_class/lr_poly.py\n",
            "/content/gdrive/My Drive/gpt2/python/machine_learning_examples-master/linear_regression_class/generate_2d.py\n",
            "/content/gdrive/My Drive/gpt2/python/machine_learning_examples-master/linear_regression_class/lr_1d.py\n",
            "/content/gdrive/My Drive/gpt2/python/machine_learning_examples-master/nlp_class/cipher_placeholder.py\n",
            "/content/gdrive/My Drive/gpt2/python/machine_learning_examples-master/nlp_class/nb.py\n",
            "/content/gdrive/My Drive/gpt2/python/machine_learning_examples-master/nlp_class/spam2.py\n"
          ],
          "name": "stdout"
        },
        {
          "output_type": "stream",
          "text": [
            "Token indices sequence length is longer than the specified maximum sequence length for this model (4235 > 1024). Running this sequence through the model will result in indexing errors\n"
          ],
          "name": "stderr"
        },
        {
          "output_type": "stream",
          "text": [
            "/content/gdrive/My Drive/gpt2/python/machine_learning_examples-master/nlp_class/sentiment.py\n",
            "/content/gdrive/My Drive/gpt2/python/machine_learning_examples-master/nlp_class/lsa.py\n",
            "/content/gdrive/My Drive/gpt2/python/machine_learning_examples-master/nlp_class/article_spinner.py\n",
            "/content/gdrive/My Drive/gpt2/python/machine_learning_examples-master/pytorch/rl_trader.py\n",
            "/content/gdrive/My Drive/gpt2/python/machine_learning_examples-master/pytorch/plot_rl_rewards.py\n",
            "/content/gdrive/My Drive/gpt2/python/machine_learning_examples-master/pytorch/ann_regression.py\n",
            "/content/gdrive/My Drive/gpt2/python/machine_learning_examples-master/numpy_class/regression_example.py\n",
            "/content/gdrive/My Drive/gpt2/python/machine_learning_examples-master/numpy_class/dot_for.py\n",
            "/content/gdrive/My Drive/gpt2/python/machine_learning_examples-master/numpy_class/manual_data_loading.py\n",
            "/content/gdrive/My Drive/gpt2/python/machine_learning_examples-master/numpy_class/classification_example.py\n"
          ],
          "name": "stdout"
        },
        {
          "output_type": "stream",
          "text": [
            "Token indices sequence length is longer than the specified maximum sequence length for this model (12538 > 1024). Running this sequence through the model will result in indexing errors\n"
          ],
          "name": "stderr"
        },
        {
          "output_type": "stream",
          "text": [
            "/content/gdrive/My Drive/gpt2/python/machine_learning_examples-master/numpy_class/exercises/ex6.py\n",
            "/content/gdrive/My Drive/gpt2/python/machine_learning_examples-master/numpy_class/exercises/ex1.py\n",
            "/content/gdrive/My Drive/gpt2/python/machine_learning_examples-master/numpy_class/exercises/ex3.py\n",
            "/content/gdrive/My Drive/gpt2/python/machine_learning_examples-master/numpy_class/exercises/ex4.py\n",
            "/content/gdrive/My Drive/gpt2/python/machine_learning_examples-master/numpy_class/exercises/ex8.py\n",
            "/content/gdrive/My Drive/gpt2/python/machine_learning_examples-master/numpy_class/exercises/ex5.py\n",
            "/content/gdrive/My Drive/gpt2/python/machine_learning_examples-master/numpy_class/exercises/ex7.py\n",
            "/content/gdrive/My Drive/gpt2/python/machine_learning_examples-master/numpy_class/exercises/ex9.py\n",
            "/content/gdrive/My Drive/gpt2/python/machine_learning_examples-master/numpy_class/exercises/ex2.py\n",
            "/content/gdrive/My Drive/gpt2/python/machine_learning_examples-master/numpy_class/python3/manual_data_loading.py\n"
          ],
          "name": "stdout"
        },
        {
          "output_type": "stream",
          "text": [
            "Token indices sequence length is longer than the specified maximum sequence length for this model (3538 > 1024). Running this sequence through the model will result in indexing errors\n"
          ],
          "name": "stderr"
        },
        {
          "output_type": "stream",
          "text": [
            "/content/gdrive/My Drive/gpt2/python/machine_learning_examples-master/numpy_class/python3/dot_for.py\n",
            "/content/gdrive/My Drive/gpt2/python/machine_learning_examples-master/keras_examples/batchnorm.py\n",
            "/content/gdrive/My Drive/gpt2/python/machine_learning_examples-master/keras_examples/cnn_cifar.py\n",
            "/content/gdrive/My Drive/gpt2/python/machine_learning_examples-master/keras_examples/ann.py\n",
            "/content/gdrive/My Drive/gpt2/python/machine_learning_examples-master/keras_examples/cnn_dropout_batchnorm.py\n",
            "/content/gdrive/My Drive/gpt2/python/machine_learning_examples-master/keras_examples/sentiment_analysis.py\n",
            "/content/gdrive/My Drive/gpt2/python/machine_learning_examples-master/keras_examples/basic_mlp.py\n",
            "/content/gdrive/My Drive/gpt2/python/machine_learning_examples-master/keras_examples/dropout.py\n",
            "/content/gdrive/My Drive/gpt2/python/machine_learning_examples-master/keras_examples/translation.py\n",
            "/content/gdrive/My Drive/gpt2/python/machine_learning_examples-master/keras_examples/sine2.py\n"
          ],
          "name": "stdout"
        },
        {
          "output_type": "stream",
          "text": [
            "Token indices sequence length is longer than the specified maximum sequence length for this model (7510 > 1024). Running this sequence through the model will result in indexing errors\n"
          ],
          "name": "stderr"
        },
        {
          "output_type": "stream",
          "text": [
            "/content/gdrive/My Drive/gpt2/python/machine_learning_examples-master/keras_examples/sine.py\n",
            "/content/gdrive/My Drive/gpt2/python/machine_learning_examples-master/keras_examples/util.py\n",
            "/content/gdrive/My Drive/gpt2/python/machine_learning_examples-master/keras_examples/cnn.py\n",
            "/content/gdrive/My Drive/gpt2/python/machine_learning_examples-master/nlp_class3/bilstm_test.py\n",
            "/content/gdrive/My Drive/gpt2/python/machine_learning_examples-master/nlp_class3/simple_rnn_test.py\n",
            "/content/gdrive/My Drive/gpt2/python/machine_learning_examples-master/nlp_class3/memory_network.py\n",
            "/content/gdrive/My Drive/gpt2/python/machine_learning_examples-master/nlp_class3/bilstm_mnist.py\n",
            "/content/gdrive/My Drive/gpt2/python/machine_learning_examples-master/nlp_class3/cnn_toxic.py\n",
            "/content/gdrive/My Drive/gpt2/python/machine_learning_examples-master/nlp_class3/attention.py\n",
            "/content/gdrive/My Drive/gpt2/python/machine_learning_examples-master/nlp_class3/poetry.py\n"
          ],
          "name": "stdout"
        },
        {
          "output_type": "stream",
          "text": [
            "Token indices sequence length is longer than the specified maximum sequence length for this model (17942 > 1024). Running this sequence through the model will result in indexing errors\n"
          ],
          "name": "stderr"
        },
        {
          "output_type": "stream",
          "text": [
            "/content/gdrive/My Drive/gpt2/python/machine_learning_examples-master/nlp_class3/wseq2seq.py\n",
            "/content/gdrive/My Drive/gpt2/python/machine_learning_examples-master/nlp_class3/convert_twitter.py\n",
            "/content/gdrive/My Drive/gpt2/python/machine_learning_examples-master/nlp_class3/lstm_toxic.py\n",
            "/content/gdrive/My Drive/gpt2/python/machine_learning_examples-master/nlp_class2/pretrained_glove.py\n",
            "/content/gdrive/My Drive/gpt2/python/machine_learning_examples-master/nlp_class2/bow_classifier.py\n",
            "/content/gdrive/My Drive/gpt2/python/machine_learning_examples-master/nlp_class2/recursive_theano.py\n",
            "/content/gdrive/My Drive/gpt2/python/machine_learning_examples-master/nlp_class2/pos_tf.py\n",
            "/content/gdrive/My Drive/gpt2/python/machine_learning_examples-master/nlp_class2/ner_tf.py\n",
            "/content/gdrive/My Drive/gpt2/python/machine_learning_examples-master/nlp_class2/recursive_tensorflow.py\n",
            "/content/gdrive/My Drive/gpt2/python/machine_learning_examples-master/nlp_class2/word2vec_theano.py\n"
          ],
          "name": "stdout"
        },
        {
          "output_type": "stream",
          "text": [
            "Token indices sequence length is longer than the specified maximum sequence length for this model (27950 > 1024). Running this sequence through the model will result in indexing errors\n"
          ],
          "name": "stderr"
        },
        {
          "output_type": "stream",
          "text": [
            "/content/gdrive/My Drive/gpt2/python/machine_learning_examples-master/nlp_class2/rntn_tensorflow_rnn.py\n",
            "/content/gdrive/My Drive/gpt2/python/machine_learning_examples-master/nlp_class2/ner_baseline.py\n",
            "/content/gdrive/My Drive/gpt2/python/machine_learning_examples-master/nlp_class2/neural_network.py\n",
            "/content/gdrive/My Drive/gpt2/python/machine_learning_examples-master/nlp_class2/pos_hmm.py\n",
            "/content/gdrive/My Drive/gpt2/python/machine_learning_examples-master/nlp_class2/markov.py\n",
            "/content/gdrive/My Drive/gpt2/python/machine_learning_examples-master/nlp_class2/visualize_countries.py\n",
            "/content/gdrive/My Drive/gpt2/python/machine_learning_examples-master/nlp_class2/word2vec_tf.py\n",
            "/content/gdrive/My Drive/gpt2/python/machine_learning_examples-master/nlp_class2/glove_theano.py\n",
            "/content/gdrive/My Drive/gpt2/python/machine_learning_examples-master/nlp_class2/pretrained_w2v.py\n",
            "/content/gdrive/My Drive/gpt2/python/machine_learning_examples-master/nlp_class2/glove_svd.py\n"
          ],
          "name": "stdout"
        },
        {
          "output_type": "stream",
          "text": [
            "Token indices sequence length is longer than the specified maximum sequence length for this model (27047 > 1024). Running this sequence through the model will result in indexing errors\n"
          ],
          "name": "stderr"
        },
        {
          "output_type": "stream",
          "text": [
            "/content/gdrive/My Drive/gpt2/python/machine_learning_examples-master/nlp_class2/neural_network2.py\n",
            "/content/gdrive/My Drive/gpt2/python/machine_learning_examples-master/nlp_class2/rntn_tensorflow.py\n",
            "/content/gdrive/My Drive/gpt2/python/machine_learning_examples-master/nlp_class2/glove.py\n",
            "/content/gdrive/My Drive/gpt2/python/machine_learning_examples-master/nlp_class2/logistic.py\n",
            "/content/gdrive/My Drive/gpt2/python/machine_learning_examples-master/nlp_class2/pmi.py\n",
            "/content/gdrive/My Drive/gpt2/python/machine_learning_examples-master/nlp_class2/pos_ner_keras.py\n",
            "/content/gdrive/My Drive/gpt2/python/machine_learning_examples-master/nlp_class2/util.py\n",
            "/content/gdrive/My Drive/gpt2/python/machine_learning_examples-master/nlp_class2/ner_rnn.py\n",
            "/content/gdrive/My Drive/gpt2/python/machine_learning_examples-master/nlp_class2/glove_tf.py\n",
            "/content/gdrive/My Drive/gpt2/python/machine_learning_examples-master/nlp_class2/pos_baseline.py\n"
          ],
          "name": "stdout"
        },
        {
          "output_type": "stream",
          "text": [
            "Token indices sequence length is longer than the specified maximum sequence length for this model (31775 > 1024). Running this sequence through the model will result in indexing errors\n"
          ],
          "name": "stderr"
        },
        {
          "output_type": "stream",
          "text": [
            "/content/gdrive/My Drive/gpt2/python/machine_learning_examples-master/nlp_class2/rntn_theano.py\n",
            "/content/gdrive/My Drive/gpt2/python/machine_learning_examples-master/nlp_class2/tfidf_tsne.py\n",
            "/content/gdrive/My Drive/gpt2/python/machine_learning_examples-master/nlp_class2/word2vec.py\n",
            "/content/gdrive/My Drive/gpt2/python/machine_learning_examples-master/nlp_class2/pos_rnn.py\n",
            "/content/gdrive/My Drive/gpt2/python/machine_learning_examples-master/recommenders/preprocess.py\n",
            "/content/gdrive/My Drive/gpt2/python/machine_learning_examples-master/recommenders/preprocess2sparse.py\n",
            "/content/gdrive/My Drive/gpt2/python/machine_learning_examples-master/recommenders/autorec.py\n",
            "/content/gdrive/My Drive/gpt2/python/machine_learning_examples-master/recommenders/spark2.py\n",
            "/content/gdrive/My Drive/gpt2/python/machine_learning_examples-master/recommenders/spark.py\n",
            "/content/gdrive/My Drive/gpt2/python/machine_learning_examples-master/recommenders/tfidf.py\n"
          ],
          "name": "stdout"
        },
        {
          "output_type": "stream",
          "text": [
            "Token indices sequence length is longer than the specified maximum sequence length for this model (18717 > 1024). Running this sequence through the model will result in indexing errors\n"
          ],
          "name": "stderr"
        },
        {
          "output_type": "stream",
          "text": [
            "/content/gdrive/My Drive/gpt2/python/machine_learning_examples-master/recommenders/mf_keras_res.py\n",
            "/content/gdrive/My Drive/gpt2/python/machine_learning_examples-master/recommenders/preprocess_shrink.py\n",
            "/content/gdrive/My Drive/gpt2/python/machine_learning_examples-master/recommenders/preprocess2dict.py\n",
            "/content/gdrive/My Drive/gpt2/python/machine_learning_examples-master/recommenders/itembased.py\n",
            "/content/gdrive/My Drive/gpt2/python/machine_learning_examples-master/recommenders/mf_keras.py\n",
            "/content/gdrive/My Drive/gpt2/python/machine_learning_examples-master/recommenders/mf.py\n",
            "/content/gdrive/My Drive/gpt2/python/machine_learning_examples-master/recommenders/mf2.py\n",
            "/content/gdrive/My Drive/gpt2/python/machine_learning_examples-master/recommenders/rbm_tf_k_faster.py\n",
            "/content/gdrive/My Drive/gpt2/python/machine_learning_examples-master/recommenders/mf_keras_deep.py\n",
            "/content/gdrive/My Drive/gpt2/python/machine_learning_examples-master/recommenders/userbased.py\n"
          ],
          "name": "stdout"
        },
        {
          "output_type": "stream",
          "text": [
            "Token indices sequence length is longer than the specified maximum sequence length for this model (15403 > 1024). Running this sequence through the model will result in indexing errors\n"
          ],
          "name": "stderr"
        },
        {
          "output_type": "stream",
          "text": [
            "/content/gdrive/My Drive/gpt2/python/machine_learning_examples-master/recommenders/rbm_tf_k.py\n",
            "/content/gdrive/My Drive/gpt2/python/machine_learning_examples-master/rl3/plot_es_flappy_results.py\n",
            "/content/gdrive/My Drive/gpt2/python/machine_learning_examples-master/rl3/sample_test.py\n",
            "/content/gdrive/My Drive/gpt2/python/machine_learning_examples-master/rl3/gym_review.py\n",
            "/content/gdrive/My Drive/gpt2/python/machine_learning_examples-master/rl3/es_flappy.py\n",
            "/content/gdrive/My Drive/gpt2/python/machine_learning_examples-master/rl3/flappy2envs.py\n",
            "/content/gdrive/My Drive/gpt2/python/machine_learning_examples-master/rl3/plot_es_mujoco_results.py\n",
            "/content/gdrive/My Drive/gpt2/python/machine_learning_examples-master/rl3/es_mujoco.py\n",
            "/content/gdrive/My Drive/gpt2/python/machine_learning_examples-master/rl3/es_simple.py\n",
            "/content/gdrive/My Drive/gpt2/python/machine_learning_examples-master/rl3/plot_ddpg_result.py\n"
          ],
          "name": "stdout"
        },
        {
          "output_type": "stream",
          "text": [
            "Token indices sequence length is longer than the specified maximum sequence length for this model (12580 > 1024). Running this sequence through the model will result in indexing errors\n"
          ],
          "name": "stderr"
        },
        {
          "output_type": "stream",
          "text": [
            "/content/gdrive/My Drive/gpt2/python/machine_learning_examples-master/rl3/es_mnist.py\n",
            "/content/gdrive/My Drive/gpt2/python/machine_learning_examples-master/rl3/ddpg.py\n",
            "/content/gdrive/My Drive/gpt2/python/machine_learning_examples-master/rl3/a2c/main.py\n",
            "/content/gdrive/My Drive/gpt2/python/machine_learning_examples-master/rl3/a2c/atari_wrappers.py\n",
            "/content/gdrive/My Drive/gpt2/python/machine_learning_examples-master/rl3/a2c/subproc_vec_env.py\n",
            "/content/gdrive/My Drive/gpt2/python/machine_learning_examples-master/rl3/a2c/play.py\n",
            "/content/gdrive/My Drive/gpt2/python/machine_learning_examples-master/rl3/a2c/a2c.py\n",
            "/content/gdrive/My Drive/gpt2/python/machine_learning_examples-master/rl3/a2c/neural_network.py\n",
            "/content/gdrive/My Drive/gpt2/python/machine_learning_examples-master/tf2.0/fake_util.py\n",
            "/content/gdrive/My Drive/gpt2/python/machine_learning_examples-master/tf2.0/rl_trader.py\n"
          ],
          "name": "stdout"
        },
        {
          "output_type": "stream",
          "text": [
            "Token indices sequence length is longer than the specified maximum sequence length for this model (23071 > 1024). Running this sequence through the model will result in indexing errors\n"
          ],
          "name": "stderr"
        },
        {
          "output_type": "stream",
          "text": [
            "/content/gdrive/My Drive/gpt2/python/machine_learning_examples-master/tf2.0/plot_rl_rewards.py\n",
            "/content/gdrive/My Drive/gpt2/python/machine_learning_examples-master/tf2.0/xor3d.py\n",
            "/content/gdrive/My Drive/gpt2/python/machine_learning_examples-master/rnn_class/srn_language_tf.py\n",
            "/content/gdrive/My Drive/gpt2/python/machine_learning_examples-master/rnn_class/wiki.py\n",
            "/content/gdrive/My Drive/gpt2/python/machine_learning_examples-master/rnn_class/lstm.py\n",
            "/content/gdrive/My Drive/gpt2/python/machine_learning_examples-master/rnn_class/gru.py\n",
            "/content/gdrive/My Drive/gpt2/python/machine_learning_examples-master/rnn_class/srn_parity.py\n",
            "/content/gdrive/My Drive/gpt2/python/machine_learning_examples-master/rnn_class/batch_wiki.py\n",
            "/content/gdrive/My Drive/gpt2/python/machine_learning_examples-master/rnn_class/batch_parity.py\n",
            "/content/gdrive/My Drive/gpt2/python/machine_learning_examples-master/rnn_class/visualize_embeddings.py\n"
          ],
          "name": "stdout"
        },
        {
          "output_type": "stream",
          "text": [
            "Token indices sequence length is longer than the specified maximum sequence length for this model (19622 > 1024). Running this sequence through the model will result in indexing errors\n"
          ],
          "name": "stderr"
        },
        {
          "output_type": "stream",
          "text": [
            "/content/gdrive/My Drive/gpt2/python/machine_learning_examples-master/rnn_class/util.py\n",
            "/content/gdrive/My Drive/gpt2/python/machine_learning_examples-master/rnn_class/srn_parity_tf.py\n",
            "/content/gdrive/My Drive/gpt2/python/machine_learning_examples-master/rnn_class/rrnn_language.py\n",
            "/content/gdrive/My Drive/gpt2/python/machine_learning_examples-master/rnn_class/batch_gru.py\n",
            "/content/gdrive/My Drive/gpt2/python/machine_learning_examples-master/rnn_class/__init__.py\n",
            "/content/gdrive/My Drive/gpt2/python/machine_learning_examples-master/rnn_class/brown.py\n",
            "/content/gdrive/My Drive/gpt2/python/machine_learning_examples-master/rnn_class/srn_language.py\n",
            "/content/gdrive/My Drive/gpt2/python/machine_learning_examples-master/rnn_class/poetry_classifier.py\n",
            "/content/gdrive/My Drive/gpt2/python/machine_learning_examples-master/rnn_class/batch_units.py\n",
            "/content/gdrive/My Drive/gpt2/python/machine_learning_examples-master/rnn_class/tf_parity.py\n"
          ],
          "name": "stdout"
        },
        {
          "output_type": "stream",
          "text": [
            "Token indices sequence length is longer than the specified maximum sequence length for this model (25054 > 1024). Running this sequence through the model will result in indexing errors\n"
          ],
          "name": "stderr"
        },
        {
          "output_type": "stream",
          "text": [
            "/content/gdrive/My Drive/gpt2/python/machine_learning_examples-master/rnn_class/mlp_parity.py\n",
            "/content/gdrive/My Drive/gpt2/python/machine_learning_examples-master/supervised_class/util.py\n",
            "/content/gdrive/My Drive/gpt2/python/machine_learning_examples-master/supervised_class/knn_fail.py\n",
            "/content/gdrive/My Drive/gpt2/python/machine_learning_examples-master/supervised_class/regression.py\n",
            "/content/gdrive/My Drive/gpt2/python/machine_learning_examples-master/supervised_class/app.py\n",
            "/content/gdrive/My Drive/gpt2/python/machine_learning_examples-master/supervised_class/dt.py\n",
            "/content/gdrive/My Drive/gpt2/python/machine_learning_examples-master/supervised_class/app_caller.py\n",
            "/content/gdrive/My Drive/gpt2/python/machine_learning_examples-master/supervised_class/knn_donut.py\n",
            "/content/gdrive/My Drive/gpt2/python/machine_learning_examples-master/supervised_class/knn_xor.py\n",
            "/content/gdrive/My Drive/gpt2/python/machine_learning_examples-master/supervised_class/bayes.py\n"
          ],
          "name": "stdout"
        },
        {
          "output_type": "stream",
          "text": [
            "Token indices sequence length is longer than the specified maximum sequence length for this model (9656 > 1024). Running this sequence through the model will result in indexing errors\n"
          ],
          "name": "stderr"
        },
        {
          "output_type": "stream",
          "text": [
            "/content/gdrive/My Drive/gpt2/python/machine_learning_examples-master/supervised_class/perceptron.py\n",
            "/content/gdrive/My Drive/gpt2/python/machine_learning_examples-master/supervised_class/knn_vectorized.py\n",
            "/content/gdrive/My Drive/gpt2/python/machine_learning_examples-master/supervised_class/nb.py\n",
            "/content/gdrive/My Drive/gpt2/python/machine_learning_examples-master/supervised_class/dt_without_recursion.py\n",
            "/content/gdrive/My Drive/gpt2/python/machine_learning_examples-master/supervised_class/app_trainer.py\n",
            "/content/gdrive/My Drive/gpt2/python/machine_learning_examples-master/supervised_class/multinomialnb.py\n",
            "/content/gdrive/My Drive/gpt2/python/machine_learning_examples-master/supervised_class/knn.py\n",
            "/content/gdrive/My Drive/gpt2/python/machine_learning_examples-master/rl/ucb1.py\n",
            "/content/gdrive/My Drive/gpt2/python/machine_learning_examples-master/rl/approx_semigradient_td0_prediction.py\n",
            "/content/gdrive/My Drive/gpt2/python/machine_learning_examples-master/rl/td0_prediction.py\n"
          ],
          "name": "stdout"
        },
        {
          "output_type": "stream",
          "text": [
            "Token indices sequence length is longer than the specified maximum sequence length for this model (15180 > 1024). Running this sequence through the model will result in indexing errors\n"
          ],
          "name": "stderr"
        },
        {
          "output_type": "stream",
          "text": [
            "/content/gdrive/My Drive/gpt2/python/machine_learning_examples-master/rl/optimistic_initial_values.py\n",
            "/content/gdrive/My Drive/gpt2/python/machine_learning_examples-master/rl/q_learning.py\n",
            "/content/gdrive/My Drive/gpt2/python/machine_learning_examples-master/rl/approx_mc_prediction.py\n",
            "/content/gdrive/My Drive/gpt2/python/machine_learning_examples-master/rl/iterative_policy_evaluation_probabilistic.py\n",
            "/content/gdrive/My Drive/gpt2/python/machine_learning_examples-master/rl/monte_carlo.py\n",
            "/content/gdrive/My Drive/gpt2/python/machine_learning_examples-master/rl/approx_semigradient_sarsa_control.py\n",
            "/content/gdrive/My Drive/gpt2/python/machine_learning_examples-master/rl/policy_iteration_deterministic.py\n",
            "/content/gdrive/My Drive/gpt2/python/machine_learning_examples-master/rl/tic_tac_toe.py\n",
            "/content/gdrive/My Drive/gpt2/python/machine_learning_examples-master/rl/policy_iteration.py\n",
            "/content/gdrive/My Drive/gpt2/python/machine_learning_examples-master/rl/monte_carlo_no_es.py\n"
          ],
          "name": "stdout"
        },
        {
          "output_type": "stream",
          "text": [
            "Token indices sequence length is longer than the specified maximum sequence length for this model (18508 > 1024). Running this sequence through the model will result in indexing errors\n"
          ],
          "name": "stderr"
        },
        {
          "output_type": "stream",
          "text": [
            "/content/gdrive/My Drive/gpt2/python/machine_learning_examples-master/rl/plot_rl_rewards.py\n",
            "/content/gdrive/My Drive/gpt2/python/machine_learning_examples-master/rl/bayesian_bandit.py\n",
            "/content/gdrive/My Drive/gpt2/python/machine_learning_examples-master/rl/optimistic_starter.py\n",
            "/content/gdrive/My Drive/gpt2/python/machine_learning_examples-master/rl/epsilon_greedy_starter.py\n",
            "/content/gdrive/My Drive/gpt2/python/machine_learning_examples-master/rl/approx_q_learning.py\n",
            "/content/gdrive/My Drive/gpt2/python/machine_learning_examples-master/rl/monte_carlo_random.py\n",
            "/content/gdrive/My Drive/gpt2/python/machine_learning_examples-master/rl/policy_iteration_probabilistic.py\n",
            "/content/gdrive/My Drive/gpt2/python/machine_learning_examples-master/rl/value_iteration.py\n",
            "/content/gdrive/My Drive/gpt2/python/machine_learning_examples-master/rl/bayesian_starter.py\n",
            "/content/gdrive/My Drive/gpt2/python/machine_learning_examples-master/rl/optimistic.py\n"
          ],
          "name": "stdout"
        },
        {
          "output_type": "stream",
          "text": [
            "Token indices sequence length is longer than the specified maximum sequence length for this model (10906 > 1024). Running this sequence through the model will result in indexing errors\n"
          ],
          "name": "stderr"
        },
        {
          "output_type": "stream",
          "text": [
            "/content/gdrive/My Drive/gpt2/python/machine_learning_examples-master/rl/epsilon_greedy.py\n",
            "/content/gdrive/My Drive/gpt2/python/machine_learning_examples-master/rl/iterative_policy_evaluation_deterministic.py\n",
            "/content/gdrive/My Drive/gpt2/python/machine_learning_examples-master/rl/comparing_epsilons.py\n",
            "/content/gdrive/My Drive/gpt2/python/machine_learning_examples-master/rl/bayesian_normal.py\n",
            "/content/gdrive/My Drive/gpt2/python/machine_learning_examples-master/rl/linear_rl_trader.py\n",
            "/content/gdrive/My Drive/gpt2/python/machine_learning_examples-master/rl/comparing_explore_exploit_methods.py\n",
            "/content/gdrive/My Drive/gpt2/python/machine_learning_examples-master/rl/monte_carlo_es.py\n",
            "/content/gdrive/My Drive/gpt2/python/machine_learning_examples-master/rl/iterative_policy_evaluation.py\n",
            "/content/gdrive/My Drive/gpt2/python/machine_learning_examples-master/rl/policy_iteration_random.py\n",
            "/content/gdrive/My Drive/gpt2/python/machine_learning_examples-master/rl/sarsa.py\n"
          ],
          "name": "stdout"
        },
        {
          "output_type": "stream",
          "text": [
            "Token indices sequence length is longer than the specified maximum sequence length for this model (15160 > 1024). Running this sequence through the model will result in indexing errors\n"
          ],
          "name": "stderr"
        },
        {
          "output_type": "stream",
          "text": [
            "/content/gdrive/My Drive/gpt2/python/machine_learning_examples-master/rl/ucb1_starter.py\n",
            "/content/gdrive/My Drive/gpt2/python/machine_learning_examples-master/rl/grid_world.py\n",
            "/content/gdrive/My Drive/gpt2/python/machine_learning_examples-master/supervised_class2/rf_vs_bag.py\n",
            "/content/gdrive/My Drive/gpt2/python/machine_learning_examples-master/supervised_class2/bias_variance_demo.py\n",
            "/content/gdrive/My Drive/gpt2/python/machine_learning_examples-master/supervised_class2/util.py\n",
            "/content/gdrive/My Drive/gpt2/python/machine_learning_examples-master/supervised_class2/rf_vs_bag2.py\n",
            "/content/gdrive/My Drive/gpt2/python/machine_learning_examples-master/supervised_class2/bagging_regression.py\n",
            "/content/gdrive/My Drive/gpt2/python/machine_learning_examples-master/supervised_class2/bagging_classification.py\n",
            "/content/gdrive/My Drive/gpt2/python/machine_learning_examples-master/supervised_class2/rf_classification.py\n",
            "/content/gdrive/My Drive/gpt2/python/machine_learning_examples-master/supervised_class2/knn_dt_demo.py\n"
          ],
          "name": "stdout"
        },
        {
          "output_type": "stream",
          "text": [
            "Token indices sequence length is longer than the specified maximum sequence length for this model (15161 > 1024). Running this sequence through the model will result in indexing errors\n"
          ],
          "name": "stderr"
        },
        {
          "output_type": "stream",
          "text": [
            "/content/gdrive/My Drive/gpt2/python/machine_learning_examples-master/supervised_class2/bootstrap.py\n",
            "/content/gdrive/My Drive/gpt2/python/machine_learning_examples-master/supervised_class2/rf_regression.py\n",
            "/content/gdrive/My Drive/gpt2/python/machine_learning_examples-master/supervised_class2/adaboost.py\n",
            "/content/gdrive/My Drive/gpt2/python/machine_learning_examples-master/rl2/gym_tutorial.py\n",
            "/content/gdrive/My Drive/gpt2/python/machine_learning_examples-master/rl2/a3c/thread_example.py\n",
            "/content/gdrive/My Drive/gpt2/python/machine_learning_examples-master/rl2/a3c/main.py\n",
            "/content/gdrive/My Drive/gpt2/python/machine_learning_examples-master/rl2/a3c/nets.py\n",
            "/content/gdrive/My Drive/gpt2/python/machine_learning_examples-master/rl2/a3c/worker.py\n",
            "/content/gdrive/My Drive/gpt2/python/machine_learning_examples-master/rl2/cartpole/q_learning.py\n",
            "/content/gdrive/My Drive/gpt2/python/machine_learning_examples-master/rl2/cartpole/tf_warmup.py\n"
          ],
          "name": "stdout"
        },
        {
          "output_type": "stream",
          "text": [
            "Token indices sequence length is longer than the specified maximum sequence length for this model (12425 > 1024). Running this sequence through the model will result in indexing errors\n"
          ],
          "name": "stderr"
        },
        {
          "output_type": "stream",
          "text": [
            "/content/gdrive/My Drive/gpt2/python/machine_learning_examples-master/rl2/cartpole/dqn_tf.py\n",
            "/content/gdrive/My Drive/gpt2/python/machine_learning_examples-master/rl2/cartpole/pg_tf.py\n",
            "/content/gdrive/My Drive/gpt2/python/machine_learning_examples-master/rl2/cartpole/save_a_video.py\n",
            "/content/gdrive/My Drive/gpt2/python/machine_learning_examples-master/rl2/cartpole/random_search.py\n",
            "/content/gdrive/My Drive/gpt2/python/machine_learning_examples-master/rl2/cartpole/pg_theano.py\n",
            "/content/gdrive/My Drive/gpt2/python/machine_learning_examples-master/rl2/cartpole/dqn_theano.py\n",
            "/content/gdrive/My Drive/gpt2/python/machine_learning_examples-master/rl2/cartpole/td_lambda.py\n",
            "/content/gdrive/My Drive/gpt2/python/machine_learning_examples-master/rl2/cartpole/theano_warmup.py\n",
            "/content/gdrive/My Drive/gpt2/python/machine_learning_examples-master/rl2/cartpole/q_learning_bins.py\n",
            "/content/gdrive/My Drive/gpt2/python/machine_learning_examples-master/rl2/atari/dqn_tf.py\n"
          ],
          "name": "stdout"
        },
        {
          "output_type": "stream",
          "text": [
            "Token indices sequence length is longer than the specified maximum sequence length for this model (21971 > 1024). Running this sequence through the model will result in indexing errors\n"
          ],
          "name": "stderr"
        },
        {
          "output_type": "stream",
          "text": [
            "/content/gdrive/My Drive/gpt2/python/machine_learning_examples-master/rl2/atari/dqn_theano.py\n",
            "/content/gdrive/My Drive/gpt2/python/machine_learning_examples-master/rl2/mountaincar/td_lambda.py\n",
            "/content/gdrive/My Drive/gpt2/python/machine_learning_examples-master/rl2/mountaincar/n_step.py\n",
            "/content/gdrive/My Drive/gpt2/python/machine_learning_examples-master/rl2/mountaincar/pg_theano_random.py\n",
            "/content/gdrive/My Drive/gpt2/python/machine_learning_examples-master/rl2/mountaincar/pg_tf.py\n",
            "/content/gdrive/My Drive/gpt2/python/machine_learning_examples-master/rl2/mountaincar/pg_tf_random.py\n",
            "/content/gdrive/My Drive/gpt2/python/machine_learning_examples-master/rl2/mountaincar/q_learning.py\n",
            "/content/gdrive/My Drive/gpt2/python/machine_learning_examples-master/rl2/mountaincar/pg_theano.py\n",
            "/content/gdrive/My Drive/gpt2/python/machine_learning_examples-master/tensorflow/input_data.py\n",
            "/content/gdrive/My Drive/gpt2/python/machine_learning_examples-master/svm_class/crossval.py\n"
          ],
          "name": "stdout"
        },
        {
          "output_type": "stream",
          "text": [
            "Token indices sequence length is longer than the specified maximum sequence length for this model (25350 > 1024). Running this sequence through the model will result in indexing errors\n"
          ],
          "name": "stderr"
        },
        {
          "output_type": "stream",
          "text": [
            "/content/gdrive/My Drive/gpt2/python/machine_learning_examples-master/svm_class/util.py\n",
            "/content/gdrive/My Drive/gpt2/python/machine_learning_examples-master/svm_class/linear_svm_gradient.py\n",
            "/content/gdrive/My Drive/gpt2/python/machine_learning_examples-master/svm_class/svm_mnist.py\n",
            "/content/gdrive/My Drive/gpt2/python/machine_learning_examples-master/svm_class/fake_neural_net.py\n",
            "/content/gdrive/My Drive/gpt2/python/machine_learning_examples-master/svm_class/rbfnetwork.py\n",
            "/content/gdrive/My Drive/gpt2/python/machine_learning_examples-master/svm_class/svm_spam.py\n",
            "/content/gdrive/My Drive/gpt2/python/machine_learning_examples-master/svm_class/regression.py\n",
            "/content/gdrive/My Drive/gpt2/python/machine_learning_examples-master/svm_class/real_neural_net.py\n",
            "/content/gdrive/My Drive/gpt2/python/machine_learning_examples-master/svm_class/svm_smo.py\n",
            "/content/gdrive/My Drive/gpt2/python/machine_learning_examples-master/svm_class/kernel_svm_gradient_primal.py\n"
          ],
          "name": "stdout"
        },
        {
          "output_type": "stream",
          "text": [
            "Token indices sequence length is longer than the specified maximum sequence length for this model (15492 > 1024). Running this sequence through the model will result in indexing errors\n"
          ],
          "name": "stderr"
        },
        {
          "output_type": "stream",
          "text": [
            "/content/gdrive/My Drive/gpt2/python/machine_learning_examples-master/svm_class/svm_medical.py\n",
            "/content/gdrive/My Drive/gpt2/python/machine_learning_examples-master/svm_class/svm_gradient.py\n",
            "/content/gdrive/My Drive/gpt2/python/machine_learning_examples-master/unsupervised_class/neural_kmeans.py\n",
            "/content/gdrive/My Drive/gpt2/python/machine_learning_examples-master/unsupervised_class/gmm.py\n",
            "/content/gdrive/My Drive/gpt2/python/machine_learning_examples-master/unsupervised_class/kmeans_visualize.py\n",
            "/content/gdrive/My Drive/gpt2/python/machine_learning_examples-master/unsupervised_class/hcluster.py\n",
            "/content/gdrive/My Drive/gpt2/python/machine_learning_examples-master/unsupervised_class/tweets.py\n",
            "/content/gdrive/My Drive/gpt2/python/machine_learning_examples-master/unsupervised_class/kmeans.py\n",
            "/content/gdrive/My Drive/gpt2/python/machine_learning_examples-master/unsupervised_class/evolution.py\n",
            "/content/gdrive/My Drive/gpt2/python/machine_learning_examples-master/unsupervised_class/choose_k.py\n"
          ],
          "name": "stdout"
        },
        {
          "output_type": "stream",
          "text": [
            "Token indices sequence length is longer than the specified maximum sequence length for this model (10881 > 1024). Running this sequence through the model will result in indexing errors\n"
          ],
          "name": "stderr"
        },
        {
          "output_type": "stream",
          "text": [
            "/content/gdrive/My Drive/gpt2/python/machine_learning_examples-master/unsupervised_class/books.py\n",
            "/content/gdrive/My Drive/gpt2/python/machine_learning_examples-master/unsupervised_class/__init__.py\n",
            "/content/gdrive/My Drive/gpt2/python/machine_learning_examples-master/unsupervised_class/kmeans_mnist.py\n",
            "/content/gdrive/My Drive/gpt2/python/machine_learning_examples-master/unsupervised_class/gmm_mnist.py\n",
            "/content/gdrive/My Drive/gpt2/python/machine_learning_examples-master/unsupervised_class/kmeans_fail.py\n",
            "/content/gdrive/My Drive/gpt2/python/machine_learning_examples-master/unsupervised_class2/tsne_books.py\n",
            "/content/gdrive/My Drive/gpt2/python/machine_learning_examples-master/unsupervised_class2/vanishing.py\n",
            "/content/gdrive/My Drive/gpt2/python/machine_learning_examples-master/unsupervised_class2/__init__.py\n",
            "/content/gdrive/My Drive/gpt2/python/machine_learning_examples-master/unsupervised_class2/sk_mlp.py\n",
            "/content/gdrive/My Drive/gpt2/python/machine_learning_examples-master/unsupervised_class2/tsne_donut.py\n"
          ],
          "name": "stdout"
        },
        {
          "output_type": "stream",
          "text": [
            "Token indices sequence length is longer than the specified maximum sequence length for this model (10721 > 1024). Running this sequence through the model will result in indexing errors\n"
          ],
          "name": "stderr"
        },
        {
          "output_type": "stream",
          "text": [
            "/content/gdrive/My Drive/gpt2/python/machine_learning_examples-master/unsupervised_class2/visualize_features.py\n",
            "/content/gdrive/My Drive/gpt2/python/machine_learning_examples-master/unsupervised_class2/tsne_mnist.py\n",
            "/content/gdrive/My Drive/gpt2/python/machine_learning_examples-master/unsupervised_class2/gaussian_nb.py\n",
            "/content/gdrive/My Drive/gpt2/python/machine_learning_examples-master/unsupervised_class2/unsupervised.py\n",
            "/content/gdrive/My Drive/gpt2/python/machine_learning_examples-master/unsupervised_class2/autoencoder.py\n",
            "/content/gdrive/My Drive/gpt2/python/machine_learning_examples-master/unsupervised_class2/tsne_xor.py\n",
            "/content/gdrive/My Drive/gpt2/python/machine_learning_examples-master/unsupervised_class2/tsne_visualization.py\n",
            "/content/gdrive/My Drive/gpt2/python/machine_learning_examples-master/unsupervised_class2/autoencoder_tf.py\n",
            "/content/gdrive/My Drive/gpt2/python/machine_learning_examples-master/unsupervised_class2/umap_transformer.py\n",
            "/content/gdrive/My Drive/gpt2/python/machine_learning_examples-master/unsupervised_class2/util.py\n"
          ],
          "name": "stdout"
        },
        {
          "output_type": "stream",
          "text": [
            "Token indices sequence length is longer than the specified maximum sequence length for this model (14316 > 1024). Running this sequence through the model will result in indexing errors\n"
          ],
          "name": "stderr"
        },
        {
          "output_type": "stream",
          "text": [
            "/content/gdrive/My Drive/gpt2/python/machine_learning_examples-master/unsupervised_class2/xwing.py\n",
            "/content/gdrive/My Drive/gpt2/python/machine_learning_examples-master/unsupervised_class2/compare_pca_svd.py\n",
            "/content/gdrive/My Drive/gpt2/python/machine_learning_examples-master/unsupervised_class2/pca.py\n",
            "/content/gdrive/My Drive/gpt2/python/machine_learning_examples-master/unsupervised_class2/rbm_tf.py\n",
            "/content/gdrive/My Drive/gpt2/python/machine_learning_examples-master/unsupervised_class2/rbm.py\n",
            "/content/gdrive/My Drive/gpt2/python/machine_learning_examples-master/unsupervised_class2/pca_impl.py\n",
            "/content/gdrive/My Drive/gpt2/python/machine_learning_examples-master/unsupervised_class3/vae_tf.py\n",
            "/content/gdrive/My Drive/gpt2/python/machine_learning_examples-master/unsupervised_class3/autoencoder_theano.py\n",
            "/content/gdrive/My Drive/gpt2/python/machine_learning_examples-master/unsupervised_class3/parameterize_guassian.py\n",
            "/content/gdrive/My Drive/gpt2/python/machine_learning_examples-master/unsupervised_class3/test_stochastic_tensor.py\n"
          ],
          "name": "stdout"
        },
        {
          "output_type": "stream",
          "text": [
            "Token indices sequence length is longer than the specified maximum sequence length for this model (13467 > 1024). Running this sequence through the model will result in indexing errors\n"
          ],
          "name": "stderr"
        },
        {
          "output_type": "stream",
          "text": [
            "/content/gdrive/My Drive/gpt2/python/machine_learning_examples-master/unsupervised_class3/bayes_classifier_gmm.py\n",
            "/content/gdrive/My Drive/gpt2/python/machine_learning_examples-master/unsupervised_class3/bayes_classifier_gaussian.py\n",
            "/content/gdrive/My Drive/gpt2/python/machine_learning_examples-master/unsupervised_class3/util.py\n",
            "/content/gdrive/My Drive/gpt2/python/machine_learning_examples-master/unsupervised_class3/dcgan_theano.py\n",
            "/content/gdrive/My Drive/gpt2/python/machine_learning_examples-master/unsupervised_class3/dcgan_tf.py\n",
            "/content/gdrive/My Drive/gpt2/python/machine_learning_examples-master/unsupervised_class3/vae_theano.py\n",
            "/content/gdrive/My Drive/gpt2/python/machine_learning_examples-master/unsupervised_class3/visualize_latent_space.py\n",
            "/content/gdrive/My Drive/gpt2/python/machine_learning_examples-master/unsupervised_class3/autoencoder_tf.py\n",
            "/content/gdrive/My Drive/gpt2/python/Deep-Learning-with-Keras-master/Chapter07/func-api-func.py\n",
            "/content/gdrive/My Drive/gpt2/python/Deep-Learning-with-Keras-master/Chapter07/deep-dream.py\n"
          ],
          "name": "stdout"
        },
        {
          "output_type": "stream",
          "text": [
            "Token indices sequence length is longer than the specified maximum sequence length for this model (27572 > 1024). Running this sequence through the model will result in indexing errors\n"
          ],
          "name": "stderr"
        },
        {
          "output_type": "stream",
          "text": [
            "/content/gdrive/My Drive/gpt2/python/Deep-Learning-with-Keras-master/Chapter07/func-api-multi.py\n",
            "/content/gdrive/My Drive/gpt2/python/Deep-Learning-with-Keras-master/Chapter07/mem-network.py\n",
            "/content/gdrive/My Drive/gpt2/python/Deep-Learning-with-Keras-master/Chapter07/make_tensorboard.py\n",
            "/content/gdrive/My Drive/gpt2/python/Deep-Learning-with-Keras-master/Chapter07/style-transfer.py\n",
            "/content/gdrive/My Drive/gpt2/python/Deep-Learning-with-Keras-master/Chapter07/func-api-seq.py\n",
            "/content/gdrive/My Drive/gpt2/python/Deep-Learning-with-Keras-master/Chapter07/sent-thoughts-rnn.py\n",
            "/content/gdrive/My Drive/gpt2/python/Deep-Learning-with-Keras-master/Chapter07/sent-thoughts-parse.py\n",
            "/content/gdrive/My Drive/gpt2/python/Deep-Learning-with-Keras-master/Chapter07/tf-keras-func.py\n",
            "/content/gdrive/My Drive/gpt2/python/Deep-Learning-with-Keras-master/Chapter07/air-quality-regression.py\n",
            "/content/gdrive/My Drive/gpt2/python/Deep-Learning-with-Keras-master/Chapter03/keras_LeNet.py\n"
          ],
          "name": "stdout"
        },
        {
          "output_type": "stream",
          "text": [
            "Token indices sequence length is longer than the specified maximum sequence length for this model (13967 > 1024). Running this sequence through the model will result in indexing errors\n"
          ],
          "name": "stderr"
        },
        {
          "output_type": "stream",
          "text": [
            "/content/gdrive/My Drive/gpt2/python/Deep-Learning-with-Keras-master/Chapter03/keras_VGG16.py\n",
            "/content/gdrive/My Drive/gpt2/python/Deep-Learning-with-Keras-master/Chapter03/keras_CIFAR10_simple.py\n",
            "/content/gdrive/My Drive/gpt2/python/Deep-Learning-with-Keras-master/Chapter03/keras_EvaluateCIFAR10.py\n",
            "/content/gdrive/My Drive/gpt2/python/Deep-Learning-with-Keras-master/Chapter03/keras_CIFAR10_V1.py\n",
            "/content/gdrive/My Drive/gpt2/python/Deep-Learning-with-Keras-master/Chapter02/keras_VGG16_prebuilt.py\n",
            "/content/gdrive/My Drive/gpt2/python/Deep-Learning-with-Keras-master/Chapter02/keras_Azure.py\n",
            "/content/gdrive/My Drive/gpt2/python/Deep-Learning-with-Keras-master/Chapter04/legacy.py\n",
            "/content/gdrive/My Drive/gpt2/python/Deep-Learning-with-Keras-master/Chapter04/dcgan.py\n",
            "/content/gdrive/My Drive/gpt2/python/Deep-Learning-with-Keras-master/Chapter04/cifar10/example_gan_convolutional.py\n",
            "/content/gdrive/My Drive/gpt2/python/Deep-Learning-with-Keras-master/Chapter04/cifar10/cifar10_utils.py\n"
          ],
          "name": "stdout"
        },
        {
          "output_type": "stream",
          "text": [
            "Token indices sequence length is longer than the specified maximum sequence length for this model (10993 > 1024). Running this sequence through the model will result in indexing errors\n"
          ],
          "name": "stderr"
        },
        {
          "output_type": "stream",
          "text": [
            "/content/gdrive/My Drive/gpt2/python/Deep-Learning-with-Keras-master/Chapter04/cifar10/image_utils.py\n",
            "/content/gdrive/My Drive/gpt2/python/Deep-Learning-with-Keras-master/Chapter04/cifar10/example_gan_cifar10.py\n",
            "/content/gdrive/My Drive/gpt2/python/Deep-Learning-with-Keras-master/Chapter04/wavnet/wavenet_utils.py\n",
            "/content/gdrive/My Drive/gpt2/python/Deep-Learning-with-Keras-master/Chapter04/wavnet/wavenet.py\n",
            "/content/gdrive/My Drive/gpt2/python/Deep-Learning-with-Keras-master/Chapter04/wavnet/dataset.py\n",
            "/content/gdrive/My Drive/gpt2/python/Deep-Learning-with-Keras-master/Chapter08/wrapped_game.py\n",
            "/content/gdrive/My Drive/gpt2/python/Deep-Learning-with-Keras-master/Chapter08/rl-network-train.py\n",
            "/content/gdrive/My Drive/gpt2/python/Deep-Learning-with-Keras-master/Chapter08/rl-network-viz.py\n",
            "/content/gdrive/My Drive/gpt2/python/Deep-Learning-with-Keras-master/Chapter08/rl-network-test.py\n",
            "/content/gdrive/My Drive/gpt2/python/Deep-Learning-with-Keras-master/Chapter08/game.py\n"
          ],
          "name": "stdout"
        },
        {
          "output_type": "stream",
          "text": [
            "Token indices sequence length is longer than the specified maximum sequence length for this model (25048 > 1024). Running this sequence through the model will result in indexing errors\n"
          ],
          "name": "stderr"
        },
        {
          "output_type": "stream",
          "text": [
            "/content/gdrive/My Drive/gpt2/python/Deep-Learning-with-Keras-master/Chapter08/game_screenshots.py\n",
            "/content/gdrive/My Drive/gpt2/python/Deep-Learning-with-Keras-master/Appendix/legacy.py\n",
            "/content/gdrive/My Drive/gpt2/python/Deep-Learning-with-Keras-master/Chapter06/econs_stateful.py\n",
            "/content/gdrive/My Drive/gpt2/python/Deep-Learning-with-Keras-master/Chapter06/treebank_data.py\n",
            "/content/gdrive/My Drive/gpt2/python/Deep-Learning-with-Keras-master/Chapter06/treebank_pos_lstm.py\n",
            "/content/gdrive/My Drive/gpt2/python/Deep-Learning-with-Keras-master/Chapter06/treebank_pos_gru.py\n",
            "/content/gdrive/My Drive/gpt2/python/Deep-Learning-with-Keras-master/Chapter06/pos_tagging_data.py\n",
            "/content/gdrive/My Drive/gpt2/python/Deep-Learning-with-Keras-master/Chapter06/econs_data.py\n",
            "/content/gdrive/My Drive/gpt2/python/Deep-Learning-with-Keras-master/Chapter06/pos_tagging_gru.py\n",
            "/content/gdrive/My Drive/gpt2/python/Deep-Learning-with-Keras-master/Chapter06/alice_chargen_rnn.py\n"
          ],
          "name": "stdout"
        },
        {
          "output_type": "stream",
          "text": [
            "Token indices sequence length is longer than the specified maximum sequence length for this model (12613 > 1024). Running this sequence through the model will result in indexing errors\n"
          ],
          "name": "stderr"
        },
        {
          "output_type": "stream",
          "text": [
            "/content/gdrive/My Drive/gpt2/python/Deep-Learning-with-Keras-master/Chapter06/pos-tagging-explore.py\n",
            "/content/gdrive/My Drive/gpt2/python/Deep-Learning-with-Keras-master/Chapter06/umich_sentiment_lstm.py\n",
            "/content/gdrive/My Drive/gpt2/python/Deep-Learning-with-Keras-master/Chapter05/transfer_word2vec_embeddings.py\n",
            "/content/gdrive/My Drive/gpt2/python/Deep-Learning-with-Keras-master/Chapter05/learn_embedding_from_scratch_tensorboard_embedding.py\n",
            "/content/gdrive/My Drive/gpt2/python/Deep-Learning-with-Keras-master/Chapter05/transfer_word2vec_embeddings_tensorboard_embedding.py\n",
            "/content/gdrive/My Drive/gpt2/python/Deep-Learning-with-Keras-master/Chapter05/finetune_word2vec_embeddings.py\n",
            "/content/gdrive/My Drive/gpt2/python/Deep-Learning-with-Keras-master/Chapter05/finetune_word2vec_embeddings_tensorboard_embedding.py\n",
            "/content/gdrive/My Drive/gpt2/python/Deep-Learning-with-Keras-master/Chapter05/word2vec_gensim.py\n",
            "/content/gdrive/My Drive/gpt2/python/Deep-Learning-with-Keras-master/Chapter05/skipgram_example.py\n",
            "/content/gdrive/My Drive/gpt2/python/Deep-Learning-with-Keras-master/Chapter05/make_tensorboard.py\n"
          ],
          "name": "stdout"
        },
        {
          "output_type": "stream",
          "text": [
            "Token indices sequence length is longer than the specified maximum sequence length for this model (13107 > 1024). Running this sequence through the model will result in indexing errors\n"
          ],
          "name": "stderr"
        },
        {
          "output_type": "stream",
          "text": [
            "/content/gdrive/My Drive/gpt2/python/Deep-Learning-with-Keras-master/Chapter05/finetune_glove_embeddings.py\n",
            "/content/gdrive/My Drive/gpt2/python/Deep-Learning-with-Keras-master/Chapter05/transfer_glove_embeddings.py\n",
            "/content/gdrive/My Drive/gpt2/python/Deep-Learning-with-Keras-master/Chapter05/word2vec_skipgram.py\n",
            "/content/gdrive/My Drive/gpt2/python/Deep-Learning-with-Keras-master/Chapter05/finetune_glove_embeddings_tensorboard_embedding.py\n",
            "/content/gdrive/My Drive/gpt2/python/Deep-Learning-with-Keras-master/Chapter05/learn_embedding_from_scratch.py\n",
            "/content/gdrive/My Drive/gpt2/python/Deep-Learning-with-Keras-master/Chapter05/keras_cbow.py\n",
            "/content/gdrive/My Drive/gpt2/python/Deep-Learning-with-Keras-master/Chapter05/keras_skipgram.py\n",
            "/content/gdrive/My Drive/gpt2/python/Deep-Learning-with-Keras-master/Chapter05/word2vec_cbow.py\n",
            "/content/gdrive/My Drive/gpt2/python/Deep-Learning-with-Keras-master/Chapter05/transfer_glove_embeddings_tensorboard_embedding.py\n",
            "/content/gdrive/My Drive/gpt2/python/Deep-Learning-with-Keras-master/Chapter01/keras_MINST_V1.py\n"
          ],
          "name": "stdout"
        },
        {
          "output_type": "stream",
          "text": [
            "Token indices sequence length is longer than the specified maximum sequence length for this model (11141 > 1024). Running this sequence through the model will result in indexing errors\n"
          ],
          "name": "stderr"
        },
        {
          "output_type": "stream",
          "text": [
            "/content/gdrive/My Drive/gpt2/python/Deep-Learning-with-Keras-master/Chapter01/keras_MINST_V3.py\n",
            "/content/gdrive/My Drive/gpt2/python/Deep-Learning-with-Keras-master/Chapter01/keras_MINST_V4.py\n",
            "/content/gdrive/My Drive/gpt2/python/Deep-Learning-with-Keras-master/Chapter01/keras_MINST_V2.py\n",
            "/content/gdrive/My Drive/gpt2/python/examples/reuters_mlp_relu_vs_selu.py\n",
            "/content/gdrive/My Drive/gpt2/python/examples/imdb_cnn_lstm.py\n",
            "/content/gdrive/My Drive/gpt2/python/examples/antirectifier.py\n",
            "/content/gdrive/My Drive/gpt2/python/examples/mnist_hierarchical_rnn.py\n",
            "/content/gdrive/My Drive/gpt2/python/examples/mnist_acgan.py\n",
            "/content/gdrive/My Drive/gpt2/python/examples/mnist_mlp.py\n",
            "/content/gdrive/My Drive/gpt2/python/examples/mnist_swwae.py\n"
          ],
          "name": "stdout"
        },
        {
          "output_type": "stream",
          "text": [
            "Token indices sequence length is longer than the specified maximum sequence length for this model (17636 > 1024). Running this sequence through the model will result in indexing errors\n"
          ],
          "name": "stderr"
        },
        {
          "output_type": "stream",
          "text": [
            "/content/gdrive/My Drive/gpt2/python/examples/mnist_irnn.py\n",
            "/content/gdrive/My Drive/gpt2/python/examples/mnist_denoising_autoencoder.py\n",
            "/content/gdrive/My Drive/gpt2/python/examples/imdb_lstm.py\n",
            "/content/gdrive/My Drive/gpt2/python/examples/imdb_bidirectional_lstm.py\n",
            "/content/gdrive/My Drive/gpt2/python/examples/neural_style_transfer.py\n",
            "/content/gdrive/My Drive/gpt2/python/examples/variational_autoencoder_deconv.py\n",
            "/content/gdrive/My Drive/gpt2/python/examples/imdb_cnn.py\n",
            "/content/gdrive/My Drive/gpt2/python/examples/mnist_siamese.py\n",
            "/content/gdrive/My Drive/gpt2/python/examples/lstm_stateful.py\n",
            "/content/gdrive/My Drive/gpt2/python/examples/lstm_text_generation.py\n"
          ],
          "name": "stdout"
        },
        {
          "output_type": "stream",
          "text": [
            "Token indices sequence length is longer than the specified maximum sequence length for this model (18263 > 1024). Running this sequence through the model will result in indexing errors\n"
          ],
          "name": "stderr"
        },
        {
          "output_type": "stream",
          "text": [
            "/content/gdrive/My Drive/gpt2/python/examples/conv_lstm.py\n",
            "/content/gdrive/My Drive/gpt2/python/examples/image_ocr.py\n",
            "/content/gdrive/My Drive/gpt2/python/examples/cifar10_resnet.py\n",
            "/content/gdrive/My Drive/gpt2/python/examples/pretrained_word_embeddings.py\n",
            "/content/gdrive/My Drive/gpt2/python/examples/mnist_sklearn_wrapper.py\n",
            "/content/gdrive/My Drive/gpt2/python/examples/imdb_fasttext.py\n",
            "/content/gdrive/My Drive/gpt2/python/examples/deep_dream.py\n",
            "/content/gdrive/My Drive/gpt2/python/examples/lstm_seq2seq.py\n",
            "/content/gdrive/My Drive/gpt2/python/examples/lstm_seq2seq_restore.py\n",
            "/content/gdrive/My Drive/gpt2/python/examples/mnist_cnn.py\n"
          ],
          "name": "stdout"
        },
        {
          "output_type": "stream",
          "text": [
            "Token indices sequence length is longer than the specified maximum sequence length for this model (34793 > 1024). Running this sequence through the model will result in indexing errors\n"
          ],
          "name": "stderr"
        },
        {
          "output_type": "stream",
          "text": [
            "/content/gdrive/My Drive/gpt2/python/examples/neural_doodle.py\n",
            "/content/gdrive/My Drive/gpt2/python/examples/variational_autoencoder.py\n",
            "/content/gdrive/My Drive/gpt2/python/examples/cifar10_cnn.py\n",
            "/content/gdrive/My Drive/gpt2/python/examples/cnn_seq2seq.py\n",
            "/content/gdrive/My Drive/gpt2/python/examples/reuters_mlp.py\n",
            "/content/gdrive/My Drive/gpt2/python/examples/class_activation_maps.py\n",
            "/content/gdrive/My Drive/gpt2/python/examples/mnist_net2net.py\n",
            "/content/gdrive/My Drive/gpt2/python/examples/mnist_transfer_cnn.py\n",
            "/content/gdrive/My Drive/gpt2/python/examples/addition_rnn.py\n",
            "/content/gdrive/My Drive/gpt2/python/examples/conv_filter_visualization.py\n"
          ],
          "name": "stdout"
        },
        {
          "output_type": "stream",
          "text": [
            "Token indices sequence length is longer than the specified maximum sequence length for this model (31829 > 1024). Running this sequence through the model will result in indexing errors\n"
          ],
          "name": "stderr"
        },
        {
          "output_type": "stream",
          "text": [
            "/content/gdrive/My Drive/gpt2/python/examples/babi_memnn.py\n",
            "/content/gdrive/My Drive/gpt2/python/examples/babi_rnn.py\n",
            "/content/gdrive/My Drive/gpt2/python/Python-master/Counting-sort.py\n",
            "/content/gdrive/My Drive/gpt2/python/Python-master/TicTacToe.py\n",
            "/content/gdrive/My Drive/gpt2/python/Python-master/script_listing.py\n",
            "/content/gdrive/My Drive/gpt2/python/Python-master/check_input.py\n",
            "/content/gdrive/My Drive/gpt2/python/Python-master/pan.py\n",
            "/content/gdrive/My Drive/gpt2/python/Python-master/tar.py\n",
            "/content/gdrive/My Drive/gpt2/python/Python-master/gambler.py\n",
            "/content/gdrive/My Drive/gpt2/python/Python-master/text_cleaning_comparisson.py\n"
          ],
          "name": "stdout"
        },
        {
          "output_type": "stream",
          "text": [
            "Token indices sequence length is longer than the specified maximum sequence length for this model (17278 > 1024). Running this sequence through the model will result in indexing errors\n"
          ],
          "name": "stderr"
        },
        {
          "output_type": "stream",
          "text": [
            "/content/gdrive/My Drive/gpt2/python/Python-master/password_manager.py\n",
            "/content/gdrive/My Drive/gpt2/python/Python-master/internet_connection_py3.py\n",
            "/content/gdrive/My Drive/gpt2/python/Python-master/check_file.py\n",
            "/content/gdrive/My Drive/gpt2/python/Python-master/rotate_string.py\n",
            "/content/gdrive/My Drive/gpt2/python/Python-master/batch_file_rename.py\n",
            "/content/gdrive/My Drive/gpt2/python/Python-master/live_sketch.py\n",
            "/content/gdrive/My Drive/gpt2/python/Python-master/factorial.py\n",
            "/content/gdrive/My Drive/gpt2/python/Python-master/youtube.py\n",
            "/content/gdrive/My Drive/gpt2/python/Python-master/merge.py\n",
            "/content/gdrive/My Drive/gpt2/python/Python-master/binod.py\n"
          ],
          "name": "stdout"
        },
        {
          "output_type": "stream",
          "text": [
            "Token indices sequence length is longer than the specified maximum sequence length for this model (5986 > 1024). Running this sequence through the model will result in indexing errors\n"
          ],
          "name": "stderr"
        },
        {
          "output_type": "stream",
          "text": [
            "/content/gdrive/My Drive/gpt2/python/Python-master/factorial_perm_comp.py\n",
            "/content/gdrive/My Drive/gpt2/python/Python-master/string_rotation.py\n",
            "/content/gdrive/My Drive/gpt2/python/Python-master/diction.py\n",
            "/content/gdrive/My Drive/gpt2/python/Python-master/patterns.py\n",
            "/content/gdrive/My Drive/gpt2/python/Python-master/prison_break_scrapper.py\n",
            "/content/gdrive/My Drive/gpt2/python/Python-master/Infix_to_Postfix.py\n",
            "/content/gdrive/My Drive/gpt2/python/Python-master/binary_search_tree.py\n",
            "/content/gdrive/My Drive/gpt2/python/Python-master/tik_tak.py\n",
            "/content/gdrive/My Drive/gpt2/python/Python-master/text_file_replace.py\n",
            "/content/gdrive/My Drive/gpt2/python/Python-master/move_files_over_x_days.py\n"
          ],
          "name": "stdout"
        },
        {
          "output_type": "stream",
          "text": [
            "Token indices sequence length is longer than the specified maximum sequence length for this model (12518 > 1024). Running this sequence through the model will result in indexing errors\n"
          ],
          "name": "stderr"
        },
        {
          "output_type": "stream",
          "text": [
            "/content/gdrive/My Drive/gpt2/python/Python-master/testlines.py\n",
            "/content/gdrive/My Drive/gpt2/python/Python-master/read_excel_file.py\n",
            "/content/gdrive/My Drive/gpt2/python/Python-master/selectionSort.py\n",
            "/content/gdrive/My Drive/gpt2/python/Python-master/tic_tak_toe.py\n",
            "/content/gdrive/My Drive/gpt2/python/Python-master/Quick_Sort.py\n",
            "/content/gdrive/My Drive/gpt2/python/Python-master/pscheck.py\n",
            "/content/gdrive/My Drive/gpt2/python/Python-master/ping_servers.py\n",
            "/content/gdrive/My Drive/gpt2/python/Python-master/Organise.py\n",
            "/content/gdrive/My Drive/gpt2/python/Python-master/sierpinski_triangle.py\n",
            "/content/gdrive/My Drive/gpt2/python/Python-master/script_count.py\n"
          ],
          "name": "stdout"
        },
        {
          "output_type": "stream",
          "text": [
            "Token indices sequence length is longer than the specified maximum sequence length for this model (7732 > 1024). Running this sequence through the model will result in indexing errors\n"
          ],
          "name": "stderr"
        },
        {
          "output_type": "stream",
          "text": [
            "/content/gdrive/My Drive/gpt2/python/Python-master/nmap_scan.py\n",
            "/content/gdrive/My Drive/gpt2/python/Python-master/ph_email.py\n",
            "/content/gdrive/My Drive/gpt2/python/Python-master/gcd.py\n",
            "/content/gdrive/My Drive/gpt2/python/Python-master/Cricket_score.py\n",
            "/content/gdrive/My Drive/gpt2/python/Python-master/ReadFromCSV.py\n",
            "/content/gdrive/My Drive/gpt2/python/Python-master/get_crypto_price.py\n",
            "/content/gdrive/My Drive/gpt2/python/Python-master/stack.py\n",
            "/content/gdrive/My Drive/gpt2/python/Python-master/cricket_news.py\n",
            "/content/gdrive/My Drive/gpt2/python/Python-master/kmp_str_search.py\n",
            "/content/gdrive/My Drive/gpt2/python/Python-master/rotatelist.py\n"
          ],
          "name": "stdout"
        },
        {
          "output_type": "stream",
          "text": [
            "Token indices sequence length is longer than the specified maximum sequence length for this model (3747 > 1024). Running this sequence through the model will result in indexing errors\n"
          ],
          "name": "stderr"
        },
        {
          "output_type": "stream",
          "text": [
            "/content/gdrive/My Drive/gpt2/python/Python-master/longest_increasing_subsequence_length.py\n",
            "/content/gdrive/My Drive/gpt2/python/Python-master/Guess_the_number_game.py\n",
            "/content/gdrive/My Drive/gpt2/python/Python-master/translation_of_sizes_of_underwear_RU.py\n",
            "/content/gdrive/My Drive/gpt2/python/Python-master/Mp3_media_player.py\n",
            "/content/gdrive/My Drive/gpt2/python/Python-master/whatsapp-monitor.py\n",
            "/content/gdrive/My Drive/gpt2/python/Python-master/SimpleCalculator.py\n",
            "/content/gdrive/My Drive/gpt2/python/Python-master/blackJackGUI.py\n",
            "/content/gdrive/My Drive/gpt2/python/Python-master/TTS.py\n",
            "/content/gdrive/My Drive/gpt2/python/Python-master/coronacases.py\n",
            "/content/gdrive/My Drive/gpt2/python/Python-master/timymodule.py\n"
          ],
          "name": "stdout"
        },
        {
          "output_type": "stream",
          "text": [
            "Token indices sequence length is longer than the specified maximum sequence length for this model (7612 > 1024). Running this sequence through the model will result in indexing errors\n"
          ],
          "name": "stderr"
        },
        {
          "output_type": "stream",
          "text": [
            "/content/gdrive/My Drive/gpt2/python/Python-master/ping_subnet.py\n",
            "/content/gdrive/My Drive/gpt2/python/Python-master/triangles.py\n",
            "/content/gdrive/My Drive/gpt2/python/Python-master/Print_List_of_Odd_Numbers.py\n",
            "/content/gdrive/My Drive/gpt2/python/Python-master/wiki_random.py\n",
            "/content/gdrive/My Drive/gpt2/python/Python-master/check_for_sqlite_files.py\n",
            "/content/gdrive/My Drive/gpt2/python/Python-master/rook.py\n",
            "/content/gdrive/My Drive/gpt2/python/Python-master/Decimal_To_Binary.py\n",
            "/content/gdrive/My Drive/gpt2/python/Python-master/folder_size.py\n",
            "/content/gdrive/My Drive/gpt2/python/Python-master/RandomDice.py\n",
            "/content/gdrive/My Drive/gpt2/python/Python-master/tf_idf_generator.py\n"
          ],
          "name": "stdout"
        },
        {
          "output_type": "stream",
          "text": [
            "Token indices sequence length is longer than the specified maximum sequence length for this model (6212 > 1024). Running this sequence through the model will result in indexing errors\n"
          ],
          "name": "stderr"
        },
        {
          "output_type": "stream",
          "text": [
            "/content/gdrive/My Drive/gpt2/python/Python-master/convert_time.py\n",
            "/content/gdrive/My Drive/gpt2/python/Python-master/replacetext.py\n",
            "/content/gdrive/My Drive/gpt2/python/Python-master/python_sms.py\n",
            "/content/gdrive/My Drive/gpt2/python/Python-master/nDigitNumberCombinations.py\n",
            "/content/gdrive/My Drive/gpt2/python/Python-master/work_connect.py\n",
            "/content/gdrive/My Drive/gpt2/python/Python-master/sha1.py\n",
            "/content/gdrive/My Drive/gpt2/python/Python-master/twitter_post_scraper.py\n",
            "/content/gdrive/My Drive/gpt2/python/Python-master/EncryptionTool.py\n",
            "/content/gdrive/My Drive/gpt2/python/Python-master/ex20.py\n",
            "/content/gdrive/My Drive/gpt2/python/Python-master/scalg.py\n"
          ],
          "name": "stdout"
        },
        {
          "output_type": "stream",
          "text": [
            "Token indices sequence length is longer than the specified maximum sequence length for this model (7553 > 1024). Running this sequence through the model will result in indexing errors\n"
          ],
          "name": "stderr"
        },
        {
          "output_type": "stream",
          "text": [
            "/content/gdrive/My Drive/gpt2/python/Python-master/BruteForce.py\n",
            "/content/gdrive/My Drive/gpt2/python/Python-master/dice_rolling_simulator.py\n",
            "/content/gdrive/My Drive/gpt2/python/Python-master/password_cracker.py\n",
            "/content/gdrive/My Drive/gpt2/python/Python-master/Merge_linked_list.py\n",
            "/content/gdrive/My Drive/gpt2/python/Python-master/backup_automater_services.py\n",
            "/content/gdrive/My Drive/gpt2/python/Python-master/classicIndianCardMatch.py\n",
            "/content/gdrive/My Drive/gpt2/python/Python-master/polygon.py\n",
            "/content/gdrive/My Drive/gpt2/python/Python-master/days_from_date.py\n",
            "/content/gdrive/My Drive/gpt2/python/Python-master/sqlite_check.py\n",
            "/content/gdrive/My Drive/gpt2/python/Python-master/linear_search.py\n"
          ],
          "name": "stdout"
        },
        {
          "output_type": "stream",
          "text": [
            "Token indices sequence length is longer than the specified maximum sequence length for this model (6183 > 1024). Running this sequence through the model will result in indexing errors\n"
          ],
          "name": "stderr"
        },
        {
          "output_type": "stream",
          "text": [
            "/content/gdrive/My Drive/gpt2/python/Python-master/Binary Coefficients.py\n",
            "/content/gdrive/My Drive/gpt2/python/Python-master/factor.py\n",
            "/content/gdrive/My Drive/gpt2/python/Python-master/osinfo.py\n",
            "/content/gdrive/My Drive/gpt2/python/Python-master/dice.py\n",
            "/content/gdrive/My Drive/gpt2/python/Python-master/Guessing_Game.py\n",
            "/content/gdrive/My Drive/gpt2/python/Python-master/recyclebin.py\n",
            "/content/gdrive/My Drive/gpt2/python/Python-master/google.py\n",
            "/content/gdrive/My Drive/gpt2/python/Python-master/four_digit_num_combination.py\n",
            "/content/gdrive/My Drive/gpt2/python/Python-master/get_likes_on_FB.py\n",
            "/content/gdrive/My Drive/gpt2/python/Python-master/recursive-fibonacci.py\n"
          ],
          "name": "stdout"
        },
        {
          "output_type": "stream",
          "text": [
            "Token indices sequence length is longer than the specified maximum sequence length for this model (3202 > 1024). Running this sequence through the model will result in indexing errors\n"
          ],
          "name": "stderr"
        },
        {
          "output_type": "stream",
          "text": [
            "/content/gdrive/My Drive/gpt2/python/Python-master/GroupSms_Way2.py\n",
            "/content/gdrive/My Drive/gpt2/python/Python-master/changemac.py\n",
            "/content/gdrive/My Drive/gpt2/python/Python-master/Google_News.py\n",
            "/content/gdrive/My Drive/gpt2/python/Python-master/balance_parenthesis.py\n",
            "/content/gdrive/My Drive/gpt2/python/Python-master/snake.py\n",
            "/content/gdrive/My Drive/gpt2/python/Python-master/find_prime.py\n",
            "/content/gdrive/My Drive/gpt2/python/Python-master/chaos.py\n",
            "/content/gdrive/My Drive/gpt2/python/Python-master/cricket_live_score.py\n",
            "/content/gdrive/My Drive/gpt2/python/Python-master/CountMillionCharacter.py\n",
            "/content/gdrive/My Drive/gpt2/python/Python-master/multiplication_table.py\n"
          ],
          "name": "stdout"
        },
        {
          "output_type": "stream",
          "text": [
            "Token indices sequence length is longer than the specified maximum sequence length for this model (9219 > 1024). Running this sequence through the model will result in indexing errors\n"
          ],
          "name": "stderr"
        },
        {
          "output_type": "stream",
          "text": [
            "/content/gdrive/My Drive/gpt2/python/Python-master/passwordGen.py\n",
            "/content/gdrive/My Drive/gpt2/python/Python-master/write_excel_file.py\n",
            "/content/gdrive/My Drive/gpt2/python/Python-master/tweeter.py\n",
            "/content/gdrive/My Drive/gpt2/python/Python-master/Binary_search.py\n",
            "/content/gdrive/My Drive/gpt2/python/Python-master/psunotify.py\n",
            "/content/gdrive/My Drive/gpt2/python/Python-master/alexa_news_headlines.py\n",
            "/content/gdrive/My Drive/gpt2/python/Python-master/spiralmatrix.py\n",
            "/content/gdrive/My Drive/gpt2/python/Python-master/daily_horoscope.py\n",
            "/content/gdrive/My Drive/gpt2/python/Python-master/dec_to_hex.py\n",
            "/content/gdrive/My Drive/gpt2/python/Python-master/check_internet_con.py\n"
          ],
          "name": "stdout"
        },
        {
          "output_type": "stream",
          "text": [
            "Token indices sequence length is longer than the specified maximum sequence length for this model (5668 > 1024). Running this sequence through the model will result in indexing errors\n"
          ],
          "name": "stderr"
        },
        {
          "output_type": "stream",
          "text": [
            "/content/gdrive/My Drive/gpt2/python/Python-master/thread_signal.py\n",
            "/content/gdrive/My Drive/gpt2/python/Python-master/calculator.py\n",
            "/content/gdrive/My Drive/gpt2/python/Python-master/randomloadingmessage.py\n",
            "/content/gdrive/My Drive/gpt2/python/Python-master/daily_checks.py\n",
            "/content/gdrive/My Drive/gpt2/python/Python-master/get_youtube_view.py\n",
            "/content/gdrive/My Drive/gpt2/python/Python-master/Palindrome_Checker.py\n",
            "/content/gdrive/My Drive/gpt2/python/Python-master/tower_of_hanoi.py\n",
            "/content/gdrive/My Drive/gpt2/python/Python-master/start-server.py\n",
            "/content/gdrive/My Drive/gpt2/python/Python-master/env_check.py\n",
            "/content/gdrive/My Drive/gpt2/python/Python-master/youtube-downloader fast.py\n"
          ],
          "name": "stdout"
        },
        {
          "output_type": "stream",
          "text": [
            "Token indices sequence length is longer than the specified maximum sequence length for this model (7304 > 1024). Running this sequence through the model will result in indexing errors\n"
          ],
          "name": "stderr"
        },
        {
          "output_type": "stream",
          "text": [
            "/content/gdrive/My Drive/gpt2/python/Python-master/two_num.py\n",
            "/content/gdrive/My Drive/gpt2/python/Python-master/new_script.py\n",
            "/content/gdrive/My Drive/gpt2/python/Python-master/chicks_n_rabs.py\n",
            "/content/gdrive/My Drive/gpt2/python/Python-master/passwordGenerator.py\n",
            "/content/gdrive/My Drive/gpt2/python/Python-master/powerdown_startup.py\n",
            "/content/gdrive/My Drive/gpt2/python/Python-master/sqlite_table_check.py\n",
            "/content/gdrive/My Drive/gpt2/python/Python-master/find_cube_root.py\n",
            "/content/gdrive/My Drive/gpt2/python/Python-master/fibonacci.py\n",
            "/content/gdrive/My Drive/gpt2/python/Python-master/portscanner.py\n",
            "/content/gdrive/My Drive/gpt2/python/Python-master/fetch_news.py\n"
          ],
          "name": "stdout"
        },
        {
          "output_type": "stream",
          "text": [
            "Token indices sequence length is longer than the specified maximum sequence length for this model (5123 > 1024). Running this sequence through the model will result in indexing errors\n"
          ],
          "name": "stderr"
        },
        {
          "output_type": "stream",
          "text": [
            "/content/gdrive/My Drive/gpt2/python/Python-master/WikipediaModule.py\n",
            "/content/gdrive/My Drive/gpt2/python/Python-master/Chrome Dino Automater.py\n",
            "/content/gdrive/My Drive/gpt2/python/Python-master/CountMillionCharacters-2.0.py\n",
            "/content/gdrive/My Drive/gpt2/python/Python-master/Hangman.py\n",
            "/content/gdrive/My Drive/gpt2/python/Python-master/slack_message.py\n",
            "/content/gdrive/My Drive/gpt2/python/Python-master/power_of_two.py\n",
            "/content/gdrive/My Drive/gpt2/python/Python-master/puttylogs.py\n",
            "/content/gdrive/My Drive/gpt2/python/Python-master/movie_details.py\n",
            "/content/gdrive/My Drive/gpt2/python/Python-master/xkcd_downloader.py\n",
            "/content/gdrive/My Drive/gpt2/python/Python-master/helloworld.py\n"
          ],
          "name": "stdout"
        },
        {
          "output_type": "stream",
          "text": [
            "Token indices sequence length is longer than the specified maximum sequence length for this model (4711 > 1024). Running this sequence through the model will result in indexing errors\n"
          ],
          "name": "stderr"
        },
        {
          "output_type": "stream",
          "text": [
            "/content/gdrive/My Drive/gpt2/python/Python-master/next_number.py\n",
            "/content/gdrive/My Drive/gpt2/python/Python-master/get_info_remoute_srv.py\n",
            "/content/gdrive/My Drive/gpt2/python/Python-master/site_health.py\n",
            "/content/gdrive/My Drive/gpt2/python/Python-master/pyhton_array.py\n",
            "/content/gdrive/My Drive/gpt2/python/Python-master/Print_List_of_Even_Numbers.py\n",
            "/content/gdrive/My Drive/gpt2/python/Python-master/sendemail.py\n",
            "/content/gdrive/My Drive/gpt2/python/Python-master/totaldigits.py\n",
            "/content/gdrive/My Drive/gpt2/python/Python-master/meme_maker.py\n",
            "/content/gdrive/My Drive/gpt2/python/Python-master/pythonVideoDownloader.py\n",
            "/content/gdrive/My Drive/gpt2/python/Python-master/stackF_Harsh2255.py\n"
          ],
          "name": "stdout"
        },
        {
          "output_type": "stream",
          "text": [
            "Token indices sequence length is longer than the specified maximum sequence length for this model (6640 > 1024). Running this sequence through the model will result in indexing errors\n"
          ],
          "name": "stderr"
        },
        {
          "output_type": "stream",
          "text": [
            "/content/gdrive/My Drive/gpt2/python/Python-master/diamond.py\n",
            "/content/gdrive/My Drive/gpt2/python/Python-master/QuadraticCalc.py\n",
            "/content/gdrive/My Drive/gpt2/python/Python-master/serial_scanner.py\n",
            "/content/gdrive/My Drive/gpt2/python/Python-master/rock_paper_scissor_game.py\n",
            "/content/gdrive/My Drive/gpt2/python/Python-master/magic8ball.py\n",
            "/content/gdrive/My Drive/gpt2/python/Python-master/insertion_sort.py\n",
            "/content/gdrive/My Drive/gpt2/python/Python-master/PONG_GAME.py\n",
            "/content/gdrive/My Drive/gpt2/python/Python-master/powerup_checks.py\n",
            "/content/gdrive/My Drive/gpt2/python/Python-master/create_dir_if_not_there.py\n",
            "/content/gdrive/My Drive/gpt2/python/Python-master/Classification_human_or_horse.py\n"
          ],
          "name": "stdout"
        },
        {
          "output_type": "stream",
          "text": [
            "Token indices sequence length is longer than the specified maximum sequence length for this model (8333 > 1024). Running this sequence through the model will result in indexing errors\n"
          ],
          "name": "stderr"
        },
        {
          "output_type": "stream",
          "text": [
            "/content/gdrive/My Drive/gpt2/python/Python-master/ftp_send_receive.py\n",
            "/content/gdrive/My Drive/gpt2/python/Python-master/scrap_file.py\n",
            "/content/gdrive/My Drive/gpt2/python/Python-master/jee_result.py\n",
            "/content/gdrive/My Drive/gpt2/python/Python-master/MobiusFunction.py\n",
            "/content/gdrive/My Drive/gpt2/python/Python-master/factors.py\n",
            "/content/gdrive/My Drive/gpt2/python/Python-master/random-sentences.py\n",
            "/content/gdrive/My Drive/gpt2/python/Python-master/new.py\n",
            "/content/gdrive/My Drive/gpt2/python/Python-master/Day_of_week.py\n",
            "/content/gdrive/My Drive/gpt2/python/Python-master/SimpleStopWatch.py\n",
            "/content/gdrive/My Drive/gpt2/python/Python-master/spotlight.py\n"
          ],
          "name": "stdout"
        },
        {
          "output_type": "stream",
          "text": [
            "Token indices sequence length is longer than the specified maximum sequence length for this model (5806 > 1024). Running this sequence through the model will result in indexing errors\n"
          ],
          "name": "stderr"
        },
        {
          "output_type": "stream",
          "text": [
            "/content/gdrive/My Drive/gpt2/python/Python-master/Streaming Tweets from Twitter to Database.py\n",
            "/content/gdrive/My Drive/gpt2/python/Python-master/Shivaansh.py\n",
            "/content/gdrive/My Drive/gpt2/python/Python-master/Merge-sort.py\n",
            "/content/gdrive/My Drive/gpt2/python/Python-master/Memory_game.py\n",
            "/content/gdrive/My Drive/gpt2/python/Python-master/dir_test.py\n",
            "/content/gdrive/My Drive/gpt2/python/Python-master/Polyline.py\n",
            "/content/gdrive/My Drive/gpt2/python/Python-master/recursive-quick-sort.py\n",
            "/content/gdrive/My Drive/gpt2/python/Python-master/blackjack.py\n",
            "/content/gdrive/My Drive/gpt2/python/Python-master/Credit_Card_Validator.py\n",
            "/content/gdrive/My Drive/gpt2/python/Python-master/Program to print table of given number.py\n"
          ],
          "name": "stdout"
        },
        {
          "output_type": "stream",
          "text": [
            "Token indices sequence length is longer than the specified maximum sequence length for this model (5122 > 1024). Running this sequence through the model will result in indexing errors\n"
          ],
          "name": "stderr"
        },
        {
          "output_type": "stream",
          "text": [
            "/content/gdrive/My Drive/gpt2/python/Python-master/MySQL_Databses.py\n",
            "/content/gdrive/My Drive/gpt2/python/Python-master/diceV2_dynamic.py\n",
            "/content/gdrive/My Drive/gpt2/python/Python-master/nslookup_check.py\n",
            "/content/gdrive/My Drive/gpt2/python/Python-master/logs.py\n",
            "/content/gdrive/My Drive/gpt2/python/Python-master/fileinfo.py\n",
            "/content/gdrive/My Drive/gpt2/python/Python-master/webcam.py\n",
            "/content/gdrive/My Drive/gpt2/python/Python-master/bubble sort.py\n",
            "/content/gdrive/My Drive/gpt2/python/Python-master/BlackJack_game/blackjack.py\n",
            "/content/gdrive/My Drive/gpt2/python/Python-master/BlackJack_game/blackjack_rr.py\n",
            "/content/gdrive/My Drive/gpt2/python/Python-master/async_downloader/async_downloader.py\n"
          ],
          "name": "stdout"
        },
        {
          "output_type": "stream",
          "text": [
            "Token indices sequence length is longer than the specified maximum sequence length for this model (10223 > 1024). Running this sequence through the model will result in indexing errors\n"
          ],
          "name": "stderr"
        },
        {
          "output_type": "stream",
          "text": [
            "/content/gdrive/My Drive/gpt2/python/Python-master/bank_managment_system/backend.py\n",
            "/content/gdrive/My Drive/gpt2/python/Python-master/bank_managment_system/frontend.py\n",
            "/content/gdrive/My Drive/gpt2/python/Python-master/Assembler/assembler.py\n",
            "/content/gdrive/My Drive/gpt2/python/Python-master/communication/file.py\n",
            "/content/gdrive/My Drive/gpt2/python/Python-master/communication/socket_conn.py\n",
            "/content/gdrive/My Drive/gpt2/python/Python-master/communication/pipe.py\n",
            "/content/gdrive/My Drive/gpt2/python/Python-master/CountMillionCharacters-Variations/variation1.py\n",
            "/content/gdrive/My Drive/gpt2/python/Python-master/brickout-game/brickout-game.py\n",
            "/content/gdrive/My Drive/gpt2/python/Python-master/Compression_Analysis/PSNR.py\n",
            "/content/gdrive/My Drive/gpt2/python/Python-master/Colors/pixel_sort.py\n"
          ],
          "name": "stdout"
        },
        {
          "output_type": "stream",
          "text": [
            "Token indices sequence length is longer than the specified maximum sequence length for this model (53830 > 1024). Running this sequence through the model will result in indexing errors\n"
          ],
          "name": "stderr"
        },
        {
          "output_type": "stream",
          "text": [
            "/content/gdrive/My Drive/gpt2/python/Python-master/Colors/primary_colors.py\n",
            "/content/gdrive/My Drive/gpt2/python/Python-master/Colors/print_colors.py\n",
            "/content/gdrive/My Drive/gpt2/python/Python-master/floodfill/floodfill.py\n",
            "/content/gdrive/My Drive/gpt2/python/Python-master/flappyBird_pygame/flappy_bird.py\n",
            "/content/gdrive/My Drive/gpt2/python/Python-master/game_of_life/game_o_life.py\n",
            "/content/gdrive/My Drive/gpt2/python/Python-master/CRC/crc.py\n",
            "/content/gdrive/My Drive/gpt2/python/Python-master/Google_Image_Downloader/create_dir.py\n",
            "/content/gdrive/My Drive/gpt2/python/Python-master/Google_Image_Downloader/image_grapper.py\n",
            "/content/gdrive/My Drive/gpt2/python/Python-master/ImageDownloader/img_downloader.py\n",
            "/content/gdrive/My Drive/gpt2/python/Python-master/Digital Clock/digital_clock.py\n"
          ],
          "name": "stdout"
        },
        {
          "output_type": "stream",
          "text": [
            "Token indices sequence length is longer than the specified maximum sequence length for this model (14452 > 1024). Running this sequence through the model will result in indexing errors\n"
          ],
          "name": "stderr"
        },
        {
          "output_type": "stream",
          "text": [
            "/content/gdrive/My Drive/gpt2/python/Python-master/insta_monitering/insta_datafetcher.py\n",
            "/content/gdrive/My Drive/gpt2/python/Python-master/insta_monitering/insta_api.py\n",
            "/content/gdrive/My Drive/gpt2/python/Python-master/insta_monitering/subpinsta.py\n",
            "/content/gdrive/My Drive/gpt2/python/Python-master/insta_monitering/con_file.py\n",
            "/content/gdrive/My Drive/gpt2/python/Python-master/Flappy Bird - created with tkinter/Settings.py\n",
            "/content/gdrive/My Drive/gpt2/python/Python-master/Flappy Bird - created with tkinter/Tubes.py\n",
            "/content/gdrive/My Drive/gpt2/python/Python-master/Flappy Bird - created with tkinter/Bird.py\n",
            "/content/gdrive/My Drive/gpt2/python/Python-master/Flappy Bird - created with tkinter/Flappy Bird.py\n",
            "/content/gdrive/My Drive/gpt2/python/Python-master/Flappy Bird - created with tkinter/Background.py\n",
            "/content/gdrive/My Drive/gpt2/python/Python-master/Password Generator/pass_gen.py\n"
          ],
          "name": "stdout"
        },
        {
          "output_type": "stream",
          "text": [
            "Token indices sequence length is longer than the specified maximum sequence length for this model (28525 > 1024). Running this sequence through the model will result in indexing errors\n"
          ],
          "name": "stderr"
        },
        {
          "output_type": "stream",
          "text": [
            "/content/gdrive/My Drive/gpt2/python/Python-master/primelib/primelib.py\n",
            "/content/gdrive/My Drive/gpt2/python/Python-master/rearrange-files/rearrange-files.py\n",
            "/content/gdrive/My Drive/gpt2/python/Python-master/PDF/basic.py\n",
            "/content/gdrive/My Drive/gpt2/python/Python-master/PDF/header_footer.py\n",
            "/content/gdrive/My Drive/gpt2/python/Python-master/PDF/images.py\n",
            "/content/gdrive/My Drive/gpt2/python/Python-master/Koch Curve/koch curve.py\n",
            "/content/gdrive/My Drive/gpt2/python/Python-master/JARVIS/JARVIS.py\n",
            "/content/gdrive/My Drive/gpt2/python/Python-master/notepad/notepad_support.py\n",
            "/content/gdrive/My Drive/gpt2/python/Python-master/nodepad/notepad.py\n",
            "/content/gdrive/My Drive/gpt2/python/Python-master/linear-algebra-python/src/lib.py\n"
          ],
          "name": "stdout"
        },
        {
          "output_type": "stream",
          "text": [
            "Token indices sequence length is longer than the specified maximum sequence length for this model (20238 > 1024). Running this sequence through the model will result in indexing errors\n"
          ],
          "name": "stderr"
        },
        {
          "output_type": "stream",
          "text": [
            "/content/gdrive/My Drive/gpt2/python/Python-master/linear-algebra-python/src/tests.py\n",
            "/content/gdrive/My Drive/gpt2/python/Python-master/linear-algebra-python/src/Transformations2D.py\n",
            "/content/gdrive/My Drive/gpt2/python/Python-master/UI-Apps/clock.py\n",
            "/content/gdrive/My Drive/gpt2/python/Python-master/Weather Scrapper/weather.py\n",
            "/content/gdrive/My Drive/gpt2/python/Python-master/socket-programming/client.py\n",
            "/content/gdrive/My Drive/gpt2/python/Python-master/socket-programming/server.py\n",
            "/content/gdrive/My Drive/gpt2/python/Python-master/stone_paper_scissor/main.py\n",
            "/content/gdrive/My Drive/gpt2/python/Python-master/stone_paper_scissor/utils.py\n",
            "/content/gdrive/My Drive/gpt2/python/Python-master/Windows_Wallpaper_Script/wallpaper_extract.py\n",
            "/content/gdrive/My Drive/gpt2/python/Python-master/video-operations/timelapse.py\n"
          ],
          "name": "stdout"
        },
        {
          "output_type": "stream",
          "text": [
            "Token indices sequence length is longer than the specified maximum sequence length for this model (7538 > 1024). Running this sequence through the model will result in indexing errors\n"
          ],
          "name": "stderr"
        },
        {
          "output_type": "stream",
          "text": [
            "/content/gdrive/My Drive/gpt2/python/Python-master/video-operations/slow-motion.py\n",
            "/content/gdrive/My Drive/gpt2/python/Python-master/XORcipher/XOR_cipher.py\n",
            "/content/gdrive/My Drive/gpt2/python/Python-master/XORcipher/test_XOR_cipher.py\n",
            "/content/gdrive/My Drive/gpt2/python/Python-master/thired-party-haarcascade-mustache-on-face/mustache-add-on-face.py\n",
            "/content/gdrive/My Drive/gpt2/python/Python-master/thired-party-haarcascade-mustache-on-face/utils.py\n",
            "/content/gdrive/My Drive/gpt2/python/Python-master/Sorting Algorithims/merge_sort.py\n",
            "/content/gdrive/My Drive/gpt2/python/Python-master/Sorting Algorithims/quick_sort.py\n",
            "/content/gdrive/My Drive/gpt2/python/Python-master/Sorting Algorithims/insertion_sort.py\n",
            "/content/gdrive/My Drive/gpt2/python/Python-master/Sorting Algorithims/heap_sort.py\n",
            "/content/gdrive/My Drive/gpt2/python/Python-master/Sorting Algorithims/Bubble_sort.py\n"
          ],
          "name": "stdout"
        },
        {
          "output_type": "stream",
          "text": [
            "Token indices sequence length is longer than the specified maximum sequence length for this model (8656 > 1024). Running this sequence through the model will result in indexing errors\n"
          ],
          "name": "stderr"
        },
        {
          "output_type": "stream",
          "text": [
            "/content/gdrive/My Drive/gpt2/python/Python-master/Sorting Algorithims/selection_sort.py\n",
            "/content/gdrive/My Drive/gpt2/python/Python-master/Youtube Downloader With GUI/main.py\n",
            "/content/gdrive/My Drive/gpt2/python/Python-master/Easy-deep-learning/5. ETC/2-Keras-callbacks/4-2-early-stopping.py\n",
            "/content/gdrive/My Drive/gpt2/python/Python-master/Easy-deep-learning/5. ETC/2-Keras-callbacks/4-2-reduce-learning-rate.py\n",
            "/content/gdrive/My Drive/gpt2/python/Python-master/Easy-deep-learning/5. ETC/2-Keras-callbacks/4-1-model-checkpoint.py\n",
            "/content/gdrive/My Drive/gpt2/python/Python-master/Easy-deep-learning/5. ETC/0-Creating-models/0-1-1-sequential-api-1.py\n",
            "/content/gdrive/My Drive/gpt2/python/Python-master/Easy-deep-learning/5. ETC/0-Creating-models/0-1-1-sequential-api-3.py\n",
            "/content/gdrive/My Drive/gpt2/python/Python-master/Easy-deep-learning/5. ETC/0-Creating-models/0-2-functional-api.py\n",
            "/content/gdrive/My Drive/gpt2/python/Python-master/Easy-deep-learning/5. ETC/0-Creating-models/0-1-1-sequential-api-2.py\n",
            "/content/gdrive/My Drive/gpt2/python/Python-master/Easy-deep-learning/3. RNN/1-Basic-RNN/1-3-lstm.py\n"
          ],
          "name": "stdout"
        },
        {
          "output_type": "stream",
          "text": [
            "Token indices sequence length is longer than the specified maximum sequence length for this model (4776 > 1024). Running this sequence through the model will result in indexing errors\n"
          ],
          "name": "stderr"
        },
        {
          "output_type": "stream",
          "text": [
            "/content/gdrive/My Drive/gpt2/python/Python-master/Easy-deep-learning/3. RNN/1-Basic-RNN/1-1-vanilla-rnn.py\n",
            "/content/gdrive/My Drive/gpt2/python/Python-master/Easy-deep-learning/3. RNN/1-Basic-RNN/1-2-stacked-vanilla-rnn.py\n",
            "/content/gdrive/My Drive/gpt2/python/Python-master/Easy-deep-learning/3. RNN/1-Basic-RNN/1-4-stacked-lstm.py\n",
            "/content/gdrive/My Drive/gpt2/python/Python-master/Easy-deep-learning/3. RNN/2-Advanced-RNN/2-2-bidirectional-rnn.py\n",
            "/content/gdrive/My Drive/gpt2/python/Python-master/Easy-deep-learning/3. RNN/2-Advanced-RNN/2-1-deep-rnn.py\n",
            "/content/gdrive/My Drive/gpt2/python/Python-master/Easy-deep-learning/3. RNN/2-Advanced-RNN/2-3-deep-bidirectional-rnn.py\n",
            "/content/gdrive/My Drive/gpt2/python/Python-master/Easy-deep-learning/3. RNN/3-Advanced-RNN-2/3-2-cnn-rnn-2.py\n",
            "/content/gdrive/My Drive/gpt2/python/Python-master/Easy-deep-learning/3. RNN/3-Advanced-RNN-2/3-1-cnn-rnn-1.py\n",
            "/content/gdrive/My Drive/gpt2/python/Python-master/Easy-deep-learning/3. RNN/4-Advanced-RNN-3/4-3-cudnn-gru.py\n",
            "/content/gdrive/My Drive/gpt2/python/Python-master/Easy-deep-learning/3. RNN/4-Advanced-RNN-3/4-2-gru.py\n"
          ],
          "name": "stdout"
        },
        {
          "output_type": "stream",
          "text": [
            "Token indices sequence length is longer than the specified maximum sequence length for this model (5882 > 1024). Running this sequence through the model will result in indexing errors\n"
          ],
          "name": "stderr"
        },
        {
          "output_type": "stream",
          "text": [
            "/content/gdrive/My Drive/gpt2/python/Python-master/Easy-deep-learning/3. RNN/4-Advanced-RNN-3/4-1-lstm.py\n",
            "/content/gdrive/My Drive/gpt2/python/Python-master/Easy-deep-learning/3. RNN/4-Advanced-RNN-3/4-3-cudnn-lstm.py\n",
            "/content/gdrive/My Drive/gpt2/python/Python-master/Easy-deep-learning/7. Text Analytics/2-word-embedding/2-word-embedding.py\n",
            "/content/gdrive/My Drive/gpt2/python/Python-master/Easy-deep-learning/7. Text Analytics/1-text-processing/1-text-preprocessing-1.py\n",
            "/content/gdrive/My Drive/gpt2/python/Python-master/Easy-deep-learning/7. Text Analytics/3-CNNs-for-text-data/1-2-diversifying-size-of-kernels.py\n",
            "/content/gdrive/My Drive/gpt2/python/Python-master/Easy-deep-learning/7. Text Analytics/3-CNNs-for-text-data/1-1-using-conv1d-in-network.py\n",
            "/content/gdrive/My Drive/gpt2/python/Python-master/Easy-deep-learning/1. MLP/2-Advanced-MLP/2-1-weight-initialization.py\n",
            "/content/gdrive/My Drive/gpt2/python/Python-master/Easy-deep-learning/1. MLP/2-Advanced-MLP/2-4-optimizers.py\n",
            "/content/gdrive/My Drive/gpt2/python/Python-master/Easy-deep-learning/1. MLP/2-Advanced-MLP/2-2-nonlinearity.py\n",
            "/content/gdrive/My Drive/gpt2/python/Python-master/Easy-deep-learning/1. MLP/2-Advanced-MLP/2-3-batchnorm.py\n"
          ],
          "name": "stdout"
        },
        {
          "output_type": "stream",
          "text": [
            "Token indices sequence length is longer than the specified maximum sequence length for this model (6300 > 1024). Running this sequence through the model will result in indexing errors\n"
          ],
          "name": "stderr"
        },
        {
          "output_type": "stream",
          "text": [
            "/content/gdrive/My Drive/gpt2/python/Python-master/Easy-deep-learning/1. MLP/2-Advanced-MLP/2-0-basic-model.py\n",
            "/content/gdrive/My Drive/gpt2/python/Python-master/Easy-deep-learning/1. MLP/2-Advanced-MLP/2-5-dropout.py\n",
            "/content/gdrive/My Drive/gpt2/python/Python-master/Easy-deep-learning/1. MLP/2-Advanced-MLP/2-6-model-ensemble.py\n",
            "/content/gdrive/My Drive/gpt2/python/Python-master/Easy-deep-learning/1. MLP/1-Basics-of-MLP/1-1-regression.py\n",
            "/content/gdrive/My Drive/gpt2/python/Python-master/Easy-deep-learning/1. MLP/1-Basics-of-MLP/1-2-classification.py\n",
            "/content/gdrive/My Drive/gpt2/python/Python-master/Easy-deep-learning/1. MLP/3-Advanced-MLP-2/3-advanced-mlp.py\n",
            "/content/gdrive/My Drive/gpt2/python/Python-master/Easy-deep-learning/6. Examples/CNN for sentence classification/cnn-static.py\n",
            "/content/gdrive/My Drive/gpt2/python/Python-master/Easy-deep-learning/6. Examples/Fashion item classification with MLP (+Autoencoder)/2-autoencoder-mlp.py\n",
            "/content/gdrive/My Drive/gpt2/python/Python-master/Easy-deep-learning/6. Examples/Fashion item classification with MLP (+Autoencoder)/1-simple-mlp.py\n",
            "/content/gdrive/My Drive/gpt2/python/Python-master/Easy-deep-learning/6. Examples/Question generation with seq2seq/question-generation-with-seq2seq.py\n"
          ],
          "name": "stdout"
        },
        {
          "output_type": "stream",
          "text": [
            "Token indices sequence length is longer than the specified maximum sequence length for this model (10516 > 1024). Running this sequence through the model will result in indexing errors\n"
          ],
          "name": "stderr"
        },
        {
          "output_type": "stream",
          "text": [
            "/content/gdrive/My Drive/gpt2/python/Python-master/Easy-deep-learning/2. CNN/2-Advanced-CNN/2-4-deep-cnn-3.py\n",
            "/content/gdrive/My Drive/gpt2/python/Python-master/Easy-deep-learning/2. CNN/2-Advanced-CNN/2-3-deep-cnn-2.py\n",
            "/content/gdrive/My Drive/gpt2/python/Python-master/Easy-deep-learning/2. CNN/2-Advanced-CNN/2-2-deep-cnn-1.py\n",
            "/content/gdrive/My Drive/gpt2/python/Python-master/Easy-deep-learning/2. CNN/2-Advanced-CNN/2-1-basic-cnn.py\n",
            "/content/gdrive/My Drive/gpt2/python/Python-master/Easy-deep-learning/2. CNN/1-Basic-CNN/1-basic-cnn.py\n",
            "/content/gdrive/My Drive/gpt2/python/Python-master/Easy-deep-learning/2. CNN/3-Advanced-CNN-2/3-3-advanced-cnn-2.py\n",
            "/content/gdrive/My Drive/gpt2/python/Python-master/Easy-deep-learning/2. CNN/3-Advanced-CNN-2/3-1-basic-cnn.py\n",
            "/content/gdrive/My Drive/gpt2/python/Python-master/Easy-deep-learning/2. CNN/3-Advanced-CNN-2/3-2-advanced-cnn-1.py\n",
            "/content/gdrive/My Drive/gpt2/python/Python-master/Easy-deep-learning/2. CNN/3-Advanced-CNN-2/3-4-advnaced-cnn-3.py\n",
            "/content/gdrive/My Drive/gpt2/python/Python-master/Easy-deep-learning/4. Unsupervised Learning/1-autoencoders/1-3-dimensionality-reduction-using-autoencoder.py\n"
          ],
          "name": "stdout"
        },
        {
          "output_type": "stream",
          "text": [
            "Token indices sequence length is longer than the specified maximum sequence length for this model (8853 > 1024). Running this sequence through the model will result in indexing errors\n"
          ],
          "name": "stderr"
        },
        {
          "output_type": "stream",
          "text": [
            "/content/gdrive/My Drive/gpt2/python/Python-master/Easy-deep-learning/4. Unsupervised Learning/1-autoencoders/1-1-simple-autoencoder.py\n",
            "/content/gdrive/My Drive/gpt2/python/Python-master/Easy-deep-learning/4. Unsupervised Learning/1-autoencoders/1-2-deep-autoencoder.py\n",
            "/content/gdrive/My Drive/gpt2/python/examples-master/imagenet/main.py\n",
            "/content/gdrive/My Drive/gpt2/python/examples-master/mnist/main.py\n",
            "/content/gdrive/My Drive/gpt2/python/examples-master/reinforcement_learning/actor_critic.py\n",
            "/content/gdrive/My Drive/gpt2/python/examples-master/reinforcement_learning/reinforce.py\n",
            "/content/gdrive/My Drive/gpt2/python/examples-master/fast_neural_style/download_saved_models.py\n",
            "/content/gdrive/My Drive/gpt2/python/examples-master/fast_neural_style/neural_style/neural_style.py\n",
            "/content/gdrive/My Drive/gpt2/python/examples-master/fast_neural_style/neural_style/vgg.py\n"
          ],
          "name": "stdout"
        },
        {
          "output_type": "stream",
          "text": [
            "Token indices sequence length is longer than the specified maximum sequence length for this model (20800 > 1024). Running this sequence through the model will result in indexing errors\n"
          ],
          "name": "stderr"
        },
        {
          "output_type": "stream",
          "text": [
            "/content/gdrive/My Drive/gpt2/python/examples-master/fast_neural_style/neural_style/__init__.py\n",
            "/content/gdrive/My Drive/gpt2/python/examples-master/fast_neural_style/neural_style/utils.py\n",
            "/content/gdrive/My Drive/gpt2/python/examples-master/fast_neural_style/neural_style/transformer_net.py\n",
            "/content/gdrive/My Drive/gpt2/python/examples-master/dcgan/main.py\n",
            "/content/gdrive/My Drive/gpt2/python/examples-master/distributed/rpc/batch/parameter_server.py\n",
            "/content/gdrive/My Drive/gpt2/python/examples-master/distributed/rpc/batch/reinforce.py\n",
            "/content/gdrive/My Drive/gpt2/python/examples-master/distributed/rpc/parameter_server/rpc_parameter_server.py\n",
            "/content/gdrive/My Drive/gpt2/python/examples-master/distributed/rpc/pipeline/main.py\n",
            "/content/gdrive/My Drive/gpt2/python/examples-master/distributed/rpc/rl/main.py\n",
            "/content/gdrive/My Drive/gpt2/python/examples-master/distributed/rpc/ddp_rpc/main.py\n",
            "/content/gdrive/My Drive/gpt2/python/examples-master/distributed/rpc/rnn/main.py\n"
          ],
          "name": "stdout"
        },
        {
          "output_type": "stream",
          "text": [
            "Token indices sequence length is longer than the specified maximum sequence length for this model (30090 > 1024). Running this sequence through the model will result in indexing errors\n"
          ],
          "name": "stderr"
        },
        {
          "output_type": "stream",
          "text": [
            "/content/gdrive/My Drive/gpt2/python/examples-master/distributed/rpc/rnn/rnn.py\n",
            "/content/gdrive/My Drive/gpt2/python/examples-master/distributed/ddp/example.py\n",
            "/content/gdrive/My Drive/gpt2/python/examples-master/distributed/ddp/main.py\n",
            "/content/gdrive/My Drive/gpt2/python/examples-master/cpp/dcgan/display_samples.py\n",
            "/content/gdrive/My Drive/gpt2/python/examples-master/cpp/tools/download_mnist.py\n",
            "/content/gdrive/My Drive/gpt2/python/examples-master/cpp/transfer-learning/convert.py\n",
            "/content/gdrive/My Drive/gpt2/python/examples-master/regression/main.py\n",
            "/content/gdrive/My Drive/gpt2/python/examples-master/mnist_hogwild/train.py\n",
            "/content/gdrive/My Drive/gpt2/python/examples-master/mnist_hogwild/main.py\n",
            "/content/gdrive/My Drive/gpt2/python/examples-master/snli/train.py\n"
          ],
          "name": "stdout"
        },
        {
          "output_type": "stream",
          "text": [
            "Token indices sequence length is longer than the specified maximum sequence length for this model (11395 > 1024). Running this sequence through the model will result in indexing errors\n"
          ],
          "name": "stderr"
        },
        {
          "output_type": "stream",
          "text": [
            "/content/gdrive/My Drive/gpt2/python/examples-master/snli/model.py\n",
            "/content/gdrive/My Drive/gpt2/python/examples-master/snli/util.py\n",
            "/content/gdrive/My Drive/gpt2/python/examples-master/time_sequence_prediction/train.py\n",
            "/content/gdrive/My Drive/gpt2/python/examples-master/time_sequence_prediction/generate_sine_wave.py\n",
            "/content/gdrive/My Drive/gpt2/python/examples-master/vae/main.py\n",
            "/content/gdrive/My Drive/gpt2/python/examples-master/super_resolution/dataset.py\n",
            "/content/gdrive/My Drive/gpt2/python/examples-master/super_resolution/super_resolve.py\n",
            "/content/gdrive/My Drive/gpt2/python/examples-master/super_resolution/data.py\n",
            "/content/gdrive/My Drive/gpt2/python/examples-master/super_resolution/main.py\n",
            "/content/gdrive/My Drive/gpt2/python/examples-master/super_resolution/model.py\n"
          ],
          "name": "stdout"
        },
        {
          "output_type": "stream",
          "text": [
            "Token indices sequence length is longer than the specified maximum sequence length for this model (10541 > 1024). Running this sequence through the model will result in indexing errors\n"
          ],
          "name": "stderr"
        },
        {
          "output_type": "stream",
          "text": [
            "/content/gdrive/My Drive/gpt2/python/examples-master/word_language_model/generate.py\n",
            "/content/gdrive/My Drive/gpt2/python/examples-master/word_language_model/main.py\n",
            "/content/gdrive/My Drive/gpt2/python/examples-master/word_language_model/model.py\n",
            "/content/gdrive/My Drive/gpt2/python/examples-master/word_language_model/data.py\n",
            "/content/gdrive/My Drive/gpt2/python/tutorials-master/conf.py\n",
            "/content/gdrive/My Drive/gpt2/python/tutorials-master/custom_directives.py\n",
            "/content/gdrive/My Drive/gpt2/python/tutorials-master/advanced_source/super_resolution_with_onnxruntime.py\n",
            "/content/gdrive/My Drive/gpt2/python/tutorials-master/advanced_source/numpy_extensions_tutorial.py\n",
            "/content/gdrive/My Drive/gpt2/python/tutorials-master/advanced_source/dynamic_quantization_tutorial.py\n",
            "/content/gdrive/My Drive/gpt2/python/tutorials-master/advanced_source/neural_style_tutorial.py\n"
          ],
          "name": "stdout"
        },
        {
          "output_type": "stream",
          "text": [
            "Token indices sequence length is longer than the specified maximum sequence length for this model (32712 > 1024). Running this sequence through the model will result in indexing errors\n"
          ],
          "name": "stderr"
        },
        {
          "output_type": "stream",
          "text": [
            "/content/gdrive/My Drive/gpt2/python/tutorials-master/advanced_source/static_quantization_tutorial.py\n",
            "/content/gdrive/My Drive/gpt2/python/tutorials-master/advanced_source/dispatcher/test.py\n",
            "/content/gdrive/My Drive/gpt2/python/tutorials-master/advanced_source/rpc_ddp_tutorial/main.py\n",
            "/content/gdrive/My Drive/gpt2/python/tutorials-master/advanced_source/torch_script_custom_classes/custom_class_project/export_attr.py\n",
            "/content/gdrive/My Drive/gpt2/python/tutorials-master/advanced_source/torch_script_custom_classes/custom_class_project/custom_test.py\n",
            "/content/gdrive/My Drive/gpt2/python/tutorials-master/advanced_source/torch_script_custom_classes/custom_class_project/save.py\n",
            "/content/gdrive/My Drive/gpt2/python/tutorials-master/advanced_source/torch_script_custom_ops/test.py\n",
            "/content/gdrive/My Drive/gpt2/python/tutorials-master/advanced_source/torch_script_custom_ops/smoke_test.py\n",
            "/content/gdrive/My Drive/gpt2/python/tutorials-master/beginner_source/Intro_to_TorchScript_tutorial.py\n",
            "/content/gdrive/My Drive/gpt2/python/tutorials-master/beginner_source/torchtext_translation_tutorial.py\n"
          ],
          "name": "stdout"
        },
        {
          "output_type": "stream",
          "text": [
            "Token indices sequence length is longer than the specified maximum sequence length for this model (24575 > 1024). Running this sequence through the model will result in indexing errors\n"
          ],
          "name": "stderr"
        },
        {
          "output_type": "stream",
          "text": [
            "/content/gdrive/My Drive/gpt2/python/tutorials-master/beginner_source/chatbot_tutorial.py\n",
            "/content/gdrive/My Drive/gpt2/python/tutorials-master/beginner_source/text_sentiment_ngrams_tutorial.py\n",
            "/content/gdrive/My Drive/gpt2/python/tutorials-master/beginner_source/deploy_seq2seq_hybrid_frontend_tutorial.py\n",
            "/content/gdrive/My Drive/gpt2/python/tutorials-master/beginner_source/hyperparameter_tuning_tutorial.py\n",
            "/content/gdrive/My Drive/gpt2/python/tutorials-master/beginner_source/dcgan_faces_tutorial.py\n",
            "/content/gdrive/My Drive/gpt2/python/tutorials-master/beginner_source/data_loading_tutorial.py\n",
            "/content/gdrive/My Drive/gpt2/python/tutorials-master/beginner_source/aws_distributed_training_tutorial.py\n",
            "/content/gdrive/My Drive/gpt2/python/tutorials-master/beginner_source/fgsm_tutorial.py\n",
            "/content/gdrive/My Drive/gpt2/python/tutorials-master/beginner_source/transfer_learning_tutorial.py\n",
            "/content/gdrive/My Drive/gpt2/python/tutorials-master/beginner_source/transformer_tutorial.py\n"
          ],
          "name": "stdout"
        },
        {
          "output_type": "stream",
          "text": [
            "Token indices sequence length is longer than the specified maximum sequence length for this model (81324 > 1024). Running this sequence through the model will result in indexing errors\n"
          ],
          "name": "stderr"
        },
        {
          "output_type": "stream",
          "text": [
            "/content/gdrive/My Drive/gpt2/python/tutorials-master/beginner_source/saving_loading_models.py\n",
            "/content/gdrive/My Drive/gpt2/python/tutorials-master/beginner_source/audio_preprocessing_tutorial.py\n",
            "/content/gdrive/My Drive/gpt2/python/tutorials-master/beginner_source/nn_tutorial.py\n",
            "/content/gdrive/My Drive/gpt2/python/tutorials-master/beginner_source/blitz/neural_networks_tutorial.py\n",
            "/content/gdrive/My Drive/gpt2/python/tutorials-master/beginner_source/blitz/data_parallel_tutorial.py\n",
            "/content/gdrive/My Drive/gpt2/python/tutorials-master/beginner_source/blitz/tensor_tutorial.py\n",
            "/content/gdrive/My Drive/gpt2/python/tutorials-master/beginner_source/blitz/autograd_tutorial.py\n",
            "/content/gdrive/My Drive/gpt2/python/tutorials-master/beginner_source/blitz/cifar10_tutorial.py\n",
            "/content/gdrive/My Drive/gpt2/python/tutorials-master/beginner_source/examples_autograd/two_layer_net_custom_function.py\n",
            "/content/gdrive/My Drive/gpt2/python/tutorials-master/beginner_source/examples_autograd/tf_two_layer_net.py\n"
          ],
          "name": "stdout"
        },
        {
          "output_type": "stream",
          "text": [
            "Token indices sequence length is longer than the specified maximum sequence length for this model (37236 > 1024). Running this sequence through the model will result in indexing errors\n"
          ],
          "name": "stderr"
        },
        {
          "output_type": "stream",
          "text": [
            "/content/gdrive/My Drive/gpt2/python/tutorials-master/beginner_source/examples_autograd/two_layer_net_autograd.py\n",
            "/content/gdrive/My Drive/gpt2/python/tutorials-master/beginner_source/examples_nn/dynamic_net.py\n",
            "/content/gdrive/My Drive/gpt2/python/tutorials-master/beginner_source/examples_nn/two_layer_net_nn.py\n",
            "/content/gdrive/My Drive/gpt2/python/tutorials-master/beginner_source/examples_nn/two_layer_net_module.py\n",
            "/content/gdrive/My Drive/gpt2/python/tutorials-master/beginner_source/examples_nn/two_layer_net_optim.py\n",
            "/content/gdrive/My Drive/gpt2/python/tutorials-master/beginner_source/examples_tensor/two_layer_net_numpy.py\n",
            "/content/gdrive/My Drive/gpt2/python/tutorials-master/beginner_source/examples_tensor/two_layer_net_tensor.py\n",
            "/content/gdrive/My Drive/gpt2/python/tutorials-master/beginner_source/nlp/sequence_models_tutorial.py\n",
            "/content/gdrive/My Drive/gpt2/python/tutorials-master/beginner_source/nlp/deep_learning_tutorial.py\n",
            "/content/gdrive/My Drive/gpt2/python/tutorials-master/beginner_source/nlp/word_embeddings_tutorial.py\n"
          ],
          "name": "stdout"
        },
        {
          "output_type": "stream",
          "text": [
            "Token indices sequence length is longer than the specified maximum sequence length for this model (17609 > 1024). Running this sequence through the model will result in indexing errors\n"
          ],
          "name": "stderr"
        },
        {
          "output_type": "stream",
          "text": [
            "/content/gdrive/My Drive/gpt2/python/tutorials-master/beginner_source/nlp/advanced_tutorial.py\n",
            "/content/gdrive/My Drive/gpt2/python/tutorials-master/beginner_source/nlp/pytorch_tutorial.py\n",
            "/content/gdrive/My Drive/gpt2/python/tutorials-master/beginner_source/hybrid_frontend/learning_hybrid_frontend_through_example_tutorial.py\n",
            "/content/gdrive/My Drive/gpt2/python/tutorials-master/beginner_source/former_torchies/tensor_tutorial_old.py\n",
            "/content/gdrive/My Drive/gpt2/python/tutorials-master/beginner_source/former_torchies/autograd_tutorial_old.py\n",
            "/content/gdrive/My Drive/gpt2/python/tutorials-master/beginner_source/former_torchies/parallelism_tutorial.py\n",
            "/content/gdrive/My Drive/gpt2/python/tutorials-master/beginner_source/former_torchies/nnft_tutorial.py\n",
            "/content/gdrive/My Drive/gpt2/python/tutorials-master/intermediate_source/spatial_transformer_tutorial.py\n",
            "/content/gdrive/My Drive/gpt2/python/tutorials-master/intermediate_source/memory_format_tutorial.py\n",
            "/content/gdrive/My Drive/gpt2/python/tutorials-master/intermediate_source/reinforcement_q_learning.py\n"
          ],
          "name": "stdout"
        },
        {
          "output_type": "stream",
          "text": [
            "Token indices sequence length is longer than the specified maximum sequence length for this model (33267 > 1024). Running this sequence through the model will result in indexing errors\n"
          ],
          "name": "stderr"
        },
        {
          "output_type": "stream",
          "text": [
            "/content/gdrive/My Drive/gpt2/python/tutorials-master/intermediate_source/char_rnn_classification_tutorial.py\n",
            "/content/gdrive/My Drive/gpt2/python/tutorials-master/intermediate_source/pruning_tutorial.py\n",
            "/content/gdrive/My Drive/gpt2/python/tutorials-master/intermediate_source/named_tensor_tutorial.py\n",
            "/content/gdrive/My Drive/gpt2/python/tutorials-master/intermediate_source/char_rnn_generation_tutorial.py\n",
            "/content/gdrive/My Drive/gpt2/python/tutorials-master/intermediate_source/flask_rest_api_tutorial.py\n",
            "/content/gdrive/My Drive/gpt2/python/tutorials-master/intermediate_source/seq2seq_translation_tutorial.py\n",
            "/content/gdrive/My Drive/gpt2/python/tutorials-master/intermediate_source/model_parallel_tutorial.py\n",
            "/content/gdrive/My Drive/gpt2/python/tutorials-master/_static/tv-training-code.py\n",
            "/content/gdrive/My Drive/gpt2/python/tutorials-master/recipes_source/recipes/save_load_across_devices.py\n",
            "/content/gdrive/My Drive/gpt2/python/tutorials-master/recipes_source/recipes/tensorboard_with_pytorch.py\n"
          ],
          "name": "stdout"
        },
        {
          "output_type": "stream",
          "text": [
            "Token indices sequence length is longer than the specified maximum sequence length for this model (47039 > 1024). Running this sequence through the model will result in indexing errors\n"
          ],
          "name": "stderr"
        },
        {
          "output_type": "stream",
          "text": [
            "/content/gdrive/My Drive/gpt2/python/tutorials-master/recipes_source/recipes/warmstarting_model_using_parameters_from_a_different_model.py\n",
            "/content/gdrive/My Drive/gpt2/python/tutorials-master/recipes_source/recipes/zeroing_out_gradients.py\n",
            "/content/gdrive/My Drive/gpt2/python/tutorials-master/recipes_source/recipes/dynamic_quantization.py\n",
            "/content/gdrive/My Drive/gpt2/python/tutorials-master/recipes_source/recipes/defining_a_neural_network.py\n",
            "/content/gdrive/My Drive/gpt2/python/tutorials-master/recipes_source/recipes/saving_multiple_models_in_one_file.py\n",
            "/content/gdrive/My Drive/gpt2/python/tutorials-master/recipes_source/recipes/loading_data_recipe.py\n",
            "/content/gdrive/My Drive/gpt2/python/tutorials-master/recipes_source/recipes/saving_and_loading_a_general_checkpoint.py\n",
            "/content/gdrive/My Drive/gpt2/python/tutorials-master/recipes_source/recipes/saving_and_loading_models_for_inference.py\n",
            "/content/gdrive/My Drive/gpt2/python/tutorials-master/recipes_source/recipes/profiler.py\n",
            "/content/gdrive/My Drive/gpt2/python/tutorials-master/recipes_source/recipes/what_is_state_dict.py\n"
          ],
          "name": "stdout"
        },
        {
          "output_type": "stream",
          "text": [
            "Token indices sequence length is longer than the specified maximum sequence length for this model (20172 > 1024). Running this sequence through the model will result in indexing errors\n"
          ],
          "name": "stderr"
        },
        {
          "output_type": "stream",
          "text": [
            "/content/gdrive/My Drive/gpt2/python/tutorials-master/recipes_source/recipes/custom_dataset_transforms_loader.py\n",
            "/content/gdrive/My Drive/gpt2/python/tutorials-master/recipes_source/recipes/Captum_Recipe.py\n",
            "/content/gdrive/My Drive/gpt2/python/tutorials-master/prototype_source/numeric_suite_tutorial.py\n",
            "/content/gdrive/My Drive/gpt2/python/tutorials-master/prototype_source/graph_mode_static_quantization_tutorial.py\n",
            "/content/gdrive/My Drive/gpt2/python/tutorials-master/prototype_source/torchscript_freezing.py\n",
            "/content/gdrive/My Drive/gpt2/python/examples (1)/plot_scalable_poly_kernels.py\n",
            "/content/gdrive/My Drive/gpt2/python/examples (1)/cluster/plot_ward_structured_vs_unstructured.py\n",
            "/content/gdrive/My Drive/gpt2/python/examples (1)/cluster/plot_face_compress.py\n",
            "/content/gdrive/My Drive/gpt2/python/examples (1)/cluster/plot_agglomerative_clustering.py\n",
            "/content/gdrive/My Drive/gpt2/python/examples (1)/cluster/plot_inductive_clustering.py\n"
          ],
          "name": "stdout"
        },
        {
          "output_type": "stream",
          "text": [
            "Token indices sequence length is longer than the specified maximum sequence length for this model (29201 > 1024). Running this sequence through the model will result in indexing errors\n"
          ],
          "name": "stderr"
        },
        {
          "output_type": "stream",
          "text": [
            "/content/gdrive/My Drive/gpt2/python/examples (1)/cluster/plot_coin_segmentation.py\n",
            "/content/gdrive/My Drive/gpt2/python/examples (1)/cluster/plot_feature_agglomeration_vs_univariate_selection.py\n",
            "/content/gdrive/My Drive/gpt2/python/examples (1)/cluster/plot_agglomerative_dendrogram.py\n",
            "/content/gdrive/My Drive/gpt2/python/examples (1)/cluster/plot_agglomerative_clustering_metrics.py\n",
            "/content/gdrive/My Drive/gpt2/python/examples (1)/cluster/plot_affinity_propagation.py\n",
            "/content/gdrive/My Drive/gpt2/python/examples (1)/cluster/plot_dict_face_patches.py\n",
            "/content/gdrive/My Drive/gpt2/python/examples (1)/cluster/plot_linkage_comparison.py\n",
            "/content/gdrive/My Drive/gpt2/python/examples (1)/cluster/plot_digits_linkage.py\n",
            "/content/gdrive/My Drive/gpt2/python/examples (1)/cluster/plot_birch_vs_minibatchkmeans.py\n",
            "/content/gdrive/My Drive/gpt2/python/examples (1)/cluster/plot_mini_batch_kmeans.py\n"
          ],
          "name": "stdout"
        },
        {
          "output_type": "stream",
          "text": [
            "Token indices sequence length is longer than the specified maximum sequence length for this model (12912 > 1024). Running this sequence through the model will result in indexing errors\n"
          ],
          "name": "stderr"
        },
        {
          "output_type": "stream",
          "text": [
            "/content/gdrive/My Drive/gpt2/python/examples (1)/cluster/plot_dbscan.py\n",
            "/content/gdrive/My Drive/gpt2/python/examples (1)/cluster/plot_kmeans_digits.py\n",
            "/content/gdrive/My Drive/gpt2/python/examples (1)/cluster/plot_digits_agglomeration.py\n",
            "/content/gdrive/My Drive/gpt2/python/examples (1)/cluster/plot_cluster_iris.py\n",
            "/content/gdrive/My Drive/gpt2/python/examples (1)/cluster/plot_mean_shift.py\n",
            "/content/gdrive/My Drive/gpt2/python/examples (1)/cluster/plot_kmeans_assumptions.py\n",
            "/content/gdrive/My Drive/gpt2/python/examples (1)/cluster/plot_segmentation_toy.py\n",
            "/content/gdrive/My Drive/gpt2/python/examples (1)/cluster/plot_optics.py\n",
            "/content/gdrive/My Drive/gpt2/python/examples (1)/cluster/plot_color_quantization.py\n",
            "/content/gdrive/My Drive/gpt2/python/examples (1)/cluster/plot_adjusted_for_chance_measures.py\n"
          ],
          "name": "stdout"
        },
        {
          "output_type": "stream",
          "text": [
            "Token indices sequence length is longer than the specified maximum sequence length for this model (11574 > 1024). Running this sequence through the model will result in indexing errors\n"
          ],
          "name": "stderr"
        },
        {
          "output_type": "stream",
          "text": [
            "/content/gdrive/My Drive/gpt2/python/examples (1)/cluster/plot_kmeans_stability_low_dim_dense.py\n",
            "/content/gdrive/My Drive/gpt2/python/examples (1)/cluster/plot_coin_ward_segmentation.py\n",
            "/content/gdrive/My Drive/gpt2/python/examples (1)/cluster/plot_cluster_comparison.py\n",
            "/content/gdrive/My Drive/gpt2/python/examples (1)/cluster/plot_kmeans_silhouette_analysis.py\n",
            "/content/gdrive/My Drive/gpt2/python/examples (1)/datasets/plot_iris_dataset.py\n",
            "/content/gdrive/My Drive/gpt2/python/examples (1)/datasets/plot_random_dataset.py\n",
            "/content/gdrive/My Drive/gpt2/python/examples (1)/datasets/plot_random_multilabel_dataset.py\n",
            "/content/gdrive/My Drive/gpt2/python/examples (1)/datasets/plot_digits_last_image.py\n",
            "/content/gdrive/My Drive/gpt2/python/examples (1)/applications/plot_model_complexity_influence.py\n",
            "/content/gdrive/My Drive/gpt2/python/examples (1)/applications/plot_outlier_detection_wine.py\n"
          ],
          "name": "stdout"
        },
        {
          "output_type": "stream",
          "text": [
            "Token indices sequence length is longer than the specified maximum sequence length for this model (17006 > 1024). Running this sequence through the model will result in indexing errors\n"
          ],
          "name": "stderr"
        },
        {
          "output_type": "stream",
          "text": [
            "/content/gdrive/My Drive/gpt2/python/examples (1)/applications/wikipedia_principal_eigenvector.py\n",
            "/content/gdrive/My Drive/gpt2/python/examples (1)/applications/plot_prediction_latency.py\n",
            "/content/gdrive/My Drive/gpt2/python/examples (1)/applications/plot_topics_extraction_with_nmf_lda.py\n",
            "/content/gdrive/My Drive/gpt2/python/examples (1)/applications/svm_gui.py\n",
            "/content/gdrive/My Drive/gpt2/python/examples (1)/applications/plot_out_of_core_classification.py\n",
            "/content/gdrive/My Drive/gpt2/python/examples (1)/applications/plot_tomography_l1_reconstruction.py\n",
            "/content/gdrive/My Drive/gpt2/python/examples (1)/applications/plot_stock_market.py\n",
            "/content/gdrive/My Drive/gpt2/python/examples (1)/applications/plot_species_distribution_modeling.py\n",
            "/content/gdrive/My Drive/gpt2/python/examples (1)/applications/plot_face_recognition.py\n",
            "/content/gdrive/My Drive/gpt2/python/examples (1)/bicluster/plot_spectral_coclustering.py\n"
          ],
          "name": "stdout"
        },
        {
          "output_type": "stream",
          "text": [
            "Token indices sequence length is longer than the specified maximum sequence length for this model (32120 > 1024). Running this sequence through the model will result in indexing errors\n"
          ],
          "name": "stderr"
        },
        {
          "output_type": "stream",
          "text": [
            "/content/gdrive/My Drive/gpt2/python/examples (1)/bicluster/plot_spectral_biclustering.py\n",
            "/content/gdrive/My Drive/gpt2/python/examples (1)/bicluster/plot_bicluster_newsgroups.py\n",
            "/content/gdrive/My Drive/gpt2/python/examples (1)/decomposition/plot_incremental_pca.py\n",
            "/content/gdrive/My Drive/gpt2/python/examples (1)/decomposition/plot_faces_decomposition.py\n",
            "/content/gdrive/My Drive/gpt2/python/examples (1)/decomposition/plot_beta_divergence.py\n",
            "/content/gdrive/My Drive/gpt2/python/examples (1)/decomposition/plot_ica_blind_source_separation.py\n",
            "/content/gdrive/My Drive/gpt2/python/examples (1)/decomposition/plot_pca_3d.py\n",
            "/content/gdrive/My Drive/gpt2/python/examples (1)/decomposition/plot_pca_iris.py\n",
            "/content/gdrive/My Drive/gpt2/python/examples (1)/decomposition/plot_pca_vs_fa_model_selection.py\n",
            "/content/gdrive/My Drive/gpt2/python/examples (1)/decomposition/plot_ica_vs_pca.py\n"
          ],
          "name": "stdout"
        },
        {
          "output_type": "stream",
          "text": [
            "Token indices sequence length is longer than the specified maximum sequence length for this model (12608 > 1024). Running this sequence through the model will result in indexing errors\n"
          ],
          "name": "stderr"
        },
        {
          "output_type": "stream",
          "text": [
            "/content/gdrive/My Drive/gpt2/python/examples (1)/decomposition/plot_image_denoising.py\n",
            "/content/gdrive/My Drive/gpt2/python/examples (1)/decomposition/plot_sparse_coding.py\n",
            "/content/gdrive/My Drive/gpt2/python/examples (1)/decomposition/plot_pca_vs_lda.py\n",
            "/content/gdrive/My Drive/gpt2/python/examples (1)/decomposition/plot_kernel_pca.py\n",
            "/content/gdrive/My Drive/gpt2/python/examples (1)/decomposition/plot_varimax_fa.py\n",
            "/content/gdrive/My Drive/gpt2/python/examples (1)/compose/plot_transformed_target.py\n",
            "/content/gdrive/My Drive/gpt2/python/examples (1)/compose/plot_compare_reduction.py\n",
            "/content/gdrive/My Drive/gpt2/python/examples (1)/compose/plot_column_transformer.py\n",
            "/content/gdrive/My Drive/gpt2/python/examples (1)/compose/plot_digits_pipe.py\n",
            "/content/gdrive/My Drive/gpt2/python/examples (1)/compose/plot_column_transformer_mixed_types.py\n"
          ],
          "name": "stdout"
        },
        {
          "output_type": "stream",
          "text": [
            "Token indices sequence length is longer than the specified maximum sequence length for this model (16335 > 1024). Running this sequence through the model will result in indexing errors\n"
          ],
          "name": "stderr"
        },
        {
          "output_type": "stream",
          "text": [
            "/content/gdrive/My Drive/gpt2/python/examples (1)/compose/plot_feature_union.py\n",
            "/content/gdrive/My Drive/gpt2/python/examples (1)/classification/plot_classification_probability.py\n",
            "/content/gdrive/My Drive/gpt2/python/examples (1)/classification/plot_digits_classification.py\n",
            "/content/gdrive/My Drive/gpt2/python/examples (1)/classification/plot_lda.py\n",
            "/content/gdrive/My Drive/gpt2/python/examples (1)/classification/plot_lda_qda.py\n",
            "/content/gdrive/My Drive/gpt2/python/examples (1)/classification/plot_classifier_comparison.py\n",
            "/content/gdrive/My Drive/gpt2/python/examples (1)/cross_decomposition/plot_pcr_vs_pls.py\n",
            "/content/gdrive/My Drive/gpt2/python/examples (1)/cross_decomposition/plot_compare_cross_decomposition.py\n",
            "/content/gdrive/My Drive/gpt2/python/examples (1)/calibration/plot_calibration.py\n",
            "/content/gdrive/My Drive/gpt2/python/examples (1)/calibration/plot_calibration_multiclass.py\n"
          ],
          "name": "stdout"
        },
        {
          "output_type": "stream",
          "text": [
            "Token indices sequence length is longer than the specified maximum sequence length for this model (17942 > 1024). Running this sequence through the model will result in indexing errors\n"
          ],
          "name": "stderr"
        },
        {
          "output_type": "stream",
          "text": [
            "/content/gdrive/My Drive/gpt2/python/examples (1)/calibration/plot_calibration_curve.py\n",
            "/content/gdrive/My Drive/gpt2/python/examples (1)/calibration/plot_compare_calibration.py\n",
            "/content/gdrive/My Drive/gpt2/python/examples (1)/covariance/plot_sparse_cov.py\n",
            "/content/gdrive/My Drive/gpt2/python/examples (1)/covariance/plot_covariance_estimation.py\n",
            "/content/gdrive/My Drive/gpt2/python/examples (1)/covariance/plot_mahalanobis_distances.py\n",
            "/content/gdrive/My Drive/gpt2/python/examples (1)/covariance/plot_lw_vs_oas.py\n",
            "/content/gdrive/My Drive/gpt2/python/examples (1)/covariance/plot_robust_vs_empirical_covariance.py\n",
            "/content/gdrive/My Drive/gpt2/python/examples (1)/feature_selection/plot_select_from_model_diabetes.py\n",
            "/content/gdrive/My Drive/gpt2/python/examples (1)/feature_selection/plot_rfe_digits.py\n",
            "/content/gdrive/My Drive/gpt2/python/examples (1)/feature_selection/plot_feature_selection_pipeline.py\n"
          ],
          "name": "stdout"
        },
        {
          "output_type": "stream",
          "text": [
            "Token indices sequence length is longer than the specified maximum sequence length for this model (16253 > 1024). Running this sequence through the model will result in indexing errors\n"
          ],
          "name": "stderr"
        },
        {
          "output_type": "stream",
          "text": [
            "/content/gdrive/My Drive/gpt2/python/examples (1)/feature_selection/plot_rfe_with_cross_validation.py\n",
            "/content/gdrive/My Drive/gpt2/python/examples (1)/feature_selection/plot_feature_selection.py\n",
            "/content/gdrive/My Drive/gpt2/python/examples (1)/feature_selection/plot_permutation_test_for_classification.py\n",
            "/content/gdrive/My Drive/gpt2/python/examples (1)/feature_selection/plot_f_test_vs_mi.py\n",
            "/content/gdrive/My Drive/gpt2/python/examples (1)/inspection/plot_permutation_importance_multicollinear.py\n",
            "/content/gdrive/My Drive/gpt2/python/examples (1)/inspection/plot_linear_model_coefficient_interpretation.py\n",
            "/content/gdrive/My Drive/gpt2/python/examples (1)/inspection/plot_partial_dependence.py\n",
            "/content/gdrive/My Drive/gpt2/python/examples (1)/inspection/plot_permutation_importance.py\n",
            "/content/gdrive/My Drive/gpt2/python/examples (1)/impute/plot_missing_values.py\n",
            "/content/gdrive/My Drive/gpt2/python/examples (1)/impute/plot_iterative_imputer_variants_comparison.py\n"
          ],
          "name": "stdout"
        },
        {
          "output_type": "stream",
          "text": [
            "Token indices sequence length is longer than the specified maximum sequence length for this model (23538 > 1024). Running this sequence through the model will result in indexing errors\n"
          ],
          "name": "stderr"
        },
        {
          "output_type": "stream",
          "text": [
            "/content/gdrive/My Drive/gpt2/python/examples (1)/linear_model/plot_bayesian_ridge_curvefit.py\n",
            "/content/gdrive/My Drive/gpt2/python/examples (1)/linear_model/plot_ols_ridge_variance.py\n",
            "/content/gdrive/My Drive/gpt2/python/examples (1)/linear_model/plot_logistic_path.py\n",
            "/content/gdrive/My Drive/gpt2/python/examples (1)/linear_model/plot_nnls.py\n",
            "/content/gdrive/My Drive/gpt2/python/examples (1)/linear_model/plot_sparse_logistic_regression_20newsgroups.py\n",
            "/content/gdrive/My Drive/gpt2/python/examples (1)/linear_model/plot_omp.py\n",
            "/content/gdrive/My Drive/gpt2/python/examples (1)/linear_model/plot_sgd_weighted_samples.py\n",
            "/content/gdrive/My Drive/gpt2/python/examples (1)/linear_model/plot_sgd_early_stopping.py\n",
            "/content/gdrive/My Drive/gpt2/python/examples (1)/linear_model/plot_polynomial_interpolation.py\n",
            "/content/gdrive/My Drive/gpt2/python/examples (1)/linear_model/plot_lasso_coordinate_descent_path.py\n"
          ],
          "name": "stdout"
        },
        {
          "output_type": "stream",
          "text": [
            "Token indices sequence length is longer than the specified maximum sequence length for this model (10643 > 1024). Running this sequence through the model will result in indexing errors\n"
          ],
          "name": "stderr"
        },
        {
          "output_type": "stream",
          "text": [
            "/content/gdrive/My Drive/gpt2/python/examples (1)/linear_model/plot_logistic_l1_l2_sparsity.py\n",
            "/content/gdrive/My Drive/gpt2/python/examples (1)/linear_model/plot_logistic.py\n",
            "/content/gdrive/My Drive/gpt2/python/examples (1)/linear_model/plot_lasso_model_selection.py\n",
            "/content/gdrive/My Drive/gpt2/python/examples (1)/linear_model/plot_theilsen.py\n",
            "/content/gdrive/My Drive/gpt2/python/examples (1)/linear_model/plot_ols.py\n",
            "/content/gdrive/My Drive/gpt2/python/examples (1)/linear_model/plot_ransac.py\n",
            "/content/gdrive/My Drive/gpt2/python/examples (1)/linear_model/plot_sgd_comparison.py\n",
            "/content/gdrive/My Drive/gpt2/python/examples (1)/linear_model/plot_sgd_iris.py\n",
            "/content/gdrive/My Drive/gpt2/python/examples (1)/linear_model/plot_sparse_logistic_regression_mnist.py\n",
            "/content/gdrive/My Drive/gpt2/python/examples (1)/linear_model/plot_logistic_multinomial.py\n"
          ],
          "name": "stdout"
        },
        {
          "output_type": "stream",
          "text": [
            "Token indices sequence length is longer than the specified maximum sequence length for this model (10362 > 1024). Running this sequence through the model will result in indexing errors\n"
          ],
          "name": "stderr"
        },
        {
          "output_type": "stream",
          "text": [
            "/content/gdrive/My Drive/gpt2/python/examples (1)/linear_model/plot_ridge_coeffs.py\n",
            "/content/gdrive/My Drive/gpt2/python/examples (1)/linear_model/plot_bayesian_ridge.py\n",
            "/content/gdrive/My Drive/gpt2/python/examples (1)/linear_model/plot_ard.py\n",
            "/content/gdrive/My Drive/gpt2/python/examples (1)/linear_model/plot_multi_task_lasso_support.py\n",
            "/content/gdrive/My Drive/gpt2/python/examples (1)/linear_model/plot_sgd_loss_functions.py\n",
            "/content/gdrive/My Drive/gpt2/python/examples (1)/linear_model/plot_ols_3d.py\n",
            "/content/gdrive/My Drive/gpt2/python/examples (1)/linear_model/plot_lasso_lars.py\n",
            "/content/gdrive/My Drive/gpt2/python/examples (1)/linear_model/plot_lasso_dense_vs_sparse_data.py\n",
            "/content/gdrive/My Drive/gpt2/python/examples (1)/linear_model/plot_tweedie_regression_insurance_claims.py\n",
            "/content/gdrive/My Drive/gpt2/python/examples (1)/linear_model/plot_huber_vs_ridge.py\n"
          ],
          "name": "stdout"
        },
        {
          "output_type": "stream",
          "text": [
            "Token indices sequence length is longer than the specified maximum sequence length for this model (15277 > 1024). Running this sequence through the model will result in indexing errors\n"
          ],
          "name": "stderr"
        },
        {
          "output_type": "stream",
          "text": [
            "/content/gdrive/My Drive/gpt2/python/examples (1)/linear_model/plot_ridge_path.py\n",
            "/content/gdrive/My Drive/gpt2/python/examples (1)/linear_model/plot_poisson_regression_non_normal_loss.py\n",
            "/content/gdrive/My Drive/gpt2/python/examples (1)/linear_model/plot_robust_fit.py\n",
            "/content/gdrive/My Drive/gpt2/python/examples (1)/linear_model/plot_iris_logistic.py\n",
            "/content/gdrive/My Drive/gpt2/python/examples (1)/linear_model/plot_lasso_and_elasticnet.py\n",
            "/content/gdrive/My Drive/gpt2/python/examples (1)/linear_model/plot_sgd_penalties.py\n",
            "/content/gdrive/My Drive/gpt2/python/examples (1)/linear_model/plot_sgd_separating_hyperplane.py\n",
            "/content/gdrive/My Drive/gpt2/python/examples (1)/miscellaneous/plot_multioutput_face_completion.py\n",
            "/content/gdrive/My Drive/gpt2/python/examples (1)/miscellaneous/plot_partial_dependence_visualization_api.py\n",
            "/content/gdrive/My Drive/gpt2/python/examples (1)/miscellaneous/plot_isotonic_regression.py\n"
          ],
          "name": "stdout"
        },
        {
          "output_type": "stream",
          "text": [
            "Token indices sequence length is longer than the specified maximum sequence length for this model (16147 > 1024). Running this sequence through the model will result in indexing errors\n"
          ],
          "name": "stderr"
        },
        {
          "output_type": "stream",
          "text": [
            "/content/gdrive/My Drive/gpt2/python/examples (1)/miscellaneous/plot_display_object_visualization.py\n",
            "/content/gdrive/My Drive/gpt2/python/examples (1)/miscellaneous/plot_kernel_ridge_regression.py\n",
            "/content/gdrive/My Drive/gpt2/python/examples (1)/miscellaneous/plot_anomaly_comparison.py\n",
            "/content/gdrive/My Drive/gpt2/python/examples (1)/miscellaneous/plot_roc_curve_visualization_api.py\n",
            "/content/gdrive/My Drive/gpt2/python/examples (1)/miscellaneous/plot_changed_only_pprint_parameter.py\n",
            "/content/gdrive/My Drive/gpt2/python/examples (1)/miscellaneous/plot_multilabel.py\n",
            "/content/gdrive/My Drive/gpt2/python/examples (1)/miscellaneous/plot_kernel_approximation.py\n",
            "/content/gdrive/My Drive/gpt2/python/examples (1)/miscellaneous/plot_johnson_lindenstrauss_bound.py\n",
            "/content/gdrive/My Drive/gpt2/python/examples (1)/manifold/plot_t_sne_perplexity.py\n",
            "/content/gdrive/My Drive/gpt2/python/examples (1)/manifold/plot_compare_methods.py\n"
          ],
          "name": "stdout"
        },
        {
          "output_type": "stream",
          "text": [
            "Token indices sequence length is longer than the specified maximum sequence length for this model (16915 > 1024). Running this sequence through the model will result in indexing errors\n"
          ],
          "name": "stderr"
        },
        {
          "output_type": "stream",
          "text": [
            "/content/gdrive/My Drive/gpt2/python/examples (1)/manifold/plot_manifold_sphere.py\n",
            "/content/gdrive/My Drive/gpt2/python/examples (1)/manifold/plot_swissroll.py\n",
            "/content/gdrive/My Drive/gpt2/python/examples (1)/manifold/plot_mds.py\n",
            "/content/gdrive/My Drive/gpt2/python/examples (1)/manifold/plot_lle_digits.py\n",
            "/content/gdrive/My Drive/gpt2/python/examples (1)/gaussian_process/plot_gpr_on_structured_data.py\n",
            "/content/gdrive/My Drive/gpt2/python/examples (1)/gaussian_process/plot_compare_gpr_krr.py\n",
            "/content/gdrive/My Drive/gpt2/python/examples (1)/gaussian_process/plot_gpr_noisy.py\n",
            "/content/gdrive/My Drive/gpt2/python/examples (1)/gaussian_process/plot_gpc_iris.py\n",
            "/content/gdrive/My Drive/gpt2/python/examples (1)/gaussian_process/plot_gpr_noisy_targets.py\n",
            "/content/gdrive/My Drive/gpt2/python/examples (1)/gaussian_process/plot_gpr_co2.py\n"
          ],
          "name": "stdout"
        },
        {
          "output_type": "stream",
          "text": [
            "Token indices sequence length is longer than the specified maximum sequence length for this model (17440 > 1024). Running this sequence through the model will result in indexing errors\n"
          ],
          "name": "stderr"
        },
        {
          "output_type": "stream",
          "text": [
            "/content/gdrive/My Drive/gpt2/python/examples (1)/gaussian_process/plot_gpr_prior_posterior.py\n",
            "/content/gdrive/My Drive/gpt2/python/examples (1)/gaussian_process/plot_gpc_isoprobability.py\n",
            "/content/gdrive/My Drive/gpt2/python/examples (1)/gaussian_process/plot_gpc.py\n",
            "/content/gdrive/My Drive/gpt2/python/examples (1)/gaussian_process/plot_gpc_xor.py\n",
            "/content/gdrive/My Drive/gpt2/python/examples (1)/mixture/plot_gmm.py\n",
            "/content/gdrive/My Drive/gpt2/python/examples (1)/mixture/plot_gmm_selection.py\n",
            "/content/gdrive/My Drive/gpt2/python/examples (1)/mixture/plot_gmm_covariances.py\n",
            "/content/gdrive/My Drive/gpt2/python/examples (1)/mixture/plot_gmm_pdf.py\n",
            "/content/gdrive/My Drive/gpt2/python/examples (1)/mixture/plot_concentration_prior.py\n",
            "/content/gdrive/My Drive/gpt2/python/examples (1)/mixture/plot_gmm_sin.py\n"
          ],
          "name": "stdout"
        },
        {
          "output_type": "stream",
          "text": [
            "Token indices sequence length is longer than the specified maximum sequence length for this model (15145 > 1024). Running this sequence through the model will result in indexing errors\n"
          ],
          "name": "stderr"
        },
        {
          "output_type": "stream",
          "text": [
            "/content/gdrive/My Drive/gpt2/python/examples (1)/exercises/plot_cv_digits.py\n",
            "/content/gdrive/My Drive/gpt2/python/examples (1)/exercises/plot_cv_diabetes.py\n",
            "/content/gdrive/My Drive/gpt2/python/examples (1)/exercises/plot_iris_exercise.py\n",
            "/content/gdrive/My Drive/gpt2/python/examples (1)/exercises/plot_digits_classification_exercise.py\n",
            "/content/gdrive/My Drive/gpt2/python/examples (1)/ensemble/plot_adaboost_regression.py\n",
            "/content/gdrive/My Drive/gpt2/python/examples (1)/ensemble/plot_gradient_boosting_early_stopping.py\n",
            "/content/gdrive/My Drive/gpt2/python/examples (1)/ensemble/plot_bias_variance.py\n",
            "/content/gdrive/My Drive/gpt2/python/examples (1)/ensemble/plot_adaboost_hastie_10_2.py\n",
            "/content/gdrive/My Drive/gpt2/python/examples (1)/ensemble/plot_random_forest_regression_multioutput.py\n",
            "/content/gdrive/My Drive/gpt2/python/examples (1)/ensemble/plot_gradient_boosting_regression.py\n"
          ],
          "name": "stdout"
        },
        {
          "output_type": "stream",
          "text": [
            "Token indices sequence length is longer than the specified maximum sequence length for this model (11918 > 1024). Running this sequence through the model will result in indexing errors\n"
          ],
          "name": "stderr"
        },
        {
          "output_type": "stream",
          "text": [
            "/content/gdrive/My Drive/gpt2/python/examples (1)/ensemble/plot_forest_importances.py\n",
            "/content/gdrive/My Drive/gpt2/python/examples (1)/ensemble/plot_gradient_boosting_regularization.py\n",
            "/content/gdrive/My Drive/gpt2/python/examples (1)/ensemble/plot_feature_transformation.py\n",
            "/content/gdrive/My Drive/gpt2/python/examples (1)/ensemble/plot_isolation_forest.py\n",
            "/content/gdrive/My Drive/gpt2/python/examples (1)/ensemble/plot_monotonic_constraints.py\n",
            "/content/gdrive/My Drive/gpt2/python/examples (1)/ensemble/plot_voting_probas.py\n",
            "/content/gdrive/My Drive/gpt2/python/examples (1)/ensemble/plot_stack_predictors.py\n",
            "/content/gdrive/My Drive/gpt2/python/examples (1)/ensemble/plot_random_forest_embedding.py\n",
            "/content/gdrive/My Drive/gpt2/python/examples (1)/ensemble/plot_adaboost_multiclass.py\n",
            "/content/gdrive/My Drive/gpt2/python/examples (1)/ensemble/plot_gradient_boosting_quantile.py\n"
          ],
          "name": "stdout"
        },
        {
          "output_type": "stream",
          "text": [
            "Token indices sequence length is longer than the specified maximum sequence length for this model (13491 > 1024). Running this sequence through the model will result in indexing errors\n"
          ],
          "name": "stderr"
        },
        {
          "output_type": "stream",
          "text": [
            "/content/gdrive/My Drive/gpt2/python/examples (1)/ensemble/plot_forest_iris.py\n",
            "/content/gdrive/My Drive/gpt2/python/examples (1)/ensemble/plot_adaboost_twoclass.py\n",
            "/content/gdrive/My Drive/gpt2/python/examples (1)/ensemble/plot_gradient_boosting_oob.py\n",
            "/content/gdrive/My Drive/gpt2/python/examples (1)/ensemble/plot_forest_importances_faces.py\n",
            "/content/gdrive/My Drive/gpt2/python/examples (1)/ensemble/plot_voting_decision_regions.py\n",
            "/content/gdrive/My Drive/gpt2/python/examples (1)/ensemble/plot_voting_regressor.py\n",
            "/content/gdrive/My Drive/gpt2/python/examples (1)/ensemble/plot_ensemble_oob.py\n",
            "/content/gdrive/My Drive/gpt2/python/examples (1)/neighbors/plot_nca_classification.py\n",
            "/content/gdrive/My Drive/gpt2/python/examples (1)/neighbors/plot_nca_illustration.py\n",
            "/content/gdrive/My Drive/gpt2/python/examples (1)/neighbors/plot_species_kde.py\n"
          ],
          "name": "stdout"
        },
        {
          "output_type": "stream",
          "text": [
            "Token indices sequence length is longer than the specified maximum sequence length for this model (13988 > 1024). Running this sequence through the model will result in indexing errors\n"
          ],
          "name": "stderr"
        },
        {
          "output_type": "stream",
          "text": [
            "/content/gdrive/My Drive/gpt2/python/examples (1)/neighbors/plot_lof_novelty_detection.py\n",
            "/content/gdrive/My Drive/gpt2/python/examples (1)/neighbors/plot_nearest_centroid.py\n",
            "/content/gdrive/My Drive/gpt2/python/examples (1)/neighbors/plot_caching_nearest_neighbors.py\n",
            "/content/gdrive/My Drive/gpt2/python/examples (1)/neighbors/approximate_nearest_neighbors.py\n",
            "/content/gdrive/My Drive/gpt2/python/examples (1)/neighbors/plot_kde_1d.py\n",
            "/content/gdrive/My Drive/gpt2/python/examples (1)/neighbors/plot_classification.py\n",
            "/content/gdrive/My Drive/gpt2/python/examples (1)/neighbors/plot_nca_dim_reduction.py\n",
            "/content/gdrive/My Drive/gpt2/python/examples (1)/neighbors/plot_digits_kde_sampling.py\n",
            "/content/gdrive/My Drive/gpt2/python/examples (1)/neighbors/plot_regression.py\n",
            "/content/gdrive/My Drive/gpt2/python/examples (1)/neighbors/plot_lof_outlier_detection.py\n"
          ],
          "name": "stdout"
        },
        {
          "output_type": "stream",
          "text": [
            "Token indices sequence length is longer than the specified maximum sequence length for this model (14353 > 1024). Running this sequence through the model will result in indexing errors\n"
          ],
          "name": "stderr"
        },
        {
          "output_type": "stream",
          "text": [
            "/content/gdrive/My Drive/gpt2/python/examples (1)/semi_supervised/plot_label_propagation_structure.py\n",
            "/content/gdrive/My Drive/gpt2/python/examples (1)/semi_supervised/plot_label_propagation_digits_active_learning.py\n",
            "/content/gdrive/My Drive/gpt2/python/examples (1)/semi_supervised/plot_label_propagation_digits.py\n",
            "/content/gdrive/My Drive/gpt2/python/examples (1)/semi_supervised/plot_label_propagation_versus_svm_iris.py\n",
            "/content/gdrive/My Drive/gpt2/python/examples (1)/neural_networks/plot_mlp_training_curves.py\n",
            "/content/gdrive/My Drive/gpt2/python/examples (1)/neural_networks/plot_rbm_logistic_classification.py\n",
            "/content/gdrive/My Drive/gpt2/python/examples (1)/neural_networks/plot_mnist_filters.py\n",
            "/content/gdrive/My Drive/gpt2/python/examples (1)/neural_networks/plot_mlp_alpha.py\n",
            "/content/gdrive/My Drive/gpt2/python/examples (1)/tree/plot_iris_dtc.py\n",
            "/content/gdrive/My Drive/gpt2/python/examples (1)/tree/plot_cost_complexity_pruning.py\n"
          ],
          "name": "stdout"
        },
        {
          "output_type": "stream",
          "text": [
            "Token indices sequence length is longer than the specified maximum sequence length for this model (12618 > 1024). Running this sequence through the model will result in indexing errors\n"
          ],
          "name": "stderr"
        },
        {
          "output_type": "stream",
          "text": [
            "/content/gdrive/My Drive/gpt2/python/examples (1)/tree/plot_tree_regression.py\n",
            "/content/gdrive/My Drive/gpt2/python/examples (1)/tree/plot_unveil_tree_structure.py\n",
            "/content/gdrive/My Drive/gpt2/python/examples (1)/tree/plot_tree_regression_multioutput.py\n",
            "/content/gdrive/My Drive/gpt2/python/examples (1)/multioutput/plot_classifier_chain_yeast.py\n",
            "/content/gdrive/My Drive/gpt2/python/examples (1)/release_highlights/plot_release_highlights_0_22_0.py\n",
            "/content/gdrive/My Drive/gpt2/python/examples (1)/release_highlights/plot_release_highlights_0_23_0.py\n",
            "/content/gdrive/My Drive/gpt2/python/examples (1)/svm/plot_svm_tie_breaking.py\n",
            "/content/gdrive/My Drive/gpt2/python/examples (1)/svm/plot_custom_kernel.py\n",
            "/content/gdrive/My Drive/gpt2/python/examples (1)/svm/plot_svm_regression.py\n",
            "/content/gdrive/My Drive/gpt2/python/examples (1)/svm/plot_svm_margin.py\n"
          ],
          "name": "stdout"
        },
        {
          "output_type": "stream",
          "text": [
            "Token indices sequence length is longer than the specified maximum sequence length for this model (14476 > 1024). Running this sequence through the model will result in indexing errors\n"
          ],
          "name": "stderr"
        },
        {
          "output_type": "stream",
          "text": [
            "/content/gdrive/My Drive/gpt2/python/examples (1)/svm/plot_rbf_parameters.py\n",
            "/content/gdrive/My Drive/gpt2/python/examples (1)/svm/plot_separating_hyperplane_unbalanced.py\n",
            "/content/gdrive/My Drive/gpt2/python/examples (1)/svm/plot_svm_anova.py\n",
            "/content/gdrive/My Drive/gpt2/python/examples (1)/svm/plot_weighted_samples.py\n",
            "/content/gdrive/My Drive/gpt2/python/examples (1)/svm/plot_iris_svc.py\n",
            "/content/gdrive/My Drive/gpt2/python/examples (1)/svm/plot_svm_scale_c.py\n",
            "/content/gdrive/My Drive/gpt2/python/examples (1)/svm/plot_svm_nonlinear.py\n",
            "/content/gdrive/My Drive/gpt2/python/examples (1)/svm/plot_oneclass.py\n",
            "/content/gdrive/My Drive/gpt2/python/examples (1)/svm/plot_svm_kernels.py\n",
            "/content/gdrive/My Drive/gpt2/python/examples (1)/svm/plot_separating_hyperplane.py\n"
          ],
          "name": "stdout"
        },
        {
          "output_type": "stream",
          "text": [
            "Token indices sequence length is longer than the specified maximum sequence length for this model (11432 > 1024). Running this sequence through the model will result in indexing errors\n"
          ],
          "name": "stderr"
        },
        {
          "output_type": "stream",
          "text": [
            "/content/gdrive/My Drive/gpt2/python/examples (1)/svm/plot_linearsvc_support_vectors.py\n",
            "/content/gdrive/My Drive/gpt2/python/examples (1)/text/plot_document_classification_20newsgroups.py\n",
            "/content/gdrive/My Drive/gpt2/python/examples (1)/text/plot_document_clustering.py\n",
            "/content/gdrive/My Drive/gpt2/python/examples (1)/text/plot_hashing_vs_dict_vectorizer.py\n",
            "/content/gdrive/My Drive/gpt2/python/examples (1)/preprocessing/plot_scaling_importance.py\n",
            "/content/gdrive/My Drive/gpt2/python/examples (1)/preprocessing/plot_all_scaling.py\n",
            "/content/gdrive/My Drive/gpt2/python/examples (1)/preprocessing/plot_discretization_strategies.py\n",
            "/content/gdrive/My Drive/gpt2/python/examples (1)/preprocessing/plot_map_data_to_normal.py\n",
            "/content/gdrive/My Drive/gpt2/python/examples (1)/preprocessing/plot_discretization_classification.py\n",
            "/content/gdrive/My Drive/gpt2/python/examples (1)/preprocessing/plot_discretization.py\n"
          ],
          "name": "stdout"
        },
        {
          "output_type": "stream",
          "text": [
            "Token indices sequence length is longer than the specified maximum sequence length for this model (22858 > 1024). Running this sequence through the model will result in indexing errors\n"
          ],
          "name": "stderr"
        },
        {
          "output_type": "stream",
          "text": [
            "/content/gdrive/My Drive/gpt2/python/examples (1)/model_selection/plot_underfitting_overfitting.py\n",
            "/content/gdrive/My Drive/gpt2/python/examples (1)/model_selection/grid_search_text_feature_extraction.py\n",
            "/content/gdrive/My Drive/gpt2/python/examples (1)/model_selection/plot_nested_cross_validation_iris.py\n",
            "/content/gdrive/My Drive/gpt2/python/examples (1)/model_selection/plot_grid_search_digits.py\n",
            "/content/gdrive/My Drive/gpt2/python/examples (1)/model_selection/plot_validation_curve.py\n",
            "/content/gdrive/My Drive/gpt2/python/examples (1)/model_selection/plot_precision_recall.py\n",
            "/content/gdrive/My Drive/gpt2/python/examples (1)/model_selection/plot_learning_curve.py\n",
            "/content/gdrive/My Drive/gpt2/python/examples (1)/model_selection/plot_roc.py\n",
            "/content/gdrive/My Drive/gpt2/python/examples (1)/model_selection/plot_grid_search_refit_callable.py\n",
            "/content/gdrive/My Drive/gpt2/python/examples (1)/model_selection/plot_multi_metric_evaluation.py\n"
          ],
          "name": "stdout"
        },
        {
          "output_type": "stream",
          "text": [
            "Token indices sequence length is longer than the specified maximum sequence length for this model (16609 > 1024). Running this sequence through the model will result in indexing errors\n"
          ],
          "name": "stderr"
        },
        {
          "output_type": "stream",
          "text": [
            "/content/gdrive/My Drive/gpt2/python/examples (1)/model_selection/plot_randomized_search.py\n",
            "/content/gdrive/My Drive/gpt2/python/examples (1)/model_selection/plot_det.py\n",
            "/content/gdrive/My Drive/gpt2/python/examples (1)/model_selection/plot_confusion_matrix.py\n",
            "/content/gdrive/My Drive/gpt2/python/examples (1)/model_selection/plot_cv_predict.py\n",
            "/content/gdrive/My Drive/gpt2/python/examples (1)/model_selection/plot_train_error_vs_test_error.py\n",
            "/content/gdrive/My Drive/gpt2/python/examples (1)/model_selection/plot_cv_indices.py\n",
            "/content/gdrive/My Drive/gpt2/python/examples (1)/model_selection/plot_roc_crossval.py\n",
            "/content/gdrive/My Drive/gpt2/python/linear-attention-transformer-master/setup.py\n",
            "/content/gdrive/My Drive/gpt2/python/linear-attention-transformer-master/examples/enwik8_deepspeed/train.py\n",
            "/content/gdrive/My Drive/gpt2/python/linear-attention-transformer-master/examples/toy_tasks/copy_task.py\n"
          ],
          "name": "stdout"
        },
        {
          "output_type": "stream",
          "text": [
            "Token indices sequence length is longer than the specified maximum sequence length for this model (10271 > 1024). Running this sequence through the model will result in indexing errors\n"
          ],
          "name": "stderr"
        },
        {
          "output_type": "stream",
          "text": [
            "/content/gdrive/My Drive/gpt2/python/linear-attention-transformer-master/examples/enwik8_simple/train.py\n",
            "/content/gdrive/My Drive/gpt2/python/linear-attention-transformer-master/linear_attention_transformer/images.py\n",
            "/content/gdrive/My Drive/gpt2/python/linear-attention-transformer-master/linear_attention_transformer/autoregressive_wrapper.py\n",
            "/content/gdrive/My Drive/gpt2/python/linear-attention-transformer-master/linear_attention_transformer/reversible.py\n",
            "/content/gdrive/My Drive/gpt2/python/linear-attention-transformer-master/linear_attention_transformer/autopadder.py\n",
            "/content/gdrive/My Drive/gpt2/python/linear-attention-transformer-master/linear_attention_transformer/__init__.py\n",
            "/content/gdrive/My Drive/gpt2/python/linear-attention-transformer-master/linear_attention_transformer/linear_attention_transformer.py\n"
          ],
          "name": "stdout"
        }
      ]
    },
    {
      "cell_type": "code",
      "metadata": {
        "id": "Lezf8HWkboOA"
      },
      "source": [
        "import numpy as np\n",
        "import torch\n",
        "from torch.utils.data import DataLoader, Dataset, SequentialSampler, RandomSampler\n",
        "from torch.utils.data.distributed import DistributedSampler\n",
        "#from tensorboardX import SummaryWriter\n",
        "from tqdm import tqdm, trange\n",
        "\n",
        "from transformers import (\n",
        "    MODEL_WITH_LM_HEAD_MAPPING,\n",
        "    WEIGHTS_NAME,\n",
        "    AdamW,\n",
        "    AutoConfig,\n",
        "    AutoModelWithLMHead,\n",
        "    AutoTokenizer,\n",
        "    PreTrainedModel,\n",
        "    PreTrainedTokenizer,\n",
        "    get_linear_schedule_with_warmup,\n",
        ")"
      ],
      "execution_count": null,
      "outputs": []
    },
    {
      "cell_type": "code",
      "metadata": {
        "id": "sF6qcHrHbqG5"
      },
      "source": [
        "class LineByLineTextDataset(Dataset):\n",
        "    def __init__(self):\n",
        "        #assert os.path.isfile(file_path)\n",
        "        # Here, we do not cache the features, operating under the assumption\n",
        "        # that we will soon use fast multithreaded tokenizers from the\n",
        "        # `tokenizers` repo everywhere =)\n",
        "       # logger.info(\"Creating features from dataset file at %s\", file_path)\n",
        "        self.examples = examples\n",
        "\n",
        "    def __len__(self):\n",
        "        return len(self.examples)\n",
        "\n",
        "    def __getitem__(self, i):\n",
        "        return torch.tensor(self.examples[i], dtype=torch.long)"
      ],
      "execution_count": null,
      "outputs": []
    },
    {
      "cell_type": "code",
      "metadata": {
        "id": "Xa3A-fYXbroX"
      },
      "source": [
        "batch_size = 4\n",
        "train_dataset = LineByLineTextDataset()\n",
        "train_sampler = RandomSampler(train_dataset)\n",
        "train_dataloader = DataLoader(\n",
        "        train_dataset, sampler=train_sampler, batch_size=batch_size)"
      ],
      "execution_count": null,
      "outputs": []
    },
    {
      "cell_type": "code",
      "metadata": {
        "id": "8rDLkvvabtNw"
      },
      "source": [
        "num_train_epochs = 5\n",
        "weight_decay = 0.0\n",
        "learning_rate = 1e-4 \n",
        "adam_epsilon = 1e-8\n",
        "warmup_steps = 5000\n",
        "\n",
        "t_total = (len(examples) // batch_size ) * float(num_train_epochs)\n",
        "no_decay = [\"bias\", \"LayerNorm.weight\"]\n",
        "optimizer_grouped_parameters = [\n",
        "        {\n",
        "            \"params\": [p for n, p in model.named_parameters() if not any(nd in n for nd in no_decay)],\n",
        "            \"weight_decay\": weight_decay,\n",
        "        },\n",
        "        {\"params\": [p for n, p in model.named_parameters() if any(nd in n for nd in no_decay)], \"weight_decay\": 0.0},\n",
        "    ]\n",
        "optimizer = AdamW(optimizer_grouped_parameters, lr=learning_rate, eps=adam_epsilon)\n",
        "scheduler = get_linear_schedule_with_warmup(\n",
        "        optimizer, num_warmup_steps=warmup_steps, num_training_steps=t_total\n",
        "    )"
      ],
      "execution_count": null,
      "outputs": []
    },
    {
      "cell_type": "code",
      "metadata": {
        "id": "l7pL15bW33QV",
        "colab": {
          "base_uri": "https://localhost:8080/",
          "height": 71
        },
        "outputId": "def30499-ddb5-4ad2-f040-d750525e168d"
      },
      "source": [
        "optimizer.load_state_dict(torch.load(os.path.join(output_dir, 'optimizer.pt')))\n",
        "scheduler.load_state_dict(torch.load(os.path.join(output_dir, 'scheduler.pt')))"
      ],
      "execution_count": null,
      "outputs": [
        {
          "output_type": "stream",
          "text": [
            "/usr/local/lib/python3.6/dist-packages/torch/optim/lr_scheduler.py:218: UserWarning: Please also save or load the state of the optimzer when saving or loading the scheduler.\n",
            "  warnings.warn(SAVE_STATE_WARNING, UserWarning)\n"
          ],
          "name": "stderr"
        }
      ]
    },
    {
      "cell_type": "code",
      "metadata": {
        "id": "9fkeYE9LbuoZ"
      },
      "source": [
        "from torch import cuda\n",
        "device = 'cuda' if cuda.is_available() else 'cpu'\n",
        "model = model.to(device)\n"
      ],
      "execution_count": null,
      "outputs": []
    },
    {
      "cell_type": "code",
      "metadata": {
        "id": "DiwQLKIXbzCg",
        "colab": {
          "base_uri": "https://localhost:8080/",
          "height": 527
        },
        "outputId": "bfe2b3b3-be83-4e7e-b4d6-6215533749f0"
      },
      "source": [
        "output_dir = '/content/gdrive/My Drive/gpt2_medium_code_sujj/'\n",
        "model.train()\n",
        "epochs = 3\n",
        "total_train_loss = 0.0\n",
        "for epoc in range(epochs):\n",
        "    for step, batch in enumerate(train_dataloader):\n",
        "        inputs, labels = (batch,batch)\n",
        "        inputs = inputs.to(device)\n",
        "        labels = labels.to(device)   \n",
        "        outputs = model(inputs, labels=labels)\n",
        "        loss = outputs[0]  \n",
        "        optimizer.zero_grad()\n",
        "        loss.backward()\n",
        "        total_train_loss += loss.item()\n",
        "       # tr_loss += loss.detach().data\n",
        "        optimizer.step()\n",
        "        scheduler.step()\n",
        "        \n",
        "    \n",
        "        if step % 100 == 0:\n",
        "            print(\"batch :\" + str(step)+ \"Training Loss: \" +str(total_train_loss))\n",
        "        if (step+1) % 5000 == 0:\n",
        "            model_to_save = model.module if hasattr(model, 'module') else model  # Take care of distributed/parallel training\n",
        "            model_to_save.save_pretrained(output_dir)\n",
        "            tokenizer.save_pretrained(output_dir)\n",
        "            torch.save(optimizer.state_dict(), os.path.join(output_dir, 'optimizer.pt'))\n",
        "            torch.save(scheduler.state_dict(), os.path.join(output_dir, 'scheduler.pt'))\n",
        "           \n",
        "    avg_train_loss = total_train_loss / len(examples)\n",
        "    print(\"traing loss epoch\"+str(epoc+1)+\":\"+str(avg_train_loss)) \n",
        "    model_to_save = model.module if hasattr(model, 'module') else model  # Take care of distributed/parallel training\n",
        "    model_to_save.save_pretrained(output_dir)\n",
        "    tokenizer.save_pretrained(output_dir)\n",
        "    torch.save(optimizer.state_dict(), os.path.join(output_dir, 'optimizer.pt'))\n",
        "    torch.save(scheduler.state_dict(), os.path.join(output_dir, 'scheduler.pt'))"
      ],
      "execution_count": null,
      "outputs": [
        {
          "output_type": "stream",
          "text": [
            "batch :0Training Loss: 0.08727022260427475\n",
            "batch :100Training Loss: 9.884826745837927\n",
            "batch :200Training Loss: 19.584093764424324\n",
            "batch :300Training Loss: 29.767438378185034\n",
            "batch :400Training Loss: 39.59177878499031\n",
            "batch :500Training Loss: 49.57228745147586\n",
            "batch :600Training Loss: 59.691949654370546\n",
            "batch :700Training Loss: 69.82614168152213\n",
            "batch :800Training Loss: 80.24488612264395\n",
            "batch :900Training Loss: 90.76339295506477\n",
            "batch :1000Training Loss: 100.95540169626474\n",
            "batch :1100Training Loss: 111.35000174492598\n",
            "batch :1200Training Loss: 121.83429220318794\n",
            "batch :1300Training Loss: 132.27930323779583\n",
            "batch :1400Training Loss: 142.45089575648308\n",
            "batch :1500Training Loss: 152.89772475510836\n",
            "batch :1600Training Loss: 163.57027102261782\n",
            "batch :1700Training Loss: 173.57320376858115\n",
            "batch :1800Training Loss: 184.01502855867147\n",
            "batch :1900Training Loss: 194.16860040277243\n",
            "batch :2000Training Loss: 204.60015869885683\n",
            "batch :2100Training Loss: 214.73728938400745\n",
            "batch :2200Training Loss: 224.98547238111496\n",
            "batch :2300Training Loss: 234.9998158365488\n",
            "batch :2400Training Loss: 245.89740411937237\n",
            "batch :2500Training Loss: 256.37509587034583\n",
            "batch :2600Training Loss: 266.9894804544747\n",
            "batch :2700Training Loss: 277.5382308587432\n",
            "batch :2800Training Loss: 287.7414986267686\n",
            "batch :2900Training Loss: 298.07937123999\n"
          ],
          "name": "stdout"
        }
      ]
    }
  ]
}